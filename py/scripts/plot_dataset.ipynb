{
 "cells": [
  {
   "cell_type": "code",
   "execution_count": 1,
   "metadata": {
    "collapsed": false,
    "deletable": true,
    "editable": true
   },
   "outputs": [],
   "source": [
    "from matplotlib import pyplot as plt, rcParams as mpl_params, patches as mpl_patches, lines as mpl_lines\n",
    "%matplotlib qt\n",
    "mpl_params['axes.labelsize'] = 30\n",
    "mpl_params['xtick.labelsize'] = 20\n",
    "mpl_params['ytick.labelsize'] = 20\n",
    "mpl_params['legend.fontsize'] = 15\n",
    "mpl_params['legend.numpoints'] = 1\n",
    "from shelve import open as open_shelve"
   ]
  },
  {
   "cell_type": "code",
   "execution_count": 11,
   "metadata": {
    "collapsed": false,
    "deletable": true,
    "editable": true
   },
   "outputs": [],
   "source": [
    "dataset = open_shelve('../examples/karnin/dataset_karnin.ds')"
   ]
  },
  {
   "cell_type": "code",
   "execution_count": 13,
   "metadata": {
    "collapsed": false,
    "deletable": true,
    "editable": true
   },
   "outputs": [
    {
     "name": "stdout",
     "output_type": "stream",
     "text": [
      "training 0: 808\n",
      "training 1: 792\n",
      "validation 0: 105\n",
      "validation 1: 95\n",
      "testing 0: 93\n",
      "testing 1: 107\n"
     ]
    }
   ],
   "source": [
    "plt.plot([-2, 2], [0, 0], '--', color='gray')\n",
    "plt.plot([0, 0], [-2, 2], '--', color='gray')\n",
    "\n",
    "\n",
    "plt.plot([-2, 2], [dataset['b'], dataset['b']], '-', color='darkgreen')\n",
    "plt.plot([dataset['a'], dataset['a']], [-2, 2], '-', color='darkgreen')\n",
    "plt.text(dataset['a']+0.07, -1.15, 'a', fontsize=20, color='darkgreen')\n",
    "plt.text(-1.15, dataset['b']-0.2, 'b', fontsize=20, color='darkgreen')\n",
    "\n",
    "\n",
    "colors = {0.0: 'b', 1.0: 'r'}\n",
    "for x, y in zip(dataset['x'], dataset['y']):\n",
    "    plt.plot(x[0][0], x[1][0], '+', color=colors[y])\n",
    "\n",
    "for x, y in zip(dataset['x_val'], dataset['y_val']):\n",
    "    plt.plot(x[0][0], x[1][0], 'x', color=colors[y])\n",
    "    \n",
    "for x, y in zip(dataset['x_test'], dataset['y_test']):\n",
    "    plt.plot(x[0][0], x[1][0], '*', color=colors[y])\n",
    "\n",
    "plt.xlabel('$x_1$')\n",
    "plt.xlim([-1.2, 2])\n",
    "plt.ylabel('$x_2$')\n",
    "plt.ylim([-1.2, 2])\n",
    "\n",
    "blue_patch = mpl_patches.Patch(color='blue', label='class 0')\n",
    "red_patch = mpl_patches.Patch(color='red', label='class 1')\n",
    "training_plus = mpl_lines.Line2D([], [], color='black', marker='+', markersize=15, label='training data', linewidth=0)\n",
    "validation_cross = mpl_lines.Line2D([], [], color='black', marker='x', markersize=15, label='validation data', linewidth=0)\n",
    "testing_star = mpl_lines.Line2D([], [], color='black', marker='*', markersize=15, label='testing data', linewidth=0)\n",
    "plt.legend(handles=[blue_patch, red_patch, training_plus, validation_cross, testing_star])\n",
    "\n",
    "plt.grid()\n",
    "plt.show()\n",
    "\n",
    "print 'training 0:', len([y for y in dataset['y'] if y == 0])\n",
    "print 'training 1:', len([y for y in dataset['y'] if y == 1])\n",
    "print 'validation 0:', len([y for y in dataset['y_val'] if y == 0])\n",
    "print 'validation 1:', len([y for y in dataset['y_val'] if y == 1])\n",
    "print 'testing 0:', len([y for y in dataset['y_test'] if y == 0])\n",
    "print 'testing 1:', len([y for y in dataset['y_test'] if y == 1])"
   ]
  }
 ],
 "metadata": {
  "kernelspec": {
   "display_name": "Python 2",
   "language": "python",
   "name": "python2"
  },
  "language_info": {
   "codemirror_mode": {
    "name": "ipython",
    "version": 2.0
   },
   "file_extension": ".py",
   "mimetype": "text/x-python",
   "name": "python",
   "nbconvert_exporter": "python",
   "pygments_lexer": "ipython2",
   "version": "2.7.12"
  }
 },
 "nbformat": 4,
 "nbformat_minor": 0
}