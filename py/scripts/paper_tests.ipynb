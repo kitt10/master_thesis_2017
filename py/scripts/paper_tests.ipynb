{
 "cells": [
  {
   "cell_type": "code",
   "execution_count": 1,
   "metadata": {
    "collapsed": false,
    "deletable": true,
    "editable": true
   },
   "outputs": [],
   "source": [
    "from shelve import open as open_shelve\n",
    "from matplotlib import pyplot as plt\n",
    "%matplotlib qt\n",
    "from kitt_net import FeedForwardNet\n",
    "from sklearn.metrics import confusion_matrix, accuracy_score\n",
    "from numpy import newaxis, zeros"
   ]
  },
  {
   "cell_type": "code",
   "execution_count": 2,
   "metadata": {
    "collapsed": true,
    "deletable": true,
    "editable": true
   },
   "outputs": [],
   "source": [
    "dataset = open_shelve('../examples/mnist/dataset_mnist_2K.ds')"
   ]
  },
  {
   "cell_type": "code",
   "execution_count": 1,
   "metadata": {
    "collapsed": true,
    "deletable": true,
    "editable": true
   },
   "outputs": [
    {
     "ename": "NameError",
     "evalue": "name 'dataset' is not defined",
     "output_type": "error",
     "traceback": [
      "\u001b[0;31m--------------------------------------------------------------------------\u001b[0m",
      "\u001b[0;31mNameError\u001b[0m                                Traceback (most recent call last)",
      "\u001b[0;32m<ipython-input-1-2e99b30e94e6>\u001b[0m in \u001b[0;36m<module>\u001b[0;34m()\u001b[0m\n\u001b[1;32m      1\u001b[0m \u001b[0mhow\u001b[0m \u001b[0;34m=\u001b[0m \u001b[0;34m{\u001b[0m\u001b[0;36m1\u001b[0m\u001b[0;34m:\u001b[0m \u001b[0;34m'b.'\u001b[0m\u001b[0;34m,\u001b[0m \u001b[0;34m-\u001b[0m\u001b[0;36m1\u001b[0m\u001b[0;34m:\u001b[0m \u001b[0;34m'r.'\u001b[0m\u001b[0;34m}\u001b[0m\u001b[0;34m\u001b[0m\u001b[0m\n\u001b[0;32m----> 2\u001b[0;31m \u001b[0;32mfor\u001b[0m \u001b[0mx\u001b[0m\u001b[0;34m,\u001b[0m \u001b[0my\u001b[0m \u001b[0;32min\u001b[0m \u001b[0mzip\u001b[0m\u001b[0;34m(\u001b[0m\u001b[0mdataset\u001b[0m\u001b[0;34m[\u001b[0m\u001b[0;34m'x'\u001b[0m\u001b[0;34m]\u001b[0m\u001b[0;34m,\u001b[0m \u001b[0mdataset\u001b[0m\u001b[0;34m[\u001b[0m\u001b[0;34m'y'\u001b[0m\u001b[0;34m]\u001b[0m\u001b[0;34m)\u001b[0m\u001b[0;34m:\u001b[0m\u001b[0;34m\u001b[0m\u001b[0m\n\u001b[0m\u001b[1;32m      3\u001b[0m     \u001b[0mplt\u001b[0m\u001b[0;34m.\u001b[0m\u001b[0mplot\u001b[0m\u001b[0;34m(\u001b[0m\u001b[0mx\u001b[0m\u001b[0;34m[\u001b[0m\u001b[0;36m0\u001b[0m\u001b[0;34m]\u001b[0m\u001b[0;34m,\u001b[0m \u001b[0mx\u001b[0m\u001b[0;34m[\u001b[0m\u001b[0;36m1\u001b[0m\u001b[0;34m]\u001b[0m\u001b[0;34m,\u001b[0m \u001b[0mhow\u001b[0m\u001b[0;34m[\u001b[0m\u001b[0my\u001b[0m\u001b[0;34m]\u001b[0m\u001b[0;34m)\u001b[0m\u001b[0;34m\u001b[0m\u001b[0m\n\u001b[1;32m      4\u001b[0m \u001b[0mplt\u001b[0m\u001b[0;34m.\u001b[0m\u001b[0mgrid\u001b[0m\u001b[0;34m(\u001b[0m\u001b[0;34m)\u001b[0m\u001b[0;34m\u001b[0m\u001b[0m\n\u001b[1;32m      5\u001b[0m \u001b[0mplt\u001b[0m\u001b[0;34m.\u001b[0m\u001b[0mshow\u001b[0m\u001b[0;34m(\u001b[0m\u001b[0;34m)\u001b[0m\u001b[0;34m\u001b[0m\u001b[0m\n",
      "\u001b[0;31mNameError\u001b[0m: name 'dataset' is not defined"
     ]
    }
   ],
   "source": [
    "how = {1: 'b.', -1: 'r.'}\n",
    "for x, y in zip(dataset['x'], dataset['y']):\n",
    "    plt.plot(x[0], x[1], how[y])\n",
    "plt.grid()\n",
    "plt.show()"
   ]
  },
  {
   "cell_type": "code",
   "execution_count": 3,
   "metadata": {
    "collapsed": true,
    "deletable": true,
    "editable": true
   },
   "outputs": [],
   "source": [
    "net = FeedForwardNet(hidden=[20], tf_name='Sigmoid')"
   ]
  },
  {
   "cell_type": "code",
   "execution_count": 4,
   "metadata": {
    "collapsed": false,
    "deletable": true,
    "editable": true
   },
   "outputs": [
    {
     "name": "stdout",
     "output_type": "stream",
     "text": [
      "\u001b[34m\n",
      "--------------------------------------------------------------------\u001b[0m\n",
      "\u001b[34m-- Network initialized.\u001b[0m\n",
      "\u001b[34m\t% problem dimension: \u001b[0m784\n",
      "\u001b[34m\t% number of classes: \u001b[0m10\n",
      "\u001b[34m\t% class labels: \u001b[0m[0, 1, 2, 3, 4, 5, 6, 7, 8, 9]\n",
      "\u001b[34m\t% net structure: \u001b[0m[784, 20, 10]\n",
      "\u001b[34m\t% net transfer function: \u001b[0mSigmoid\n",
      "\u001b[34m\n",
      "--------------------------------------------------------------------\u001b[0m\n",
      "\u001b[34m-- Learning has started...\u001b[0m\n",
      "\u001b[34m\t% problem dimension: \u001b[0m784\n",
      "\u001b[34m\t% number of training samples: \u001b[0m20000\n",
      "\u001b[34m\t% number of validation samples: \u001b[0m10000\n",
      "\u001b[34m\t% learning rate: \u001b[0m0.3\n",
      "\u001b[34m\t% mini-batch size: \u001b[0m16\n",
      "\u001b[34m\t% maximum number of epochs (t.c.): \u001b[0m3\n",
      "\u001b[34m\t% maximum number of stable epochs (t.c.): \u001b[0minf\n",
      "\u001b[34m\t% required accuracy (t.c.): \u001b[0minf\n",
      "\u001b[34m\t% required error (t.c.): \u001b[0m-inf\n",
      "\n",
      "\n",
      "epoch   on training data      on validation data       epoch time          \n",
      "-------------------------------------------------------------------\n",
      " 1\t  \u001b[32m0.79\u001b[0m/\u001b[31m0.0143\u001b[0m\u001b[32m\t\t0.80\u001b[0m/\u001b[31m0.0138\u001b[0m\t\t\u001b[36m3.6630 s\u001b[0m\n",
      " 2\t  \u001b[32m0.90\u001b[0m/\u001b[31m0.0082\u001b[0m\u001b[32m\t\t0.90\u001b[0m/\u001b[31m0.0082\u001b[0m\t\t\u001b[36m3.6785 s\u001b[0m\n",
      " 3\t  \u001b[32m0.91\u001b[0m/\u001b[31m0.0072\u001b[0m\u001b[32m\t\t0.91\u001b[0m/\u001b[31m0.0075\u001b[0m\t\t\u001b[36m3.6978 s\u001b[0m\n",
      "\u001b[34m\n",
      "--------------------------------------------------------------------\u001b[0m\n",
      "\u001b[34m-- Learning finished in 11.0393s. Given number of epochs performed.\u001b[0m\n"
     ]
    }
   ],
   "source": [
    "n_epoch = 3\n",
    "learning_rate = 0.3\n",
    "net.fit(x=dataset['x'], y=dataset['y'], x_val=dataset['x_val'], y_val=dataset['y_val'],\n",
    "       learning_rate=learning_rate, n_epoch=n_epoch, batch_size=16)"
   ]
  },
  {
   "cell_type": "code",
   "execution_count": 20,
   "metadata": {
    "collapsed": false,
    "deletable": true,
    "editable": true
   },
   "outputs": [
    {
     "name": "stdout",
     "output_type": "stream",
     "text": [
      "[array([[ 4144.69669904,  8142.66407088,  -181.22122115,   192.60513786],\n",
      "       [ 4355.77392173,  2038.69191119,  -123.66912155,    17.72412337],\n",
      "       [  916.08618035,   272.07482858,   332.18451858,   692.9974425 ]]), array([[ 11531.50754774,  10746.17695456,   2411.70462884],\n",
      "       [  9204.65668354,   6555.84540512,   2473.74145156]])]\n"
     ]
    }
   ],
   "source": [
    "# Karnin sensitivities\n",
    "s = [zeros(shape=w_i.shape) for w_i in net.w]\n",
    "for ep_i in range(n_epoch):\n",
    "    for l_i in range(len(s)):\n",
    "        s[l_i] += net.dw_container[l_i][ep_i]**2 * (net.w[l_i]/(learning_rate*(net.w[l_i]-net.w_init[l_i])))\n",
    "\n",
    "print s"
   ]
  },
  {
   "cell_type": "code",
   "execution_count": null,
   "metadata": {
    "collapsed": false,
    "deletable": true,
    "editable": true
   },
   "outputs": [
    {
     "name": "stdout",
     "output_type": "stream",
     "text": [
      "\u001b[34m\n",
      "--------------------------------------------------------------------\u001b[0m\n",
      "\u001b[34m-- Pruning has started...\u001b[0m\n",
      "\u001b[34m\t% net initial structure: \u001b[0m[784, 20, 10]\n",
      "\u001b[34m\t% net initial number of synapses (w, b): \u001b[0m(15880, 30)\n",
      "\u001b[34m\t% min required accuracy (s.c.): \u001b[0m0.88\n",
      "\u001b[34m\t% max required error (s.c.): \u001b[0m0.0\n",
      "\u001b[34m\t% maximum number of re-training epochs (gu.c.): \u001b[0m5\n",
      "\u001b[34m\t% number of stable iterations (gu.c.): \u001b[0m10\n",
      "\n",
      "\n",
      "step    trying to cut     structure           left synapses (w/b)    retrained      next level     step time      \n",
      "--------------------------------------------------------------------------------------------------------------\n",
      "\u001b[33m0       0                 [784, 20, 10]       (15880, 30)            None           75             \u001b[36mNone\u001b[0m  \u001b[0m\n"
     ]
    },
    {
     "name": "stderr",
     "output_type": "stream",
     "text": [
      "/home/kitt/mt_ws/py/kitt_lib/kitt_optimization.py:67: RuntimeWarning: divide by zero encountered in divide\n",
      "  changes_[l_i] += self.vars['net_tmp'].dw_container[l_i][ep_i]**2*(self.vars['net_tmp'].w[l_i]/den)\n",
      "/home/kitt/mt_ws/py/kitt_lib/kitt_optimization.py:67: RuntimeWarning: invalid value encountered in multiply\n",
      "  changes_[l_i] += self.vars['net_tmp'].dw_container[l_i][ep_i]**2*(self.vars['net_tmp'].w[l_i]/den)\n",
      "/home/kitt/mt_ws/py/kitt_lib/kitt_optimization.py:81: RuntimeWarning: invalid value encountered in less_equal\n",
      "  where_ = [logical_and(ch_<=th_, w_is!=0) for ch_, w_is in zip(changes_, self.vars['net_tmp'].w_is)]\n"
     ]
    },
    {
     "name": "stdout",
     "output_type": "stream",
     "text": [
      "2.95733296494\n",
      "\u001b[32m1       10588             [600, 20, 10]       (5292, 30)             yes            75             \u001b[36m40.7443 s\u001b[0m\u001b[0m\n",
      "23.6862386295\n",
      "\u001b[32m2       2649              [398, 20, 10]       (2643, 30)             yes            75             \u001b[36m33.3984 s\u001b[0m\u001b[0m\n",
      "71.9676042715\n",
      "\u001b[31m3       662               [195, 20, 10]       (1981, 30)             no             50             \u001b[36m24.3069 s\u001b[0m\u001b[0m\n",
      "42.9335082435\n",
      "\u001b[32m4       442               [288, 20, 10]       (2201, 30)             yes            50             \u001b[36m31.2988 s\u001b[0m\u001b[0m\n",
      "77.1173400497\n",
      "\u001b[31m5       221               [196, 20, 10]       (1980, 30)             no             35             \u001b[36m26.0172 s\u001b[0m\u001b[0m\n",
      "62.5752010977\n",
      "\u001b[31m6       155               [228, 20, 10]       (2046, 30)             no             20             \u001b[36m28.0586 s\u001b[0m\u001b[0m\n",
      "45.7089482727\n"
     ]
    }
   ],
   "source": [
    "net.prune(req_acc=0.88, n_epoch=5, measure='karnin')"
   ]
  },
  {
   "cell_type": "code",
   "execution_count": 11,
   "metadata": {
    "collapsed": false,
    "deletable": true,
    "editable": true
   },
   "outputs": [
    {
     "name": "stdout",
     "output_type": "stream",
     "text": [
      "Acc: 0.98\n",
      "[[ 1.    0.  ]\n",
      " [ 0.04  0.96]]\n",
      "0 -1.0 [(-1.0, 1.0), (1.0, 0.0)]\n",
      "1 1.0 [(1.0, 0.96), (-1.0, 0.04)]\n"
     ]
    }
   ],
   "source": [
    "labels = [label for label in net.labels if label in dataset['y_val']]\n",
    "y_pred = [net.predict(x)[0][0] for x, y in net.v_data]\n",
    "print 'Acc:', accuracy_score(y_true=dataset['y_val'], y_pred=y_pred)\n",
    "cm = confusion_matrix(y_true=dataset['y_val'], y_pred=y_pred)\n",
    "cm = cm.astype('float') / cm.sum(axis=1)[:, newaxis]\n",
    "plt.imshow(cm, aspect='auto', interpolation='none', vmin=0, vmax=1)\n",
    "plt.xticks(range(len(labels)), labels)\n",
    "plt.yticks(range(len(labels)), labels)\n",
    "plt.grid()\n",
    "plt.colorbar()\n",
    "plt.show()\n",
    "print cm\n",
    "for i in range(cm.shape[0]):\n",
    "    print i, net.labels[i], sorted([(net.labels[j], round(cm[i, j], 2)) for j in range(cm.shape[1])], key=lambda x:x[1], reverse=True)[:5]\n"
   ]
  }
 ],
 "metadata": {
  "kernelspec": {
   "display_name": "Python 2",
   "language": "python",
   "name": "python2"
  },
  "language_info": {
   "codemirror_mode": {
    "name": "ipython",
    "version": 2
   },
   "file_extension": ".py",
   "mimetype": "text/x-python",
   "name": "python",
   "nbconvert_exporter": "python",
   "pygments_lexer": "ipython2",
   "version": "2.7.12"
  }
 },
 "nbformat": 4,
 "nbformat_minor": 2
}
