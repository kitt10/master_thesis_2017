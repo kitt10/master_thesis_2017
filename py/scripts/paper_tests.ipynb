{
 "cells": [
  {
   "cell_type": "code",
   "execution_count": 18,
   "metadata": {
    "collapsed": false,
    "deletable": true,
    "editable": true
   },
   "outputs": [],
   "source": [
    "from shelve import open as open_shelve\n",
    "from matplotlib import pyplot as plt\n",
    "%matplotlib qt\n",
    "from kitt_net import FeedForwardNet\n",
    "from kitt_learning import Backpropagation\n",
    "from sklearn.metrics import confusion_matrix, accuracy_score\n",
    "from numpy import newaxis, zeros"
   ]
  },
  {
   "cell_type": "code",
   "execution_count": 4,
   "metadata": {
    "collapsed": true,
    "deletable": true,
    "editable": true
   },
   "outputs": [],
   "source": [
    "dataset = open_shelve('../examples/mnist/dataset_mnist_2K.ds')"
   ]
  },
  {
   "cell_type": "code",
   "execution_count": 3,
   "metadata": {
    "collapsed": true,
    "deletable": true,
    "editable": true
   },
   "outputs": [],
   "source": [
    "how = {1: 'b.', -1: 'r.'}\n",
    "for x, y in zip(dataset['x'], dataset['y']):\n",
    "    plt.plot(x[0], x[1], how[y])\n",
    "plt.grid()\n",
    "plt.show()"
   ]
  },
  {
   "cell_type": "code",
   "execution_count": 15,
   "metadata": {
    "collapsed": false,
    "deletable": true,
    "editable": true
   },
   "outputs": [],
   "source": [
    "net = FeedForwardNet(hidden=[20], tf_name='Sigmoid')"
   ]
  },
  {
   "cell_type": "code",
   "execution_count": 16,
   "metadata": {
    "collapsed": false,
    "deletable": true,
    "editable": true
   },
   "outputs": [
    {
     "name": "stdout",
     "output_type": "stream",
     "text": [
      "\u001b[34m\n",
      "--------------------------------------------------------------------\u001b[0m\n",
      "\u001b[34m-- Network initialized.\u001b[0m\n",
      "\u001b[34m\t% problem dimension: \u001b[0m784\n",
      "\u001b[34m\t% number of classes: \u001b[0m10\n",
      "\u001b[34m\t% class labels: \u001b[0m[0, 1, 2, 3, 4, 5, 6, 7, 8, 9]\n",
      "\u001b[34m\t% net structure: \u001b[0m[784, 20, 10]\n",
      "\u001b[34m\t% net transfer function: \u001b[0mSigmoid\n",
      "\u001b[34m\n",
      "--------------------------------------------------------------------\u001b[0m\n",
      "\u001b[34m-- Learning has started...\u001b[0m\n",
      "\u001b[34m\t% problem dimension: \u001b[0m784\n",
      "\u001b[34m\t% number of training samples: \u001b[0m20000\n",
      "\u001b[34m\t% number of validation samples: \u001b[0m10000\n",
      "\u001b[34m\t% learning rate: \u001b[0m0.3\n",
      "\u001b[34m\t% mini-batch size: \u001b[0m16\n",
      "\u001b[34m\t% maximum number of epochs (t.c.): \u001b[0m10\n",
      "\u001b[34m\t% maximum number of stable epochs (t.c.): \u001b[0minf\n",
      "\u001b[34m\t% required accuracy (t.c.): \u001b[0minf\n",
      "\u001b[34m\t% required error (t.c.): \u001b[0m-inf\n",
      "\n",
      "\n",
      "epoch   on training data      on validation data       epoch time          \n",
      "-------------------------------------------------------------------\n",
      " 1\t  \u001b[32m0.87\u001b[0m/\u001b[31m0.0102\u001b[0m\u001b[32m\t\t0.88\u001b[0m/\u001b[31m0.0097\u001b[0m\t\t\u001b[36m7.0210 s\u001b[0m\n",
      " 2\t  \u001b[32m0.90\u001b[0m/\u001b[31m0.0081\u001b[0m\u001b[32m\t\t0.90\u001b[0m/\u001b[31m0.0082\u001b[0m\t\t\u001b[36m6.6529 s\u001b[0m\n",
      " 3\t  \u001b[32m0.91\u001b[0m/\u001b[31m0.0072\u001b[0m\u001b[32m\t\t0.90\u001b[0m/\u001b[31m0.0075\u001b[0m\t\t\u001b[36m6.2872 s\u001b[0m\n",
      " 4\t  \u001b[32m0.92\u001b[0m/\u001b[31m0.0062\u001b[0m\u001b[32m\t\t0.91\u001b[0m/\u001b[31m0.0069\u001b[0m\t\t\u001b[36m6.6656 s\u001b[0m\n",
      " 5\t  \u001b[32m0.93\u001b[0m/\u001b[31m0.0056\u001b[0m\u001b[32m\t\t0.92\u001b[0m/\u001b[31m0.0065\u001b[0m\t\t\u001b[36m6.5103 s\u001b[0m\n",
      " 6\t  \u001b[32m0.93\u001b[0m/\u001b[35m0.0058\u001b[0m\u001b[32m\t\t0.92\u001b[0m/\u001b[35m0.0068\u001b[0m\t\t\u001b[36m6.2196 s\u001b[0m\n",
      " 7\t  \u001b[32m0.93\u001b[0m/\u001b[35m0.0059\u001b[0m\u001b[32m\t\t0.91\u001b[0m/\u001b[35m0.0069\u001b[0m\t\t\u001b[36m6.4165 s\u001b[0m\n",
      " 8\t  \u001b[32m0.93\u001b[0m/\u001b[35m0.0056\u001b[0m\u001b[32m\t\t0.92\u001b[0m/\u001b[35m0.0067\u001b[0m\t\t\u001b[36m6.3820 s\u001b[0m\n",
      " 9\t  \u001b[32m0.94\u001b[0m/\u001b[31m0.0048\u001b[0m\u001b[32m\t\t0.92\u001b[0m/\u001b[31m0.0062\u001b[0m\t\t\u001b[36m6.4395 s\u001b[0m\n",
      " 10\t  \u001b[32m0.95\u001b[0m/\u001b[31m0.0045\u001b[0m\u001b[32m\t\t0.93\u001b[0m/\u001b[31m0.0060\u001b[0m\t\t\u001b[36m6.4097 s\u001b[0m\n",
      "\u001b[34m\n",
      "--------------------------------------------------------------------\u001b[0m\n",
      "\u001b[34m-- Learning finished in 65.0042s. Given number of epochs performed.\u001b[0m\n"
     ]
    }
   ],
   "source": [
    "n_epoch = 10\n",
    "learning_rate = 0.3\n",
    "net.fit(x=dataset['x'], y=dataset['y'], x_val=dataset['x_val'], y_val=dataset['y_val'],\n",
    "       learning_rate=learning_rate, n_epoch=n_epoch, batch_size=16)"
   ]
  },
  {
   "cell_type": "code",
   "execution_count": 19,
   "metadata": {
    "collapsed": false
   },
   "outputs": [],
   "source": [
    "net_obd = net.copy_()\n",
    "net_obd.learning = Backpropagation({'self': None})\n",
    "net_mag = net.copy_()\n",
    "net_mag.learning = Backpropagation({'self': None})\n",
    "net_karnin = net.copy_()\n",
    "net_karnin.learning = Backpropagation({'self': None})\n",
    "net_random = net.copy_()\n",
    "net_random.learning = Backpropagation({'self': None})"
   ]
  },
  {
   "cell_type": "code",
   "execution_count": 5,
   "metadata": {
    "collapsed": false,
    "deletable": true,
    "editable": true
   },
   "outputs": [
    {
     "name": "stdout",
     "output_type": "stream",
     "text": [
      "[[  0.57064674  61.62288871]\n",
      " [-51.26244559  -0.        ]]\n",
      "---------------\n",
      "MAGNITUDE\n",
      "[[  0.57064674  61.62288871]\n",
      " [ 51.26244559   0.        ]]\n",
      "KITT\n",
      "[[  0.56044682  61.59216834]\n",
      " [ 49.97506773   1.55741384]]\n",
      "KARNIN\n",
      "[[ -5823.74815686  12434.54425503]\n",
      " [  4439.84284332      0.        ]]\n",
      "OBD\n",
      "[[ 5.9384484   9.61292656]\n",
      " [ 0.16123191  6.86683045]]\n"
     ]
    }
   ],
   "source": [
    "print net.w[0]\n",
    "print '---------------'\n",
    "print 'MAGNITUDE'\n",
    "print abs(net.w)[0]\n",
    "\n",
    "print 'KITT'\n",
    "print abs(net.w-net.w_init)[0]\n",
    "\n",
    "print 'KARNIN'\n",
    "changes_ = [zeros(shape=w_i.shape) for w_i in net.w]\n",
    "for ep_i in range(net.dw_i):\n",
    "    for l_i in range(len(changes_)):\n",
    "        den = (net.learning.kw['learning_rate']*(net.w[l_i]-net.w_init[l_i]))\n",
    "        changes_[l_i] += net.dw_container[l_i][ep_i]**2*(net.w[l_i]/den)\n",
    "print changes_[0]\n",
    "        \n",
    "print 'OBD'                    \n",
    "print net.saliency[0]            "
   ]
  },
  {
   "cell_type": "code",
   "execution_count": null,
   "metadata": {
    "collapsed": false,
    "deletable": true,
    "editable": true,
    "scrolled": true
   },
   "outputs": [
    {
     "name": "stdout",
     "output_type": "stream",
     "text": [
      "\u001b[34m\n",
      "--------------------------------------------------------------------\u001b[0m\n",
      "\u001b[34m-- Pruning has started...\u001b[0m\n",
      "\u001b[34m\t% net initial structure: \u001b[0m[784, 20, 10]\n",
      "\u001b[34m\t% net initial number of synapses (w, b): \u001b[0m(15880, 30)\n",
      "\u001b[34m\t% min required accuracy (s.c.): \u001b[0m0.93\n",
      "\u001b[34m\t% max required error (s.c.): \u001b[0m0.0\n",
      "\u001b[34m\t% maximum number of re-training epochs (gu.c.): \u001b[0m5\n",
      "\u001b[34m\t% number of stable iterations (gu.c.): \u001b[0m10\n",
      "\n",
      "\n",
      "step    trying to cut     structure           left synapses (w/b)    retrained      next level     step time      \n",
      "--------------------------------------------------------------------------------------------------------------\n",
      "\u001b[33m0       0                 [784, 20, 10]       (15880, 30)            None           75             \u001b[36mNone\u001b[0m  \u001b[0m\n",
      "\u001b[32m1       11910             [780, 20, 10]       (3970, 30)             yes            75             \u001b[36m18.1261 s\u001b[0m\u001b[0m\n",
      "\u001b[31m2       2977              [564, 11, 10]       (589, 21)              no             50             \u001b[36m13.3203 s\u001b[0m\u001b[0m\n",
      "\u001b[31m3       1985              [726, 19, 10]       (1889, 29)             no             35             \u001b[36m17.0421 s\u001b[0m\u001b[0m\n",
      "\u001b[31m4       1390              [760, 19, 10]       (2452, 29)             no             20             \u001b[36m18.376 s\u001b[0m\u001b[0m\n",
      "\u001b[31m5       794               [771, 19, 10]       (3032, 29)             no             10             \u001b[36m18.1442 s\u001b[0m\u001b[0m\n",
      "\u001b[31m6       397               [778, 18, 10]       (3203, 28)             no             7              \u001b[36m18.4658 s\u001b[0m\u001b[0m\n",
      "\u001b[32m7       278               [780, 20, 10]       (3692, 30)             yes            7              \u001b[36m17.8927 s\u001b[0m\u001b[0m\n",
      "\u001b[32m8       259               [780, 20, 10]       (3433, 30)             yes            7              \u001b[36m23.1298 s\u001b[0m\u001b[0m\n",
      "\u001b[31m9       241               [777, 18, 10]       (2873, 28)             no             5              \u001b[36m22.0317 s\u001b[0m\u001b[0m\n",
      "\u001b[32m10      172               [780, 20, 10]       (3261, 30)             yes            5              \u001b[36m24.9863 s\u001b[0m\u001b[0m\n",
      "\u001b[32m11      164               [779, 20, 10]       (3097, 30)             yes            5              \u001b[36m21.5385 s\u001b[0m\u001b[0m\n",
      "\u001b[32m12      155               [773, 20, 10]       (2942, 30)             yes            5              \u001b[36m17.9263 s\u001b[0m\u001b[0m\n",
      "\u001b[31m13      148               [771, 19, 10]       (2649, 29)             no             3              \u001b[36m17.6065 s\u001b[0m\u001b[0m\n",
      "\u001b[32m14      89                [771, 19, 10]       (2711, 29)             yes            3              \u001b[36m17.2428 s\u001b[0m\u001b[0m\n",
      "\u001b[32m15      82                [766, 19, 10]       (2629, 29)             yes            3              \u001b[36m17.3766 s\u001b[0m\u001b[0m\n",
      "\u001b[31m16      79                [762, 18, 10]       (2433, 28)             no             1              \u001b[36m17.2671 s\u001b[0m\u001b[0m\n",
      "\u001b[32m17      27                [765, 19, 10]       (2602, 29)             yes            1              \u001b[36m17.2669 s\u001b[0m\u001b[0m\n",
      "\u001b[32m18      27                [764, 19, 10]       (2575, 29)             yes            1              \u001b[36m17.4931 s\u001b[0m\u001b[0m\n",
      "\u001b[32m19      26                [760, 19, 10]       (2549, 29)             yes            1              \u001b[36m17.4001 s\u001b[0m\u001b[0m\n",
      "\u001b[32m20      26                [759, 19, 10]       (2523, 29)             yes            1              \u001b[36m17.2593 s\u001b[0m\u001b[0m\n",
      "\u001b[32m21      26                [758, 19, 10]       (2497, 29)             yes            1              \u001b[36m17.838 s\u001b[0m\u001b[0m\n",
      "\u001b[32m22      25                [756, 19, 10]       (2472, 29)             yes            1              \u001b[36m17.696 s\u001b[0m\u001b[0m\n",
      "\u001b[32m23      25                [755, 19, 10]       (2447, 29)             yes            1              \u001b[36m17.1851 s\u001b[0m\u001b[0m\n",
      "\u001b[32m24      25                [753, 19, 10]       (2422, 29)             yes            1              \u001b[36m17.3572 s\u001b[0m\u001b[0m\n",
      "\u001b[32m25      25                [752, 19, 10]       (2397, 29)             yes            1              \u001b[36m17.2931 s\u001b[0m\u001b[0m\n",
      "\u001b[32m26      24                [752, 19, 10]       (2373, 29)             yes            1              \u001b[36m17.3072 s\u001b[0m\u001b[0m\n",
      "\u001b[32m27      24                [751, 19, 10]       (2349, 29)             yes            1              \u001b[36m17.3229 s\u001b[0m\u001b[0m\n",
      "\u001b[32m28      24                [751, 19, 10]       (2325, 29)             yes            1              \u001b[36m17.0185 s\u001b[0m\u001b[0m\n",
      "\u001b[32m29      24                [750, 19, 10]       (2301, 29)             yes            1              \u001b[36m17.7465 s\u001b[0m\u001b[0m\n",
      "\u001b[32m30      24                [749, 19, 10]       (2277, 29)             yes            1              \u001b[36m18.0467 s\u001b[0m\u001b[0m\n",
      "\u001b[32m31      23                [749, 19, 10]       (2254, 29)             yes            1              \u001b[36m17.5212 s\u001b[0m\u001b[0m\n",
      "\u001b[32m32      23                [749, 19, 10]       (2231, 29)             yes            1              \u001b[36m17.1547 s\u001b[0m\u001b[0m\n",
      "\u001b[31m33      23                [745, 18, 10]       (2089, 28)             no             0              \u001b[36m17.1653 s\u001b[0m\u001b[0m\n",
      "\u001b[32m34      1                 [749, 19, 10]       (2230, 29)             yes            0              \u001b[36m17.5116 s\u001b[0m\u001b[0m\n",
      "\u001b[32m35      1                 [749, 19, 10]       (2229, 29)             yes            0              \u001b[36m17.4158 s\u001b[0m\u001b[0m\n",
      "\u001b[32m36      1                 [749, 19, 10]       (2228, 29)             yes            0              \u001b[36m17.5366 s\u001b[0m\u001b[0m\n",
      "\u001b[32m37      1                 [749, 19, 10]       (2227, 29)             yes            0              \u001b[36m17.547 s\u001b[0m\u001b[0m\n",
      "\u001b[32m38      1                 [749, 19, 10]       (2226, 29)             yes            0              \u001b[36m17.2266 s\u001b[0m\u001b[0m\n",
      "\u001b[32m39      1                 [749, 19, 10]       (2225, 29)             yes            0              \u001b[36m16.9843 s\u001b[0m\u001b[0m\n",
      "\u001b[32m40      1                 [749, 19, 10]       (2224, 29)             yes            0              \u001b[36m17.1007 s\u001b[0m\u001b[0m\n",
      "\u001b[32m41      1                 [749, 19, 10]       (2223, 29)             yes            0              \u001b[36m16.8757 s\u001b[0m\u001b[0m\n",
      "\u001b[32m42      1                 [749, 19, 10]       (2222, 29)             yes            0              \u001b[36m17.1484 s\u001b[0m\u001b[0m\n",
      "\u001b[32m43      1                 [749, 19, 10]       (2221, 29)             yes            0              \u001b[36m17.5525 s\u001b[0m\u001b[0m\n",
      "\u001b[32m44      1                 [749, 19, 10]       (2220, 29)             yes            0              \u001b[36m17.445 s\u001b[0m\u001b[0m\n",
      "\u001b[32m45      1                 [749, 19, 10]       (2219, 29)             yes            0              \u001b[36m15.7962 s\u001b[0m\u001b[0m\n",
      "\u001b[32m46      1                 [749, 19, 10]       (2218, 29)             yes            0              \u001b[36m16.2497 s\u001b[0m\u001b[0m\n",
      "\u001b[32m47      1                 [749, 19, 10]       (2217, 29)             yes            0              \u001b[36m16.3105 s\u001b[0m\u001b[0m\n",
      "\u001b[32m48      1                 [749, 19, 10]       (2216, 29)             yes            0              \u001b[36m18.6756 s\u001b[0m\u001b[0m\n",
      "\u001b[32m49      1                 [748, 19, 10]       (2215, 29)             yes            0              \u001b[36m19.2275 s\u001b[0m\u001b[0m\n",
      "\u001b[32m50      1                 [748, 19, 10]       (2214, 29)             yes            0              \u001b[36m18.0509 s\u001b[0m\u001b[0m\n",
      "\u001b[32m51      1                 [748, 19, 10]       (2213, 29)             yes            0              \u001b[36m17.3868 s\u001b[0m\u001b[0m\n",
      "\u001b[32m52      1                 [748, 19, 10]       (2212, 29)             yes            0              \u001b[36m18.037 s\u001b[0m\u001b[0m\n",
      "\u001b[32m53      1                 [748, 19, 10]       (2211, 29)             yes            0              \u001b[36m18.4606 s\u001b[0m\u001b[0m\n",
      "\u001b[32m54      1                 [748, 19, 10]       (2210, 29)             yes            0              \u001b[36m18.2892 s\u001b[0m\u001b[0m\n",
      "\u001b[32m55      1                 [748, 19, 10]       (2209, 29)             yes            0              \u001b[36m17.0292 s\u001b[0m\u001b[0m\n",
      "\u001b[32m56      1                 [748, 19, 10]       (2208, 29)             yes            0              \u001b[36m17.4862 s\u001b[0m\u001b[0m\n",
      "\u001b[32m57      1                 [748, 19, 10]       (2207, 29)             yes            0              \u001b[36m17.0293 s\u001b[0m\u001b[0m\n",
      "\u001b[32m58      1                 [748, 19, 10]       (2206, 29)             yes            0              \u001b[36m17.158 s\u001b[0m\u001b[0m\n",
      "\u001b[32m59      1                 [748, 19, 10]       (2205, 29)             yes            0              \u001b[36m17.2473 s\u001b[0m\u001b[0m\n",
      "\u001b[32m60      1                 [748, 19, 10]       (2204, 29)             yes            0              \u001b[36m17.5001 s\u001b[0m\u001b[0m\n",
      "\u001b[32m61      1                 [748, 19, 10]       (2203, 29)             yes            0              \u001b[36m17.1684 s\u001b[0m\u001b[0m\n",
      "\u001b[32m62      1                 [748, 19, 10]       (2202, 29)             yes            0              \u001b[36m17.0052 s\u001b[0m\u001b[0m\n",
      "\u001b[32m63      1                 [748, 19, 10]       (2201, 29)             yes            0              \u001b[36m20.3582 s\u001b[0m\u001b[0m\n",
      "\u001b[32m64      1                 [748, 19, 10]       (2200, 29)             yes            0              \u001b[36m22.0213 s\u001b[0m\u001b[0m\n",
      "\u001b[32m65      1                 [748, 19, 10]       (2199, 29)             yes            0              \u001b[36m19.5093 s\u001b[0m\u001b[0m\n",
      "\u001b[32m66      1                 [748, 19, 10]       (2198, 29)             yes            0              \u001b[36m21.6851 s\u001b[0m\u001b[0m\n",
      "\u001b[32m67      1                 [748, 19, 10]       (2197, 29)             yes            0              \u001b[36m18.1996 s\u001b[0m\u001b[0m\n",
      "\u001b[32m68      1                 [748, 19, 10]       (2196, 29)             yes            0              \u001b[36m18.7552 s\u001b[0m\u001b[0m\n"
     ]
    }
   ],
   "source": [
    "net.prune(req_acc=0.93, n_epoch=5, measure='random', retrain=False)"
   ]
  },
  {
   "cell_type": "code",
   "execution_count": 21,
   "metadata": {
    "collapsed": false,
    "deletable": true,
    "editable": true
   },
   "outputs": [
    {
     "name": "stdout",
     "output_type": "stream",
     "text": [
      "Acc: 0.9267\n",
      "[[ 0.96770938  0.          0.00605449  0.00201816  0.00100908  0.00706357\n",
      "   0.00504541  0.00100908  0.00807265  0.00201816]\n",
      " [ 0.          0.96804511  0.00281955  0.0075188   0.00281955  0.0037594\n",
      "   0.00281955  0.0037594   0.00845865  0.        ]\n",
      " [ 0.00606061  0.0030303   0.9040404   0.01414141  0.01010101  0.00505051\n",
      "   0.01515152  0.01616162  0.02525253  0.0010101 ]\n",
      " [ 0.0038835   0.00097087  0.01165049  0.87378641  0.00194175  0.05242718\n",
      "   0.0038835   0.00873786  0.03495146  0.00776699]\n",
      " [ 0.00101729  0.00610376  0.00305188  0.          0.95930824  0.\n",
      "   0.00203459  0.00610376  0.00508647  0.017294  ]\n",
      " [ 0.01420765  0.00218579  0.00983607  0.0284153   0.00765027  0.8852459\n",
      "   0.01967213  0.00874317  0.01967213  0.00437158]\n",
      " [ 0.00517063  0.00310238  0.00620476  0.          0.00827301  0.01344364\n",
      "   0.95966908  0.          0.0041365   0.        ]\n",
      " [ 0.00366972  0.00550459  0.01376147  0.00458716  0.00917431  0.00366972\n",
      "   0.          0.94587156  0.00183486  0.01192661]\n",
      " [ 0.00693756  0.01387512  0.00792864  0.00891972  0.0049554   0.02378593\n",
      "   0.00297324  0.00891972  0.90981169  0.01189296]\n",
      " [ 0.00832466  0.00208117  0.          0.01040583  0.03537981  0.01456816\n",
      "   0.          0.02601457  0.01560874  0.88761707]]\n",
      "0 0 [(0, 0.97), (2, 0.01), (5, 0.01), (6, 0.01), (8, 0.01)]\n",
      "1 1 [(1, 0.97), (3, 0.01), (8, 0.01), (0, 0.0), (2, 0.0)]\n",
      "2 2 [(2, 0.9), (8, 0.03), (6, 0.02), (7, 0.02), (0, 0.01)]\n",
      "3 3 [(3, 0.87), (5, 0.05), (8, 0.03), (2, 0.01), (7, 0.01)]\n",
      "4 4 [(4, 0.96), (9, 0.02), (1, 0.01), (7, 0.01), (8, 0.01)]\n",
      "5 5 [(5, 0.89), (3, 0.03), (6, 0.02), (8, 0.02), (0, 0.01)]\n",
      "6 6 [(6, 0.96), (0, 0.01), (2, 0.01), (4, 0.01), (5, 0.01)]\n",
      "7 7 [(7, 0.95), (1, 0.01), (2, 0.01), (4, 0.01), (9, 0.01)]\n",
      "8 8 [(8, 0.91), (5, 0.02), (0, 0.01), (1, 0.01), (2, 0.01)]\n",
      "9 9 [(9, 0.89), (4, 0.04), (7, 0.03), (8, 0.02), (0, 0.01)]\n"
     ]
    }
   ],
   "source": [
    "labels = [label for label in net.labels if label in dataset['y_val']]\n",
    "y_pred = [net.predict(x)[0][0] for x, y in net.v_data]\n",
    "print 'Acc:', accuracy_score(y_true=dataset['y_val'], y_pred=y_pred)\n",
    "cm = confusion_matrix(y_true=dataset['y_val'], y_pred=y_pred)\n",
    "cm = cm.astype('float') / cm.sum(axis=1)[:, newaxis]\n",
    "plt.imshow(cm, aspect='auto', interpolation='none', vmin=0, vmax=1)\n",
    "plt.xticks(range(len(labels)), labels)\n",
    "plt.yticks(range(len(labels)), labels)\n",
    "plt.grid()\n",
    "plt.colorbar()\n",
    "plt.show()\n",
    "print cm\n",
    "for i in range(cm.shape[0]):\n",
    "    print i, net.labels[i], sorted([(net.labels[j], round(cm[i, j], 2)) for j in range(cm.shape[1])], key=lambda x:x[1], reverse=True)[:5]\n"
   ]
  }
 ],
 "metadata": {
  "kernelspec": {
   "display_name": "Python 2",
   "language": "python",
   "name": "python2"
  },
  "language_info": {
   "codemirror_mode": {
    "name": "ipython",
    "version": 2
   },
   "file_extension": ".py",
   "mimetype": "text/x-python",
   "name": "python",
   "nbconvert_exporter": "python",
   "pygments_lexer": "ipython2",
   "version": "2.7.12"
  }
 },
 "nbformat": 4,
 "nbformat_minor": 2
}
