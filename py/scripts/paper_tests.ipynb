{
 "cells": [
  {
   "cell_type": "code",
   "execution_count": 1,
   "metadata": {
    "collapsed": false,
    "deletable": true,
    "editable": true
   },
   "outputs": [],
   "source": [
    "from shelve import open as open_shelve\n",
    "from matplotlib import pyplot as plt\n",
    "%matplotlib qt\n",
    "from kitt_net import FeedForwardNet\n",
    "from kitt_learning import Backpropagation\n",
    "from sklearn.metrics import confusion_matrix, accuracy_score\n",
    "from numpy import newaxis, zeros\n",
    "from cPickle import dump as dump_cpickle, load as load_cpickle"
   ]
  },
  {
   "cell_type": "code",
   "execution_count": 2,
   "metadata": {
    "collapsed": true,
    "deletable": true,
    "editable": true
   },
   "outputs": [],
   "source": [
    "dataset = open_shelve('../examples/train/dataset_train.ds')"
   ]
  },
  {
   "cell_type": "code",
   "execution_count": 3,
   "metadata": {
    "collapsed": true,
    "deletable": true,
    "editable": true
   },
   "outputs": [],
   "source": [
    "how = {1: 'b.', -1: 'r.'}\n",
    "for x, y in zip(dataset['x'], dataset['y']):\n",
    "    plt.plot(x[0], x[1], how[y])\n",
    "plt.grid()\n",
    "plt.show()"
   ]
  },
  {
   "cell_type": "code",
   "execution_count": 16,
   "metadata": {
    "collapsed": true,
    "deletable": true,
    "editable": true
   },
   "outputs": [],
   "source": [
    "net = FeedForwardNet(hidden=[5], tf_name='Sigmoid')"
   ]
  },
  {
   "cell_type": "code",
   "execution_count": 17,
   "metadata": {
    "collapsed": false,
    "deletable": true,
    "editable": true,
    "scrolled": true
   },
   "outputs": [
    {
     "name": "stdout",
     "output_type": "stream",
     "text": [
      "\u001b[34m\n",
      "--------------------------------------------------------------------\u001b[0m\n",
      "\u001b[34m-- Network initialized.\u001b[0m\n",
      "\u001b[34m\t% problem dimension: \u001b[0m7\n",
      "\u001b[34m\t% number of classes: \u001b[0m2\n",
      "\u001b[34m\t% class labels: \u001b[0m['east', 'west']\n",
      "\u001b[34m\t% net structure: \u001b[0m[7, 5, 2]\n",
      "\u001b[34m\t% net transfer function: \u001b[0mSigmoid\n",
      "\u001b[34m\n",
      "--------------------------------------------------------------------\u001b[0m\n",
      "\u001b[34m-- Learning has started...\u001b[0m\n",
      "\u001b[34m\t% problem dimension: \u001b[0m7\n",
      "\u001b[34m\t% number of training samples: \u001b[0m1600\n",
      "\u001b[34m\t% number of validation samples: \u001b[0m200\n",
      "\u001b[34m\t% learning rate: \u001b[0m0.03\n",
      "\u001b[34m\t% mini-batch size: \u001b[0m16\n",
      "\u001b[34m\t% maximum number of epochs (t.c.): \u001b[0m10\n",
      "\u001b[34m\t% maximum number of stable epochs (t.c.): \u001b[0minf\n",
      "\u001b[34m\t% required accuracy (t.c.): \u001b[0minf\n",
      "\u001b[34m\t% required error (t.c.): \u001b[0m-inf\n",
      "\n",
      "\n",
      "epoch   on training data      on validation data       epoch time          \n",
      "-------------------------------------------------------------------\n",
      " 1\t  \u001b[32m1.00\u001b[0m/\u001b[31m0.0432\u001b[0m\u001b[32m\t\t1.00\u001b[0m/\u001b[31m0.0430\u001b[0m\t\t\u001b[36m0.2537 s\u001b[0m\n",
      " 2\t  \u001b[32m1.00\u001b[0m/\u001b[31m0.0198\u001b[0m\u001b[32m\t\t1.00\u001b[0m/\u001b[31m0.0196\u001b[0m\t\t\u001b[36m0.2568 s\u001b[0m\n",
      " 3\t  \u001b[32m1.00\u001b[0m/\u001b[31m0.0110\u001b[0m\u001b[32m\t\t1.00\u001b[0m/\u001b[31m0.0110\u001b[0m\t\t\u001b[36m0.2464 s\u001b[0m\n",
      " 4\t  \u001b[32m1.00\u001b[0m/\u001b[31m0.0070\u001b[0m\u001b[32m\t\t1.00\u001b[0m/\u001b[31m0.0070\u001b[0m\t\t\u001b[36m0.3651 s\u001b[0m\n",
      " 5\t  \u001b[32m1.00\u001b[0m/\u001b[31m0.0049\u001b[0m\u001b[32m\t\t1.00\u001b[0m/\u001b[31m0.0049\u001b[0m\t\t\u001b[36m0.2510 s\u001b[0m\n",
      " 6\t  \u001b[32m1.00\u001b[0m/\u001b[31m0.0037\u001b[0m\u001b[32m\t\t1.00\u001b[0m/\u001b[31m0.0036\u001b[0m\t\t\u001b[36m0.2898 s\u001b[0m\n",
      " 7\t  \u001b[32m1.00\u001b[0m/\u001b[31m0.0029\u001b[0m\u001b[32m\t\t1.00\u001b[0m/\u001b[31m0.0028\u001b[0m\t\t\u001b[36m0.2404 s\u001b[0m\n",
      " 8\t  \u001b[32m1.00\u001b[0m/\u001b[31m0.0023\u001b[0m\u001b[32m\t\t1.00\u001b[0m/\u001b[31m0.0023\u001b[0m\t\t\u001b[36m0.2872 s\u001b[0m\n",
      " 9\t  \u001b[32m1.00\u001b[0m/\u001b[31m0.0019\u001b[0m\u001b[32m\t\t1.00\u001b[0m/\u001b[31m0.0019\u001b[0m\t\t\u001b[36m0.2195 s\u001b[0m\n",
      " 10\t  \u001b[32m1.00\u001b[0m/\u001b[31m0.0017\u001b[0m\u001b[32m\t\t1.00\u001b[0m/\u001b[31m0.0017\u001b[0m\t\t\u001b[36m0.2032 s\u001b[0m\n",
      "\u001b[34m\n",
      "--------------------------------------------------------------------\u001b[0m\n",
      "\u001b[34m-- Learning finished in 2.6132s. Given number of epochs performed.\u001b[0m\n"
     ]
    }
   ],
   "source": [
    "n_epoch = 10\n",
    "learning_rate = 0.03\n",
    "net.fit(x=dataset['x'], y=dataset['y'], x_val=dataset['x_val'], y_val=dataset['y_val'],\n",
    "       learning_rate=learning_rate, n_epoch=n_epoch, batch_size=16, nd_der=True)"
   ]
  },
  {
   "cell_type": "code",
   "execution_count": 6,
   "metadata": {
    "collapsed": false,
    "deletable": true,
    "editable": true,
    "scrolled": true
   },
   "outputs": [
    {
     "name": "stdout",
     "output_type": "stream",
     "text": [
      "[[-0.62049887  0.19854937  0.05709136  0.59903029  0.35762892 -1.77111721\n",
      "  -0.44660612]\n",
      " [ 1.68744513  1.73052508  2.18426972 -2.48605549  0.87730707 -1.17092054\n",
      "   0.03726674]\n",
      " [ 0.77312382  0.82975343  1.26090305 -0.30481048  0.22644409 -0.86975571\n",
      "   0.35669254]\n",
      " [ 2.0730543   0.89765229  0.83481316 -0.37020849 -0.1332012  -1.99967051\n",
      "   1.32812084]\n",
      " [-2.29316897 -2.3454165  -2.41072633  0.86344918 -0.45561463  2.00904137\n",
      "  -0.60571604]]\n",
      "---------------\n",
      "MAGNITUDE\n",
      "[[ 0.62049887  0.19854937  0.05709136  0.59903029  0.35762892  1.77111721\n",
      "   0.44660612]\n",
      " [ 1.68744513  1.73052508  2.18426972  2.48605549  0.87730707  1.17092054\n",
      "   0.03726674]\n",
      " [ 0.77312382  0.82975343  1.26090305  0.30481048  0.22644409  0.86975571\n",
      "   0.35669254]\n",
      " [ 2.0730543   0.89765229  0.83481316  0.37020849  0.1332012   1.99967051\n",
      "   1.32812084]\n",
      " [ 2.29316897  2.3454165   2.41072633  0.86344918  0.45561463  2.00904137\n",
      "   0.60571604]]\n",
      "KITT\n",
      "[[ 0.59817213  0.64615602  0.85461298  0.15748485  0.441028    0.5041532\n",
      "   0.16161785]\n",
      " [ 1.8681547   2.20010224  2.19534553  1.31003254  1.15651214  1.9715176\n",
      "   0.34611973]\n",
      " [ 0.69326541  1.00077916  0.83161483  0.49098591  0.76507166  0.83412541\n",
      "   0.18266175]\n",
      " [ 0.19538152  0.63998546  0.48100169  0.67515389  0.12348873  0.48557308\n",
      "   0.16425383]\n",
      " [ 1.59729407  2.02656308  1.95075275  1.24854267  0.8394607   1.26484181\n",
      "   0.00331819]]\n",
      "KARNIN\n",
      "[[ -2429.19218453   1079.64032958    326.03107052  -1301.6594187\n",
      "    2110.97767389  13371.29289492   2120.35750725]\n",
      " [ 20072.66076039  20165.48391111  26532.3511753   13300.86413667\n",
      "   15807.87627664  14100.29729326   -179.2841554 ]\n",
      " [  2383.11044543   2454.28192462   5854.78224192   4559.14916221\n",
      "    1060.73656607   4931.29886316  -1834.70356782]\n",
      " [  2582.69408307   2135.57026978   1797.32787408    569.7482519\n",
      "     663.64430642   3403.38909158  -1134.55489085]\n",
      " [ 19863.23161807  22073.03022293  21397.91105856   4770.44417695\n",
      "    6599.50494168  10667.38306613 -14072.35635184]]\n",
      "OBD\n",
      "[[ 17.82237857  11.38488343  35.42557964  50.1194383   39.81777045\n",
      "   13.49051144   5.677772  ]\n",
      " [  3.3341202    3.1428188   10.3194617   13.58414901   9.65288024\n",
      "    3.9531927    0.09970804]\n",
      " [ 17.5018921   16.97737674  38.8700695   45.10836714  37.30532207\n",
      "   19.72375443   9.37259909]\n",
      " [  3.6347884   12.33801607  18.55296495  36.31573556  26.84180879\n",
      "   11.44240123   7.87800352]\n",
      " [  1.68753458   1.5712095    4.77390462   6.51361328   4.94181511\n",
      "    1.68727971   0.1143784 ]]\n"
     ]
    }
   ],
   "source": [
    "print net.w[0]\n",
    "print '---------------'\n",
    "print 'MAGNITUDE'\n",
    "print abs(net.w)[0]\n",
    "\n",
    "print 'KITT'\n",
    "print abs(net.w-net.w_init)[0]\n",
    "\n",
    "print 'KARNIN'\n",
    "changes_ = [zeros(shape=w_i.shape) for w_i in net.w]\n",
    "for ep_i in range(net.dw_i):\n",
    "    for l_i in range(len(changes_)):\n",
    "        den = (net.learning.kw['learning_rate']*(net.w[l_i]-net.w_init[l_i]))\n",
    "        changes_[l_i] += net.dw_container[l_i][ep_i]**2*(net.w[l_i]/den)\n",
    "print changes_[0]\n",
    "        \n",
    "print 'OBD'                    \n",
    "print net.saliency[0]            "
   ]
  },
  {
   "cell_type": "code",
   "execution_count": 18,
   "metadata": {
    "collapsed": false,
    "deletable": true,
    "editable": true,
    "scrolled": true
   },
   "outputs": [
    {
     "name": "stdout",
     "output_type": "stream",
     "text": [
      "\u001b[34m\n",
      "--------------------------------------------------------------------\u001b[0m\n",
      "\u001b[34m-- Pruning has started...\u001b[0m\n",
      "\u001b[34m\t% net initial structure: \u001b[0m[7, 5, 2]\n",
      "\u001b[34m\t% net initial number of synapses (w, b): \u001b[0m(45, 7)\n",
      "\u001b[34m\t% min required accuracy (s.c.): \u001b[0m1.0\n",
      "\u001b[34m\t% max required error (s.c.): \u001b[0m0.0\n",
      "\u001b[34m\t% maximum number of re-training epochs (gu.c.): \u001b[0m10\n",
      "\u001b[34m\t% number of stable iterations (gu.c.): \u001b[0m10\n",
      "\n",
      "\n",
      "step    trying to cut     structure           left synapses (w/b)    retrained      next level     step time      \n",
      "--------------------------------------------------------------------------------------------------------------\n",
      "\u001b[33m0       0                 [7, 5, 2]           (45, 7)                None           75             \u001b[36mNone\u001b[0m  \u001b[0m\n",
      "\u001b[32m1       34                [4, 1, 2]           (5, 3)                 yes            75             \u001b[36m1.6722 s\u001b[0m\u001b[0m\n",
      "\u001b[31m2       4                 [1, 0, 2]           (0, 2)                 no             50             \u001b[36m1.6202 s\u001b[0m\u001b[0m\n",
      "\u001b[31m3       3                 [1, 1, 2]           (2, 3)                 no             35             \u001b[36m1.5554 s\u001b[0m\u001b[0m\n",
      "\u001b[31m4       2                 [2, 1, 2]           (3, 3)                 no             20             \u001b[36m1.5221 s\u001b[0m\u001b[0m\n",
      "\u001b[31m5       1                 [2, 1, 2]           (4, 3)                 no             20             \u001b[36m1.6041 s\u001b[0m\u001b[0m\n",
      "\u001b[34m\n",
      "--------------------------------------------------------------------\u001b[0m\n",
      "\u001b[34m-- Pruning finished in 7.97401976585 s.\u001b[0m\n",
      "\u001b[34m\t% net final structure: \u001b[0m[4, 1, 2]\n",
      "\u001b[34m\t% net final number of synapses (w/b): \u001b[0m(5, 3)\n",
      "\u001b[34m\t% classification accuracy on training data: \u001b[0m1.0\n",
      "\u001b[34m\t% classification error on training data: \u001b[0m0.00430230544172\n",
      "\u001b[34m\t% classification accuracy on validation data: \u001b[0m1.0\n",
      "\u001b[34m\t% classification error on validation data: \u001b[0m0.00427634587399\n"
     ]
    }
   ],
   "source": [
    "net.prune(req_acc=1.0, n_epoch=10, measure='karnin', retrain=True)"
   ]
  },
  {
   "cell_type": "code",
   "execution_count": 6,
   "metadata": {
    "collapsed": false,
    "deletable": true,
    "editable": true
   },
   "outputs": [
    {
     "name": "stdout",
     "output_type": "stream",
     "text": [
      "Acc: 1.0\n",
      "[[ 1.  0.]\n",
      " [ 0.  1.]]\n",
      "0 east [('east', 1.0), ('west', 0.0)]\n",
      "1 west [('west', 1.0), ('east', 0.0)]\n"
     ]
    }
   ],
   "source": [
    "labels = [label for label in net.labels if label in dataset['y_val']]\n",
    "y_pred = [net.predict(x)[0][0] for x, y in net.v_data]\n",
    "print 'Acc:', accuracy_score(y_true=dataset['y_val'], y_pred=y_pred)\n",
    "cm = confusion_matrix(y_true=dataset['y_val'], y_pred=y_pred)\n",
    "cm = cm.astype('float') / cm.sum(axis=1)[:, newaxis]\n",
    "plt.imshow(cm, aspect='auto', interpolation='none', vmin=0, vmax=1)\n",
    "plt.xticks(range(len(labels)), labels)\n",
    "plt.yticks(range(len(labels)), labels)\n",
    "plt.grid()\n",
    "plt.colorbar()\n",
    "plt.show()\n",
    "print cm\n",
    "for i in range(cm.shape[0]):\n",
    "    print i, net.labels[i], sorted([(net.labels[j], round(cm[i, j], 2)) for j in range(cm.shape[1])], key=lambda x:x[1], reverse=True)[:5]\n"
   ]
  },
  {
   "cell_type": "code",
   "execution_count": 9,
   "metadata": {
    "collapsed": false
   },
   "outputs": [
    {
     "name": "stdout",
     "output_type": "stream",
     "text": [
      "[(0, 0), (1, 1)]\n",
      "[array([[-2.84159054],\n",
      "       [ 1.90158142]]), array([[ 1.37822422],\n",
      "       [ 2.95678191]])]\n"
     ]
    }
   ],
   "source": [
    "print net.used_features\n",
    "print net.b"
   ]
  }
 ],
 "metadata": {
  "kernelspec": {
   "display_name": "Python 2",
   "language": "python",
   "name": "python2"
  },
  "language_info": {
   "codemirror_mode": {
    "name": "ipython",
    "version": 2
   },
   "file_extension": ".py",
   "mimetype": "text/x-python",
   "name": "python",
   "nbconvert_exporter": "python",
   "pygments_lexer": "ipython2",
   "version": "2.7.12"
  }
 },
 "nbformat": 4,
 "nbformat_minor": 2
}
