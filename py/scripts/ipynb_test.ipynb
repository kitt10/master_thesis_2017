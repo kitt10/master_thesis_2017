{
 "cells": [
  {
   "cell_type": "code",
   "execution_count": 1,
   "metadata": {
    "collapsed": false,
    "deletable": true,
    "editable": true
   },
   "outputs": [],
   "source": [
    "from kitt_net import FeedForwardNet\n",
    "from shelve import open as open_shelve\n",
    "from sklearn.metrics import confusion_matrix, accuracy_score"
   ]
  },
  {
   "cell_type": "code",
   "execution_count": 2,
   "metadata": {
    "collapsed": false,
    "deletable": true,
    "editable": true
   },
   "outputs": [],
   "source": [
    "net = FeedForwardNet(hidden=[7], tf_name='Sigmoid')"
   ]
  },
  {
   "cell_type": "code",
   "execution_count": 3,
   "metadata": {
    "collapsed": false,
    "deletable": true,
    "editable": true
   },
   "outputs": [],
   "source": [
    "#dataset = open_shelve('../examples/mnist/dataset_mnist.ds', 'c')\n",
    "#dataset = open_shelve('../examples/speech/dataset_speech_bs2_cs5_ds811_nr500.ds', 'c')\n",
    "dataset = open_shelve('../examples/speech/dataset_speech_sz_.ds', 'c')"
   ]
  },
  {
   "cell_type": "code",
   "execution_count": 3,
   "metadata": {
    "collapsed": false,
    "deletable": true,
    "editable": true
   },
   "outputs": [
    {
     "name": "stdout",
     "output_type": "stream",
     "text": [
      " 48157 48157\n",
      "_val 185 185\n",
      "_test 5786 5786\n"
     ]
    }
   ],
   "source": [
    "dataset_new = open_shelve('../examples/speech/dataset_speech_sz_.ds', 'c')\n",
    "\n",
    "for na in ('', '_val', '_test'):\n",
    "    tmp_x = list()\n",
    "    tmp_y = list()\n",
    "    for x, y in zip(dataset['x'+na], dataset['y'+na]):\n",
    "        if y == 's' or y == 'z':\n",
    "            tmp_y.append(y)\n",
    "            tmp_x.append(x)\n",
    "        else:\n",
    "            if na != '_val':\n",
    "                tmp_y.append('%')\n",
    "                tmp_x.append(x)\n",
    "    dataset_new['x'+na] = tmp_x\n",
    "    dataset_new['y'+na] = tmp_y\n",
    "    print na, len(tmp_x), len(tmp_y)\n",
    "    \n",
    "dataset_new.close()\n",
    "dataset.close()"
   ]
  },
  {
   "cell_type": "code",
   "execution_count": 4,
   "metadata": {
    "collapsed": false,
    "deletable": true,
    "editable": true
   },
   "outputs": [
    {
     "name": "stdout",
     "output_type": "stream",
     "text": [
      "\u001b[34m\n",
      "--------------------------------------------------------------------\u001b[0m\n",
      "\u001b[34m-- Network initialized.\u001b[0m\n",
      "\u001b[34m\t% problem dimension: \u001b[0m440\n",
      "\u001b[34m\t% number of classes: \u001b[0m3\n",
      "\u001b[34m\t% class labels: \u001b[0m[u'%', u's', u'z']\n",
      "\u001b[34m\t% net structure: \u001b[0m[440, 7, 3]\n",
      "\u001b[34m\t% net transfer function: \u001b[0mSigmoid\n",
      "\u001b[34m\n",
      "--------------------------------------------------------------------\u001b[0m\n",
      "\u001b[34m-- Learning has started...\u001b[0m\n",
      "\u001b[34m\t% problem dimension: \u001b[0m440\n",
      "\u001b[34m\t% number of training samples: \u001b[0m48157\n",
      "\u001b[34m\t% number of validation samples: \u001b[0m185\n",
      "\u001b[34m\t% learning rate: \u001b[0m0.07\n",
      "\u001b[34m\t% mini-batch size: \u001b[0m1\n",
      "\u001b[34m\t% maximum number of epochs (t.c.): \u001b[0m100\n",
      "\u001b[34m\t% maximum number of stable epochs (t.c.): \u001b[0minf\n",
      "\u001b[34m\t% required accuracy (t.c.): \u001b[0m1.0\n",
      "\u001b[34m\t% required error (t.c.): \u001b[0m-inf\n",
      "\n",
      "\n",
      "epoch   on training data      on validation data       epoch time          \n",
      "-------------------------------------------------------------------\n",
      " 1\t  \u001b[32m0.96\u001b[0m/\u001b[31m0.0106\u001b[0m\u001b[32m\t\t0.00\u001b[0m/\u001b[31m0.1679\u001b[0m\t\t\u001b[36m4.9541 s\u001b[0m\n",
      " 2\t  \u001b[32m0.97\u001b[0m/\u001b[31m0.0092\u001b[0m\u001b[32m\t\t0.62\u001b[0m/\u001b[31m0.1287\u001b[0m\t\t\u001b[36m5.1009 s\u001b[0m\n",
      " 3\t  \u001b[32m0.96\u001b[0m/\u001b[31m0.0091\u001b[0m\u001b[32m\t\t0.61\u001b[0m/\u001b[35m0.1323\u001b[0m\t\t\u001b[36m4.9687 s\u001b[0m\n",
      " 4\t  \u001b[32m0.97\u001b[0m/\u001b[31m0.0085\u001b[0m\u001b[32m\t\t0.55\u001b[0m/\u001b[35m0.1325\u001b[0m\t\t\u001b[36m4.9839 s\u001b[0m\n",
      " 5\t  \u001b[32m0.97\u001b[0m/\u001b[35m0.0086\u001b[0m\u001b[32m\t\t0.41\u001b[0m/\u001b[35m0.1500\u001b[0m\t\t\u001b[36m4.9767 s\u001b[0m\n",
      " 6\t  \u001b[32m0.97\u001b[0m/\u001b[31m0.0082\u001b[0m\u001b[32m\t\t0.58\u001b[0m/\u001b[31m0.1231\u001b[0m\t\t\u001b[36m4.9795 s\u001b[0m\n",
      " 7\t  \u001b[32m0.97\u001b[0m/\u001b[31m0.0078\u001b[0m\u001b[32m\t\t0.56\u001b[0m/\u001b[31m0.1209\u001b[0m\t\t\u001b[36m4.9794 s\u001b[0m\n",
      " 8\t  \u001b[32m0.97\u001b[0m/\u001b[31m0.0078\u001b[0m\u001b[32m\t\t0.62\u001b[0m/\u001b[31m0.1085\u001b[0m\t\t\u001b[36m4.9675 s\u001b[0m\n",
      " 9\t  \u001b[32m0.97\u001b[0m/\u001b[31m0.0072\u001b[0m\u001b[32m\t\t0.62\u001b[0m/\u001b[31m0.1005\u001b[0m\t\t\u001b[36m4.9723 s\u001b[0m\n",
      " 10\t  \u001b[32m0.97\u001b[0m/\u001b[35m0.0072\u001b[0m\u001b[32m\t\t0.61\u001b[0m/\u001b[35m0.1045\u001b[0m\t\t\u001b[36m4.9085 s\u001b[0m\n",
      " 11\t  \u001b[32m0.97\u001b[0m/\u001b[31m0.0070\u001b[0m\u001b[32m\t\t0.61\u001b[0m/\u001b[31m0.0970\u001b[0m\t\t\u001b[36m4.9219 s\u001b[0m\n",
      " 12\t  \u001b[32m0.97\u001b[0m/\u001b[35m0.0071\u001b[0m\u001b[32m\t\t0.58\u001b[0m/\u001b[35m0.1096\u001b[0m\t\t\u001b[36m4.9754 s\u001b[0m\n",
      " 13\t  \u001b[32m0.98\u001b[0m/\u001b[31m0.0068\u001b[0m\u001b[32m\t\t0.65\u001b[0m/\u001b[35m0.1057\u001b[0m\t\t\u001b[36m4.9737 s\u001b[0m\n",
      " 14\t  \u001b[32m0.97\u001b[0m/\u001b[31m0.0067\u001b[0m\u001b[32m\t\t0.63\u001b[0m/\u001b[31m0.0968\u001b[0m\t\t\u001b[36m4.9611 s\u001b[0m\n",
      " 15\t  \u001b[32m0.98\u001b[0m/\u001b[31m0.0063\u001b[0m\u001b[32m\t\t0.72\u001b[0m/\u001b[31m0.0814\u001b[0m\t\t\u001b[36m4.9378 s\u001b[0m\n",
      " 16\t  \u001b[32m0.98\u001b[0m/\u001b[35m0.0064\u001b[0m\u001b[32m\t\t0.68\u001b[0m/\u001b[35m0.0913\u001b[0m\t\t\u001b[36m5.0663 s\u001b[0m\n",
      " 17\t  \u001b[32m0.98\u001b[0m/\u001b[35m0.0065\u001b[0m\u001b[32m\t\t0.66\u001b[0m/\u001b[35m0.0849\u001b[0m\t\t\u001b[36m5.2546 s\u001b[0m\n",
      " 18\t  \u001b[32m0.98\u001b[0m/\u001b[31m0.0061\u001b[0m\u001b[32m\t\t0.72\u001b[0m/\u001b[31m0.0779\u001b[0m\t\t\u001b[36m5.0059 s\u001b[0m\n",
      " 19\t  \u001b[32m0.98\u001b[0m/\u001b[31m0.0060\u001b[0m\u001b[32m\t\t0.70\u001b[0m/\u001b[35m0.0817\u001b[0m\t\t\u001b[36m4.9603 s\u001b[0m\n",
      " 20\t  \u001b[32m0.98\u001b[0m/\u001b[35m0.0062\u001b[0m\u001b[32m\t\t0.59\u001b[0m/\u001b[35m0.1005\u001b[0m\t\t\u001b[36m4.9656 s\u001b[0m\n",
      " 21\t  \u001b[32m0.98\u001b[0m/\u001b[35m0.0064\u001b[0m\u001b[32m\t\t0.62\u001b[0m/\u001b[35m0.0988\u001b[0m\t\t\u001b[36m4.9281 s\u001b[0m\n",
      " 22\t  \u001b[32m0.98\u001b[0m/\u001b[31m0.0060\u001b[0m\u001b[32m\t\t0.64\u001b[0m/\u001b[35m0.0840\u001b[0m\t\t\u001b[36m4.9762 s\u001b[0m\n",
      " 23\t  \u001b[32m0.98\u001b[0m/\u001b[31m0.0058\u001b[0m\u001b[32m\t\t0.68\u001b[0m/\u001b[35m0.0856\u001b[0m\t\t\u001b[36m4.9902 s\u001b[0m\n",
      " 24\t  \u001b[32m0.98\u001b[0m/\u001b[31m0.0055\u001b[0m\u001b[32m\t\t0.70\u001b[0m/\u001b[31m0.0746\u001b[0m\t\t\u001b[36m5.0904 s\u001b[0m\n",
      " 25\t  \u001b[32m0.98\u001b[0m/\u001b[31m0.0054\u001b[0m\u001b[32m\t\t0.66\u001b[0m/\u001b[35m0.0828\u001b[0m\t\t\u001b[36m5.1146 s\u001b[0m\n",
      " 26\t  \u001b[32m0.98\u001b[0m/\u001b[31m0.0053\u001b[0m\u001b[32m\t\t0.70\u001b[0m/\u001b[35m0.0748\u001b[0m\t\t\u001b[36m4.9760 s\u001b[0m\n",
      " 27\t  \u001b[32m0.98\u001b[0m/\u001b[35m0.0053\u001b[0m\u001b[32m\t\t0.66\u001b[0m/\u001b[35m0.0798\u001b[0m\t\t\u001b[36m4.9365 s\u001b[0m\n",
      " 28\t  \u001b[32m0.98\u001b[0m/\u001b[35m0.0056\u001b[0m\u001b[32m\t\t0.65\u001b[0m/\u001b[35m0.0957\u001b[0m\t\t\u001b[36m4.9386 s\u001b[0m\n",
      " 29\t  \u001b[32m0.98\u001b[0m/\u001b[35m0.0066\u001b[0m\u001b[32m\t\t0.79\u001b[0m/\u001b[31m0.0571\u001b[0m\t\t\u001b[36m4.9491 s\u001b[0m\n",
      " 30\t  \u001b[32m0.98\u001b[0m/\u001b[35m0.0053\u001b[0m\u001b[32m\t\t0.69\u001b[0m/\u001b[35m0.0728\u001b[0m\t\t\u001b[36m4.9743 s\u001b[0m\n",
      " 31\t  \u001b[32m0.98\u001b[0m/\u001b[31m0.0050\u001b[0m\u001b[32m\t\t0.71\u001b[0m/\u001b[35m0.0745\u001b[0m\t\t\u001b[36m4.9554 s\u001b[0m\n",
      " 32\t  \u001b[32m0.98\u001b[0m/\u001b[31m0.0050\u001b[0m\u001b[32m\t\t0.69\u001b[0m/\u001b[35m0.0738\u001b[0m\t\t\u001b[36m4.9879 s\u001b[0m\n",
      " 33\t  \u001b[32m0.98\u001b[0m/\u001b[35m0.0054\u001b[0m\u001b[32m\t\t0.75\u001b[0m/\u001b[35m0.0635\u001b[0m\t\t\u001b[36m4.9534 s\u001b[0m\n",
      " 34\t  \u001b[32m0.98\u001b[0m/\u001b[31m0.0048\u001b[0m\u001b[32m\t\t0.71\u001b[0m/\u001b[35m0.0713\u001b[0m\t\t\u001b[36m4.9517 s\u001b[0m\n",
      " 35\t  \u001b[32m0.98\u001b[0m/\u001b[35m0.0049\u001b[0m\u001b[32m\t\t0.72\u001b[0m/\u001b[35m0.0727\u001b[0m\t\t\u001b[36m4.9456 s\u001b[0m\n",
      " 36\t  \u001b[32m0.98\u001b[0m/\u001b[35m0.0054\u001b[0m\u001b[32m\t\t0.66\u001b[0m/\u001b[35m0.0862\u001b[0m\t\t\u001b[36m4.9554 s\u001b[0m\n",
      " 37\t  \u001b[32m0.98\u001b[0m/\u001b[35m0.0051\u001b[0m\u001b[32m\t\t0.71\u001b[0m/\u001b[35m0.0675\u001b[0m\t\t\u001b[36m4.9690 s\u001b[0m\n",
      " 38\t  \u001b[32m0.98\u001b[0m/\u001b[35m0.0048\u001b[0m\u001b[32m\t\t0.75\u001b[0m/\u001b[35m0.0662\u001b[0m\t\t\u001b[36m4.9527 s\u001b[0m\n",
      " 39\t  \u001b[32m0.98\u001b[0m/\u001b[35m0.0049\u001b[0m\u001b[32m\t\t0.73\u001b[0m/\u001b[35m0.0715\u001b[0m\t\t\u001b[36m4.9411 s\u001b[0m\n",
      " 40\t  \u001b[32m0.98\u001b[0m/\u001b[31m0.0047\u001b[0m\u001b[32m\t\t0.71\u001b[0m/\u001b[35m0.0709\u001b[0m\t\t\u001b[36m4.9713 s\u001b[0m\n",
      " 41\t  \u001b[32m0.98\u001b[0m/\u001b[31m0.0047\u001b[0m\u001b[32m\t\t0.70\u001b[0m/\u001b[35m0.0718\u001b[0m\t\t\u001b[36m4.9349 s\u001b[0m\n",
      " 42\t  \u001b[32m0.98\u001b[0m/\u001b[31m0.0046\u001b[0m\u001b[32m\t\t0.76\u001b[0m/\u001b[35m0.0655\u001b[0m\t\t\u001b[36m4.9586 s\u001b[0m\n",
      " 43\t  \u001b[32m0.98\u001b[0m/\u001b[35m0.0047\u001b[0m\u001b[32m\t\t0.72\u001b[0m/\u001b[35m0.0669\u001b[0m\t\t\u001b[36m4.9126 s\u001b[0m\n",
      " 44\t  \u001b[32m0.98\u001b[0m/\u001b[31m0.0045\u001b[0m\u001b[32m\t\t0.76\u001b[0m/\u001b[35m0.0651\u001b[0m\t\t\u001b[36m4.9408 s\u001b[0m\n",
      " 45\t  \u001b[32m0.98\u001b[0m/\u001b[35m0.0047\u001b[0m\u001b[32m\t\t0.67\u001b[0m/\u001b[35m0.0737\u001b[0m\t\t\u001b[36m4.9483 s\u001b[0m\n",
      " 46\t  \u001b[32m0.98\u001b[0m/\u001b[31m0.0045\u001b[0m\u001b[32m\t\t0.71\u001b[0m/\u001b[35m0.0730\u001b[0m\t\t\u001b[36m4.9584 s\u001b[0m\n",
      " 47\t  \u001b[32m0.98\u001b[0m/\u001b[35m0.0047\u001b[0m\u001b[32m\t\t0.75\u001b[0m/\u001b[35m0.0655\u001b[0m\t\t\u001b[36m4.9163 s\u001b[0m\n",
      " 48\t  \u001b[32m0.98\u001b[0m/\u001b[35m0.0045\u001b[0m\u001b[32m\t\t0.70\u001b[0m/\u001b[35m0.0764\u001b[0m\t\t\u001b[36m4.9753 s\u001b[0m\n",
      " 49\t  \u001b[32m0.98\u001b[0m/\u001b[35m0.0046\u001b[0m\u001b[32m\t\t0.77\u001b[0m/\u001b[31m0.0570\u001b[0m\t\t\u001b[36m4.9140 s\u001b[0m\n",
      " 50\t  \u001b[32m0.98\u001b[0m/\u001b[31m0.0045\u001b[0m\u001b[32m\t\t0.74\u001b[0m/\u001b[35m0.0678\u001b[0m\t\t\u001b[36m4.9154 s\u001b[0m\n",
      " 51\t  \u001b[32m0.98\u001b[0m/\u001b[31m0.0044\u001b[0m\u001b[32m\t\t0.71\u001b[0m/\u001b[35m0.0710\u001b[0m\t\t\u001b[36m5.0849 s\u001b[0m\n",
      " 52\t  \u001b[32m0.98\u001b[0m/\u001b[35m0.0046\u001b[0m\u001b[32m\t\t0.75\u001b[0m/\u001b[35m0.0647\u001b[0m\t\t\u001b[36m5.0014 s\u001b[0m\n",
      " 53\t  \u001b[32m0.98\u001b[0m/\u001b[35m0.0045\u001b[0m\u001b[32m\t\t0.77\u001b[0m/\u001b[35m0.0614\u001b[0m\t\t\u001b[36m4.9318 s\u001b[0m\n",
      " 54\t  \u001b[32m0.98\u001b[0m/\u001b[35m0.0044\u001b[0m\u001b[32m\t\t0.78\u001b[0m/\u001b[35m0.0612\u001b[0m\t\t\u001b[36m5.0044 s\u001b[0m\n",
      " 55\t  \u001b[32m0.98\u001b[0m/\u001b[35m0.0044\u001b[0m\u001b[32m\t\t0.76\u001b[0m/\u001b[35m0.0618\u001b[0m\t\t\u001b[36m4.9841 s\u001b[0m\n",
      " 56\t  \u001b[32m0.98\u001b[0m/\u001b[31m0.0044\u001b[0m\u001b[32m\t\t0.77\u001b[0m/\u001b[35m0.0572\u001b[0m\t\t\u001b[36m5.0164 s\u001b[0m\n",
      " 57\t  \u001b[32m0.98\u001b[0m/\u001b[35m0.0044\u001b[0m\u001b[32m\t\t0.76\u001b[0m/\u001b[35m0.0646\u001b[0m\t\t\u001b[36m4.9574 s\u001b[0m\n",
      " 58\t  \u001b[32m0.99\u001b[0m/\u001b[31m0.0043\u001b[0m\u001b[32m\t\t0.71\u001b[0m/\u001b[35m0.0752\u001b[0m\t\t\u001b[36m4.9433 s\u001b[0m\n",
      " 59\t  \u001b[32m0.99\u001b[0m/\u001b[35m0.0043\u001b[0m\u001b[32m\t\t0.74\u001b[0m/\u001b[35m0.0688\u001b[0m\t\t\u001b[36m4.9809 s\u001b[0m\n",
      " 60\t  \u001b[32m0.99\u001b[0m/\u001b[31m0.0041\u001b[0m\u001b[32m\t\t0.76\u001b[0m/\u001b[35m0.0630\u001b[0m\t\t\u001b[36m4.9720 s\u001b[0m\n",
      " 61\t  \u001b[32m0.99\u001b[0m/\u001b[31m0.0040\u001b[0m\u001b[32m\t\t0.78\u001b[0m/\u001b[35m0.0598\u001b[0m\t\t\u001b[36m4.9858 s\u001b[0m\n",
      " 62\t  \u001b[32m0.98\u001b[0m/\u001b[35m0.0048\u001b[0m\u001b[32m\t\t0.69\u001b[0m/\u001b[35m0.0773\u001b[0m\t\t\u001b[36m5.0834 s\u001b[0m\n",
      " 63\t  \u001b[32m0.99\u001b[0m/\u001b[35m0.0041\u001b[0m\u001b[32m\t\t0.75\u001b[0m/\u001b[35m0.0690\u001b[0m\t\t\u001b[36m4.9551 s\u001b[0m\n",
      " 64\t  \u001b[32m0.99\u001b[0m/\u001b[35m0.0041\u001b[0m\u001b[32m\t\t0.73\u001b[0m/\u001b[35m0.0686\u001b[0m\t\t\u001b[36m4.9362 s\u001b[0m\n",
      " 65\t  \u001b[32m0.98\u001b[0m/\u001b[35m0.0044\u001b[0m\u001b[32m\t\t0.69\u001b[0m/\u001b[35m0.0785\u001b[0m\t\t\u001b[36m4.9791 s\u001b[0m\n",
      " 66\t  \u001b[32m0.98\u001b[0m/\u001b[35m0.0044\u001b[0m\u001b[32m\t\t0.75\u001b[0m/\u001b[35m0.0684\u001b[0m\t\t\u001b[36m4.9814 s\u001b[0m\n",
      " 67\t  \u001b[32m0.99\u001b[0m/\u001b[35m0.0041\u001b[0m\u001b[32m\t\t0.67\u001b[0m/\u001b[35m0.0801\u001b[0m\t\t\u001b[36m4.9701 s\u001b[0m\n",
      " 68\t  \u001b[32m0.99\u001b[0m/\u001b[35m0.0041\u001b[0m\u001b[32m\t\t0.78\u001b[0m/\u001b[35m0.0604\u001b[0m\t\t\u001b[36m4.9647 s\u001b[0m\n",
      " 69\t  \u001b[32m0.98\u001b[0m/\u001b[35m0.0044\u001b[0m\u001b[32m\t\t0.66\u001b[0m/\u001b[35m0.0863\u001b[0m\t\t\u001b[36m4.9697 s\u001b[0m\n",
      " 70\t  \u001b[32m0.99\u001b[0m/\u001b[35m0.0040\u001b[0m\u001b[32m\t\t0.79\u001b[0m/\u001b[35m0.0597\u001b[0m\t\t\u001b[36m4.9559 s\u001b[0m\n",
      " 71\t  \u001b[32m0.98\u001b[0m/\u001b[35m0.0045\u001b[0m\u001b[32m\t\t0.59\u001b[0m/\u001b[35m0.0942\u001b[0m\t\t\u001b[36m4.9677 s\u001b[0m\n",
      " 72\t  \u001b[32m0.98\u001b[0m/\u001b[35m0.0042\u001b[0m\u001b[32m\t\t0.72\u001b[0m/\u001b[35m0.0671\u001b[0m\t\t\u001b[36m5.1904 s\u001b[0m\n",
      " 73\t  \u001b[32m0.98\u001b[0m/\u001b[35m0.0043\u001b[0m\u001b[32m\t\t0.68\u001b[0m/\u001b[35m0.0749\u001b[0m\t\t\u001b[36m4.9821 s\u001b[0m\n",
      " 74\t  \u001b[32m0.98\u001b[0m/\u001b[35m0.0051\u001b[0m\u001b[32m\t\t0.67\u001b[0m/\u001b[35m0.0885\u001b[0m\t\t\u001b[36m5.1248 s\u001b[0m\n",
      " 75\t  \u001b[32m0.99\u001b[0m/\u001b[35m0.0042\u001b[0m\u001b[32m\t\t0.72\u001b[0m/\u001b[35m0.0712\u001b[0m\t\t\u001b[36m5.3120 s\u001b[0m\n",
      " 76\t  \u001b[32m0.98\u001b[0m/\u001b[35m0.0058\u001b[0m\u001b[32m\t\t0.53\u001b[0m/\u001b[35m0.1359\u001b[0m\t\t\u001b[36m5.5661 s\u001b[0m\n",
      " 77\t  \u001b[32m0.98\u001b[0m/\u001b[35m0.0045\u001b[0m\u001b[32m\t\t0.58\u001b[0m/\u001b[35m0.1081\u001b[0m\t\t\u001b[36m5.1375 s\u001b[0m\n",
      " 78\t  \u001b[32m0.99\u001b[0m/\u001b[31m0.0040\u001b[0m\u001b[32m\t\t0.76\u001b[0m/\u001b[35m0.0631\u001b[0m\t\t\u001b[36m5.6513 s\u001b[0m\n",
      " 79\t  \u001b[32m0.99\u001b[0m/\u001b[31m0.0038\u001b[0m\u001b[32m\t\t0.77\u001b[0m/\u001b[35m0.0602\u001b[0m\t\t\u001b[36m4.9962 s\u001b[0m\n",
      " 80\t  \u001b[32m0.98\u001b[0m/\u001b[35m0.0043\u001b[0m\u001b[32m\t\t0.65\u001b[0m/\u001b[35m0.0889\u001b[0m\t\t\u001b[36m4.9727 s\u001b[0m\n",
      " 81\t  \u001b[32m0.99\u001b[0m/\u001b[31m0.0037\u001b[0m\u001b[32m\t\t0.73\u001b[0m/\u001b[35m0.0708\u001b[0m\t\t\u001b[36m4.9564 s\u001b[0m\n",
      " 82\t  \u001b[32m0.99\u001b[0m/\u001b[35m0.0039\u001b[0m\u001b[32m\t\t0.75\u001b[0m/\u001b[35m0.0629\u001b[0m\t\t\u001b[36m4.9900 s\u001b[0m\n",
      " 83\t  \u001b[32m0.99\u001b[0m/\u001b[35m0.0039\u001b[0m\u001b[32m\t\t0.72\u001b[0m/\u001b[35m0.0729\u001b[0m\t\t\u001b[36m5.5526 s\u001b[0m\n",
      " 84\t  \u001b[32m0.99\u001b[0m/\u001b[35m0.0039\u001b[0m\u001b[32m\t\t0.76\u001b[0m/\u001b[35m0.0646\u001b[0m\t\t\u001b[36m5.3075 s\u001b[0m\n",
      " 85\t  \u001b[32m0.99\u001b[0m/\u001b[35m0.0038\u001b[0m\u001b[32m\t\t0.76\u001b[0m/\u001b[35m0.0673\u001b[0m\t\t\u001b[36m5.0711 s\u001b[0m\n",
      " 86\t  \u001b[32m0.99\u001b[0m/\u001b[35m0.0039\u001b[0m\u001b[32m\t\t0.75\u001b[0m/\u001b[35m0.0710\u001b[0m\t\t\u001b[36m4.9413 s\u001b[0m\n",
      " 87\t  \u001b[32m0.99\u001b[0m/\u001b[31m0.0037\u001b[0m\u001b[32m\t\t0.72\u001b[0m/\u001b[35m0.0754\u001b[0m\t\t\u001b[36m4.9804 s\u001b[0m\n",
      " 88\t  \u001b[32m0.99\u001b[0m/\u001b[35m0.0042\u001b[0m\u001b[32m\t\t0.66\u001b[0m/\u001b[35m0.0846\u001b[0m\t\t\u001b[36m4.9141 s\u001b[0m\n",
      " 89\t  \u001b[32m0.99\u001b[0m/\u001b[35m0.0040\u001b[0m\u001b[32m\t\t0.77\u001b[0m/\u001b[35m0.0636\u001b[0m\t\t\u001b[36m4.9665 s\u001b[0m\n",
      " 90\t  \u001b[32m0.99\u001b[0m/\u001b[35m0.0038\u001b[0m\u001b[32m\t\t0.68\u001b[0m/\u001b[35m0.0774\u001b[0m\t\t\u001b[36m5.1974 s\u001b[0m\n",
      " 91\t  \u001b[32m0.99\u001b[0m/\u001b[31m0.0036\u001b[0m\u001b[32m\t\t0.76\u001b[0m/\u001b[35m0.0622\u001b[0m\t\t\u001b[36m5.0199 s\u001b[0m\n",
      " 92\t  \u001b[32m0.99\u001b[0m/\u001b[35m0.0037\u001b[0m\u001b[32m\t\t0.71\u001b[0m/\u001b[35m0.0730\u001b[0m\t\t\u001b[36m4.9867 s\u001b[0m\n",
      " 93\t  \u001b[32m0.99\u001b[0m/\u001b[31m0.0035\u001b[0m\u001b[32m\t\t0.76\u001b[0m/\u001b[35m0.0632\u001b[0m\t\t\u001b[36m4.9594 s\u001b[0m\n",
      " 94\t  \u001b[32m0.98\u001b[0m/\u001b[35m0.0049\u001b[0m\u001b[32m\t\t0.58\u001b[0m/\u001b[35m0.1165\u001b[0m\t\t\u001b[36m4.9746 s\u001b[0m\n",
      " 95\t  \u001b[32m0.99\u001b[0m/\u001b[35m0.0036\u001b[0m\u001b[32m\t\t0.75\u001b[0m/\u001b[35m0.0670\u001b[0m\t\t\u001b[36m5.0013 s\u001b[0m\n",
      " 96\t  \u001b[32m0.99\u001b[0m/\u001b[35m0.0039\u001b[0m\u001b[32m\t\t0.76\u001b[0m/\u001b[35m0.0671\u001b[0m\t\t\u001b[36m4.9497 s\u001b[0m\n",
      " 97\t  \u001b[32m0.99\u001b[0m/\u001b[31m0.0035\u001b[0m\u001b[32m\t\t0.75\u001b[0m/\u001b[35m0.0654\u001b[0m\t\t\u001b[36m5.0297 s\u001b[0m\n",
      " 98\t  \u001b[32m0.99\u001b[0m/\u001b[35m0.0042\u001b[0m\u001b[32m\t\t0.71\u001b[0m/\u001b[35m0.0827\u001b[0m\t\t\u001b[36m4.9411 s\u001b[0m\n",
      " 99\t  \u001b[32m0.99\u001b[0m/\u001b[35m0.0043\u001b[0m\u001b[32m\t\t0.71\u001b[0m/\u001b[35m0.0776\u001b[0m\t\t\u001b[36m5.0144 s\u001b[0m\n",
      " 100\t  \u001b[32m0.99\u001b[0m/\u001b[35m0.0035\u001b[0m\u001b[32m\t\t0.72\u001b[0m/\u001b[35m0.0732\u001b[0m\t\t\u001b[36m4.9806 s\u001b[0m\n",
      "\u001b[34m\n",
      "--------------------------------------------------------------------\u001b[0m\n",
      "\u001b[34m-- Learning finished in 500.9395s. Given number of epochs performed.\u001b[0m\n"
     ]
    }
   ],
   "source": [
    "#net.fit(x=dataset['x'], y=dataset['y'], x_val=dataset['x_val'], y_val=dataset['y_val'], learning_rate=0.3, n_epoch=100, req_acc=0.98, batch_size=10) # mnist\n",
    "net.fit(x=dataset['x'], y=dataset['y'], x_val=dataset['x_val'], y_val=dataset['y_val'], learning_rate=0.07, n_epoch=100, req_acc=1.0, batch_size=1) # speech\n"
   ]
  },
  {
   "cell_type": "code",
   "execution_count": 7,
   "metadata": {
    "collapsed": false,
    "deletable": true,
    "editable": true,
    "scrolled": true
   },
   "outputs": [
    {
     "name": "stdout",
     "output_type": "stream",
     "text": [
      "\u001b[34m\n",
      "--------------------------------------------------------------------\u001b[0m\n",
      "\u001b[34m-- Pruning has started...\u001b[0m\n",
      "\u001b[34m\t% net initial structure: \u001b[0m[440, 7, 3]\n",
      "\u001b[34m\t% net initial number of synapses (w, b): \u001b[0m(3101, 10)\n",
      "\u001b[34m\t% min required accuracy (s.c.): \u001b[0m0.98\n",
      "\u001b[34m\t% max required error (s.c.): \u001b[0m0.05\n",
      "\u001b[34m\t% maximum number of re-training epochs (gu.c.): \u001b[0m5\n",
      "\u001b[34m\t% number of stable iterations (gu.c.): \u001b[0m10\n",
      "\n",
      "\n",
      "step    trying to cut     structure           left synapses (w/b)    retrained      next level     step time      \n",
      "--------------------------------------------------------------------------------------------------------------\n",
      "\u001b[33m0       0                 [440, 7, 3]         (3101, 10)             None           75             \u001b[36mNone\u001b[0m  \u001b[0m\n",
      "\u001b[32m1       2326              [371, 7, 3]         (775, 10)              yes            75             \u001b[36m22.8256 s\u001b[0m\u001b[0m\n",
      "\u001b[31m2       581               [141, 7, 3]         (194, 10)              no             50             \u001b[36m33.0892 s\u001b[0m\u001b[0m\n",
      "\u001b[32m3       388               [241, 7, 3]         (387, 10)              yes            50             \u001b[36m24.7639 s\u001b[0m\u001b[0m\n",
      "\u001b[31m4       194               [135, 7, 3]         (193, 10)              no             30             \u001b[36m31.9843 s\u001b[0m\u001b[0m\n",
      "\u001b[31m5       116               [185, 7, 3]         (271, 10)              no             20             \u001b[36m33.8955 s\u001b[0m\u001b[0m\n",
      "\u001b[32m6       78                [207, 7, 3]         (309, 10)              yes            20             \u001b[36m28.9144 s\u001b[0m\u001b[0m\n",
      "\u001b[32m7       62                [175, 7, 3]         (247, 10)              yes            20             \u001b[36m10.7751 s\u001b[0m\u001b[0m\n",
      "\u001b[32m8       50                [141, 7, 3]         (197, 10)              yes            20             \u001b[36m21.1627 s\u001b[0m\u001b[0m\n",
      "\u001b[31m9       40                [116, 7, 3]         (157, 10)              no             10             \u001b[36m30.9162 s\u001b[0m\u001b[0m\n",
      "\u001b[32m10      20                [128, 7, 3]         (177, 10)              yes            10             \u001b[36m20.345 s\u001b[0m\u001b[0m\n",
      "\u001b[32m11      18                [116, 7, 3]         (159, 10)              yes            10             \u001b[36m20.0488 s\u001b[0m\u001b[0m\n",
      "\u001b[32m12      16                [105, 7, 3]         (143, 10)              yes            10             \u001b[36m32.0923 s\u001b[0m\u001b[0m\n",
      "\u001b[31m13      15                [97, 7, 3]          (128, 10)              no             5              \u001b[36m31.3737 s\u001b[0m\u001b[0m\n",
      "\u001b[32m14      8                 [101, 7, 3]         (135, 10)              yes            5              \u001b[36m24.475 s\u001b[0m\u001b[0m\n",
      "\u001b[31m15      7                 [95, 7, 3]          (128, 10)              no             3              \u001b[36m29.9199 s\u001b[0m\u001b[0m\n",
      "\u001b[32m16      5                 [97, 7, 3]          (130, 10)              yes            3              \u001b[36m14.3039 s\u001b[0m\u001b[0m\n",
      "\u001b[31m17      4                 [95, 7, 3]          (126, 10)              no             2              \u001b[36m30.3489 s\u001b[0m\u001b[0m\n",
      "\u001b[32m18      3                 [95, 7, 3]          (127, 10)              yes            2              \u001b[36m24.8951 s\u001b[0m\u001b[0m\n",
      "\u001b[31m19      3                 [94, 7, 3]          (124, 10)              no             1              \u001b[36m30.3099 s\u001b[0m\u001b[0m\n",
      "\u001b[31m20      2                 [94, 7, 3]          (125, 10)              no             0              \u001b[36m30.1041 s\u001b[0m\u001b[0m\n",
      "\u001b[32m21      1                 [95, 7, 3]          (126, 10)              yes            0              \u001b[36m24.5296 s\u001b[0m\u001b[0m\n",
      "\u001b[32m22      1                 [94, 7, 3]          (125, 10)              yes            0              \u001b[36m8.2338 s\u001b[0m\u001b[0m\n",
      "\u001b[32m23      1                 [93, 7, 3]          (124, 10)              yes            0              \u001b[36m13.7673 s\u001b[0m\u001b[0m\n",
      "\u001b[32m24      1                 [93, 7, 3]          (123, 10)              yes            0              \u001b[36m8.4752 s\u001b[0m\u001b[0m\n",
      "\u001b[32m25      1                 [93, 7, 3]          (122, 10)              yes            0              \u001b[36m8.2873 s\u001b[0m\u001b[0m\n",
      "\u001b[32m26      1                 [92, 7, 3]          (121, 10)              yes            0              \u001b[36m8.2398 s\u001b[0m\u001b[0m\n",
      "\u001b[32m27      1                 [92, 7, 3]          (120, 10)              yes            0              \u001b[36m19.4031 s\u001b[0m\u001b[0m\n",
      "\u001b[32m28      1                 [92, 7, 3]          (119, 10)              yes            0              \u001b[36m8.2555 s\u001b[0m\u001b[0m\n",
      "\u001b[32m29      1                 [91, 7, 3]          (118, 10)              yes            0              \u001b[36m8.5176 s\u001b[0m\u001b[0m\n",
      "\u001b[32m30      1                 [90, 7, 3]          (117, 10)              yes            0              \u001b[36m8.3899 s\u001b[0m\u001b[0m\n",
      "\u001b[32m31      1                 [89, 7, 3]          (116, 10)              yes            0              \u001b[36m8.1625 s\u001b[0m\u001b[0m\n",
      "\u001b[32m32      1                 [88, 7, 3]          (115, 10)              yes            0              \u001b[36m8.134 s\u001b[0m\u001b[0m\n",
      "\u001b[32m33      1                 [87, 7, 3]          (114, 10)              yes            0              \u001b[36m19.7063 s\u001b[0m\u001b[0m\n",
      "\u001b[32m34      1                 [86, 7, 3]          (113, 10)              yes            0              \u001b[36m13.7477 s\u001b[0m\u001b[0m\n",
      "\u001b[32m35      1                 [86, 7, 3]          (112, 10)              yes            0              \u001b[36m8.1251 s\u001b[0m\u001b[0m\n",
      "\u001b[32m36      1                 [85, 7, 3]          (111, 10)              yes            0              \u001b[36m13.7127 s\u001b[0m\u001b[0m\n",
      "\u001b[32m37      1                 [84, 7, 3]          (110, 10)              yes            0              \u001b[36m8.1161 s\u001b[0m\u001b[0m\n",
      "\u001b[32m38      1                 [84, 7, 3]          (109, 10)              yes            0              \u001b[36m8.2603 s\u001b[0m\u001b[0m\n",
      "\u001b[32m39      1                 [83, 7, 3]          (108, 10)              yes            0              \u001b[36m8.1579 s\u001b[0m\u001b[0m\n",
      "\u001b[32m40      1                 [82, 7, 3]          (107, 10)              yes            0              \u001b[36m13.5766 s\u001b[0m\u001b[0m\n",
      "\u001b[32m41      1                 [81, 7, 3]          (106, 10)              yes            0              \u001b[36m13.5821 s\u001b[0m\u001b[0m\n",
      "\u001b[32m42      1                 [80, 7, 3]          (105, 10)              yes            0              \u001b[36m7.9694 s\u001b[0m\u001b[0m\n",
      "\u001b[32m43      1                 [79, 7, 3]          (104, 10)              yes            0              \u001b[36m8.198 s\u001b[0m\u001b[0m\n",
      "\u001b[32m44      1                 [78, 7, 3]          (103, 10)              yes            0              \u001b[36m13.3489 s\u001b[0m\u001b[0m\n",
      "\u001b[32m45      1                 [77, 7, 3]          (102, 10)              yes            0              \u001b[36m19.2844 s\u001b[0m\u001b[0m\n",
      "\u001b[32m46      1                 [77, 7, 3]          (101, 10)              yes            0              \u001b[36m18.6546 s\u001b[0m\u001b[0m\n",
      "\u001b[32m47      1                 [76, 7, 3]          (100, 10)              yes            0              \u001b[36m13.3413 s\u001b[0m\u001b[0m\n",
      "\u001b[31m48      1                 [75, 7, 3]          (99, 10)               no             0              \u001b[36m29.4519 s\u001b[0m\u001b[0m\n",
      "\u001b[34m\n",
      "--------------------------------------------------------------------\u001b[0m\n",
      "\u001b[34m-- Pruning finished in 876.172602177 s.\u001b[0m\n",
      "\u001b[34m\t% net final structure: \u001b[0m[76, 7, 3]\n",
      "\u001b[34m\t% net final number of synapses (w/b): \u001b[0m(100, 10)\n",
      "\u001b[34m\t% classification accuracy on training data: \u001b[0m0.980023672571\n",
      "\u001b[34m\t% classification error on training data: \u001b[0m0.00552485137332\n",
      "\u001b[34m\t% classification accuracy on validation data: \u001b[0m0.745945945946\n",
      "\u001b[34m\t% classification error on validation data: \u001b[0m0.0763423225688\n"
     ]
    }
   ],
   "source": [
    "#net.prune(req_acc=0.96, req_err=0.05, n_epoch=10, levels=(75, 50, 30, 20, 10, 1, 0)) # mnist\n",
    "net.prune(req_acc=0.98, req_err=0.05, n_epoch=5, levels=(75, 50, 30, 20, 10, 5, 3, 2, 1, 0)) # speech"
   ]
  },
  {
   "cell_type": "code",
   "execution_count": 8,
   "metadata": {
    "collapsed": false,
    "deletable": true,
    "editable": true
   },
   "outputs": [
    {
     "name": "stdout",
     "output_type": "stream",
     "text": [
      "\u001b[34m\n",
      "--------------------------------------------------------------------\u001b[0m\n",
      "\u001b[34m-- Net dumped as ../examples/speech/net_speech_sz_pruned.net\u001b[0m\n"
     ]
    }
   ],
   "source": [
    "#net.dump('../examples/mnist/net_mnist_pruned.net')\n",
    "net.dump('../examples/speech/net_speech_sz_pruned.net')"
   ]
  },
  {
   "cell_type": "code",
   "execution_count": 13,
   "metadata": {
    "collapsed": false,
    "deletable": true,
    "editable": true
   },
   "outputs": [],
   "source": [
    "#net.load('../examples/mnist/net_mnist_pruned.net') # mnist\n",
    "net.load('../examples/speech/net_speech_pruned.net') # speech\n"
   ]
  },
  {
   "cell_type": "code",
   "execution_count": 9,
   "metadata": {
    "collapsed": false,
    "deletable": true,
    "editable": true
   },
   "outputs": [],
   "source": [
    "net.v_data = net.prepare_data(x=dataset['x_val'], y=dataset['y_val'])\n",
    "net.t_data = net.prepare_data(x=dataset['x'], y=dataset['y'])\n",
    "test_data = net.prepare_data(x=dataset['x_test'], y=dataset['y_test'])"
   ]
  },
  {
   "cell_type": "code",
   "execution_count": 12,
   "metadata": {
    "collapsed": false,
    "deletable": true,
    "editable": true
   },
   "outputs": [
    {
     "name": "stdout",
     "output_type": "stream",
     "text": [
      "(0.076342322568788312, 0.745945945945946)\n"
     ]
    }
   ],
   "source": [
    "#net.retrain(learning_rate=0.03, n_epoch=10, req_acc=1.0, batch_size=10)\n",
    "print net.evaluate_(data=net.v_data)"
   ]
  },
  {
   "cell_type": "code",
   "execution_count": 11,
   "metadata": {
    "collapsed": false,
    "deletable": true,
    "editable": true
   },
   "outputs": [
    {
     "name": "stdout",
     "output_type": "stream",
     "text": [
      "0.974075354303\n"
     ]
    },
    {
     "data": {
      "image/png": "[encoded data removed]",
      "text/plain": [
       "<matplotlib.figure.Figure at 0x7fc6817714d0>"
      ]
     },
     "metadata": {},
     "output_type": "display_data"
    }
   ],
   "source": [
    "predictions = [net.predict(x)[0][0] for x, y in test_data]\n",
    "print accuracy_score(y_true=dataset['y_test'], y_pred=predictions)\n",
    "cm = confusion_matrix(y_true=dataset['y_test'], y_pred=predictions, labels=net.labels)\n",
    "from numpy import newaxis\n",
    "cm = cm.astype('float') / cm.sum(axis=1)[:, newaxis]\n",
    "\n",
    "from matplotlib import pyplot as plt\n",
    "plt.imshow(cm, aspect='auto', interpolation='none', vmin=0, vmax=1)\n",
    "plt.xticks(range(len(net.labels)), net.labels)\n",
    "plt.yticks(range(len(net.labels)), net.labels)\n",
    "plt.grid()\n",
    "plt.colorbar()\n",
    "plt.show()"
   ]
  },
  {
   "cell_type": "code",
   "execution_count": 14,
   "metadata": {
    "collapsed": false,
    "deletable": true,
    "editable": true
   },
   "outputs": [],
   "source": [
    "net.init_tailoring()\n",
    "net.opt['tailoring'].add_neurons(class_labels=('s', 'z'), h=5)"
   ]
  },
  {
   "cell_type": "code",
   "execution_count": 8,
   "metadata": {
    "collapsed": false,
    "deletable": true,
    "editable": true
   },
   "outputs": [
    {
     "name": "stdout",
     "output_type": "stream",
     "text": [
      "(21, 479) (10, 21)\n"
     ]
    }
   ],
   "source": [
    "print net.w[0].shape, net.w[1].shape"
   ]
  }
 ],
 "metadata": {
  "kernelspec": {
   "display_name": "Python 2",
   "language": "python",
   "name": "python2"
  },
  "language_info": {
   "codemirror_mode": {
    "name": "ipython",
    "version": 2
   },
   "file_extension": ".py",
   "mimetype": "text/x-python",
   "name": "python",
   "nbconvert_exporter": "python",
   "pygments_lexer": "ipython2",
   "version": "2.7.12"
  }
 },
 "nbformat": 4,
 "nbformat_minor": 0
}
