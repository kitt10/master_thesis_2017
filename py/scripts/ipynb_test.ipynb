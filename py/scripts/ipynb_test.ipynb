{
 "metadata": {
  "name": "",
  "signature": "sha256:7e6b5dcc81994d11f38af0e7ae9558ef775e9a200b4267f523314d2e367a5f31"
 },
 "nbformat": 3,
 "nbformat_minor": 0,
 "worksheets": [
  {
   "cells": [
    {
     "cell_type": "code",
     "collapsed": false,
     "input": [
      "from kitt_net import FeedForwardNet\n",
      "from shelve import open as open_shelve\n",
      "from sklearn.metrics import confusion_matrix, accuracy_score"
     ],
     "language": "python",
     "metadata": {},
     "outputs": [],
     "prompt_number": 1
    },
    {
     "cell_type": "code",
     "collapsed": false,
     "input": [
      "net = FeedForwardNet(hidden=[20], tf_name='Sigmoid')"
     ],
     "language": "python",
     "metadata": {},
     "outputs": [],
     "prompt_number": 2
    },
    {
     "cell_type": "code",
     "collapsed": false,
     "input": [
      "dataset = open_shelve('../examples/mnist/dataset_mnist.ds', 'c')"
     ],
     "language": "python",
     "metadata": {},
     "outputs": [],
     "prompt_number": 3
    },
    {
     "cell_type": "raw",
     "metadata": {},
     "source": [
      "tmp = list()\n",
      "tmp_y = list()\n",
      "for x,y in zip(dataset['x'], dataset['y']):\n",
      "    if y == 0 or y == 9:\n",
      "        tmp.append(x)\n",
      "        tmp_y.append(y)\n",
      "dataset['x'] = tmp\n",
      "dataset['y'] = tmp_y"
     ]
    },
    {
     "cell_type": "code",
     "collapsed": false,
     "input": [
      "net.fit(x=dataset['x'], y=dataset['y'], x_val=dataset['x_val'], y_val=dataset['y_val'], learning_rate=0.3, n_epoch=100, req_acc=0.98, batch_size=10)\n"
     ],
     "language": "python",
     "metadata": {},
     "outputs": [
      {
       "output_type": "stream",
       "stream": "stdout",
       "text": [
        "\u001b[34m\n",
        "--------------------------------------------------------------------\u001b[0m\n",
        "\u001b[34m-- Network initialized.\u001b[0m\n",
        "\u001b[34m\t% problem dimension: \u001b[0m784\n",
        "\u001b[34m\t% number of classes: \u001b[0m10\n",
        "\u001b[34m\t% class labels: \u001b[0m[0, 1, 2, 3, 4, 5, 6, 7, 8, 9]\n",
        "\u001b[34m\t% net structure: \u001b[0m[784, 20, 10]\n",
        "\u001b[34m\t% net transfer function: \u001b[0mSigmoid\n",
        "\u001b[34m\n",
        "--------------------------------------------------------------------\u001b[0m\n",
        "\u001b[34m-- Learning has started...\u001b[0m\n",
        "\u001b[34m\t% problem dimension: \u001b[0m784\n",
        "\u001b[34m\t% number of training samples: \u001b[0m50000\n",
        "\u001b[34m\t% number of validation samples: \u001b[0m10000\n",
        "\u001b[34m\t% learning rate: \u001b[0m0.3\n",
        "\u001b[34m\t% mini-batch size: \u001b[0m10\n",
        "\u001b[34m\t% maximum number of epochs (t.c.): \u001b[0m100\n",
        "\u001b[34m\t% maximum number of stable epochs (t.c.): \u001b[0minf\n",
        "\u001b[34m\t% required accuracy (t.c.): \u001b[0m0.98\n",
        "\u001b[34m\t% required error (t.c.): \u001b[0m-inf\n",
        "\n",
        "\n",
        "epoch   on training data      on validation data       epoch time          \n",
        "-------------------------------------------------------------------\n",
        " 1\t  \u001b[32m0.90\u001b[0m/\u001b[31m0.0084\u001b[0m\u001b[32m\t\t0.90\u001b[0m/\u001b[31m0.0078\u001b[0m\t\t\u001b[36m8.0468 s\u001b[0m"
       ]
      },
      {
       "output_type": "stream",
       "stream": "stdout",
       "text": [
        "\n",
        " 2\t  \u001b[32m0.92\u001b[0m/\u001b[31m0.0063\u001b[0m\u001b[32m\t\t0.92\u001b[0m/\u001b[31m0.0061\u001b[0m\t\t\u001b[36m8.9071 s\u001b[0m"
       ]
      },
      {
       "output_type": "stream",
       "stream": "stdout",
       "text": [
        "\n",
        " 3\t  \u001b[32m0.93\u001b[0m/\u001b[31m0.0059\u001b[0m\u001b[32m\t\t0.93\u001b[0m/\u001b[31m0.0057\u001b[0m\t\t\u001b[36m8.0758 s\u001b[0m"
       ]
      },
      {
       "output_type": "stream",
       "stream": "stdout",
       "text": [
        "\n",
        " 4\t  \u001b[32m0.93\u001b[0m/\u001b[31m0.0054\u001b[0m\u001b[32m\t\t0.93\u001b[0m/\u001b[31m0.0054\u001b[0m\t\t\u001b[36m8.0619 s\u001b[0m"
       ]
      },
      {
       "output_type": "stream",
       "stream": "stdout",
       "text": [
        "\n",
        " 5\t  \u001b[32m0.93\u001b[0m/\u001b[31m0.0053\u001b[0m\u001b[32m\t\t0.93\u001b[0m/\u001b[31m0.0054\u001b[0m\t\t\u001b[36m7.9898 s\u001b[0m"
       ]
      },
      {
       "output_type": "stream",
       "stream": "stdout",
       "text": [
        "\n",
        " 6\t  \u001b[32m0.93\u001b[0m/\u001b[35m0.0053\u001b[0m\u001b[32m\t\t0.93\u001b[0m/\u001b[35m0.0056\u001b[0m\t\t\u001b[36m8.1315 s\u001b[0m"
       ]
      },
      {
       "output_type": "stream",
       "stream": "stdout",
       "text": [
        "\n",
        " 7\t  \u001b[32m0.94\u001b[0m/\u001b[31m0.0050\u001b[0m\u001b[32m\t\t0.94\u001b[0m/\u001b[31m0.0052\u001b[0m\t\t\u001b[36m8.1744 s\u001b[0m"
       ]
      },
      {
       "output_type": "stream",
       "stream": "stdout",
       "text": [
        "\n",
        " 8\t  \u001b[32m0.94\u001b[0m/\u001b[31m0.0047\u001b[0m\u001b[32m\t\t0.94\u001b[0m/\u001b[31m0.0050\u001b[0m\t\t\u001b[36m8.0546 s\u001b[0m"
       ]
      },
      {
       "output_type": "stream",
       "stream": "stdout",
       "text": [
        "\n",
        " 9\t  \u001b[32m0.95\u001b[0m/\u001b[31m0.0042\u001b[0m\u001b[32m\t\t0.94\u001b[0m/\u001b[31m0.0047\u001b[0m\t\t\u001b[36m8.3955 s\u001b[0m"
       ]
      },
      {
       "output_type": "stream",
       "stream": "stdout",
       "text": [
        "\n",
        " 10\t  \u001b[32m0.95\u001b[0m/\u001b[35m0.0042\u001b[0m\u001b[32m\t\t0.94\u001b[0m/\u001b[31m0.0046\u001b[0m\t\t\u001b[36m8.1250 s\u001b[0m"
       ]
      },
      {
       "output_type": "stream",
       "stream": "stdout",
       "text": [
        "\n",
        " 11\t  \u001b[32m0.95\u001b[0m/\u001b[35m0.0042\u001b[0m\u001b[32m\t\t0.94\u001b[0m/\u001b[35m0.0048\u001b[0m\t\t\u001b[36m8.1708 s\u001b[0m"
       ]
      },
      {
       "output_type": "stream",
       "stream": "stdout",
       "text": [
        "\n",
        " 12\t  \u001b[32m0.95\u001b[0m/\u001b[31m0.0041\u001b[0m\u001b[32m\t\t0.94\u001b[0m/\u001b[35m0.0047\u001b[0m\t\t\u001b[36m8.0959 s\u001b[0m"
       ]
      },
      {
       "output_type": "stream",
       "stream": "stdout",
       "text": [
        "\n",
        " 13\t  \u001b[32m0.95\u001b[0m/\u001b[35m0.0044\u001b[0m\u001b[32m\t\t0.94\u001b[0m/\u001b[35m0.0051\u001b[0m\t\t\u001b[36m8.1233 s\u001b[0m"
       ]
      },
      {
       "output_type": "stream",
       "stream": "stdout",
       "text": [
        "\n",
        " 14\t  \u001b[32m0.95\u001b[0m/\u001b[31m0.0039\u001b[0m\u001b[32m\t\t0.94\u001b[0m/\u001b[31m0.0045\u001b[0m\t\t\u001b[36m8.0999 s\u001b[0m"
       ]
      },
      {
       "output_type": "stream",
       "stream": "stdout",
       "text": [
        "\n",
        " 15\t  \u001b[32m0.95\u001b[0m/\u001b[31m0.0038\u001b[0m\u001b[32m\t\t0.94\u001b[0m/\u001b[35m0.0046\u001b[0m\t\t\u001b[36m8.0643 s\u001b[0m"
       ]
      },
      {
       "output_type": "stream",
       "stream": "stdout",
       "text": [
        "\n",
        " 16\t  \u001b[32m0.95\u001b[0m/\u001b[35m0.0038\u001b[0m\u001b[32m\t\t0.94\u001b[0m/\u001b[35m0.0046\u001b[0m\t\t\u001b[36m8.1007 s\u001b[0m"
       ]
      },
      {
       "output_type": "stream",
       "stream": "stdout",
       "text": [
        "\n",
        " 17\t  \u001b[32m0.95\u001b[0m/\u001b[35m0.0040\u001b[0m\u001b[32m\t\t0.94\u001b[0m/\u001b[35m0.0047\u001b[0m\t\t\u001b[36m8.0499 s\u001b[0m"
       ]
      },
      {
       "output_type": "stream",
       "stream": "stdout",
       "text": [
        "\n",
        " 18\t  \u001b[32m0.95\u001b[0m/\u001b[31m0.0038\u001b[0m\u001b[32m\t\t0.94\u001b[0m/\u001b[35m0.0047\u001b[0m\t\t\u001b[36m8.0928 s\u001b[0m"
       ]
      },
      {
       "output_type": "stream",
       "stream": "stdout",
       "text": [
        "\n",
        " 19\t  \u001b[32m0.96\u001b[0m/\u001b[31m0.0037\u001b[0m\u001b[32m\t\t0.94\u001b[0m/\u001b[35m0.0046\u001b[0m\t\t\u001b[36m8.0539 s\u001b[0m"
       ]
      },
      {
       "output_type": "stream",
       "stream": "stdout",
       "text": [
        "\n",
        " 20\t  \u001b[32m0.95\u001b[0m/\u001b[35m0.0037\u001b[0m\u001b[32m\t\t0.94\u001b[0m/\u001b[35m0.0046\u001b[0m\t\t\u001b[36m8.3766 s\u001b[0m"
       ]
      },
      {
       "output_type": "stream",
       "stream": "stdout",
       "text": [
        "\n",
        " 21\t  \u001b[32m0.96\u001b[0m/\u001b[31m0.0035\u001b[0m\u001b[32m\t\t0.95\u001b[0m/\u001b[35m0.0046\u001b[0m\t\t\u001b[36m8.1305 s\u001b[0m"
       ]
      },
      {
       "output_type": "stream",
       "stream": "stdout",
       "text": [
        "\n",
        " 22\t  \u001b[32m0.96\u001b[0m/\u001b[35m0.0036\u001b[0m\u001b[32m\t\t0.94\u001b[0m/\u001b[35m0.0046\u001b[0m\t\t\u001b[36m8.1330 s\u001b[0m"
       ]
      },
      {
       "output_type": "stream",
       "stream": "stdout",
       "text": [
        "\n",
        " 23\t  \u001b[32m0.96\u001b[0m/\u001b[31m0.0034\u001b[0m\u001b[32m\t\t0.94\u001b[0m/\u001b[35m0.0046\u001b[0m\t\t\u001b[36m8.2385 s\u001b[0m"
       ]
      },
      {
       "output_type": "stream",
       "stream": "stdout",
       "text": [
        "\n",
        " 24\t  \u001b[32m0.96\u001b[0m/\u001b[31m0.0034\u001b[0m\u001b[32m\t\t0.95\u001b[0m/\u001b[35m0.0046\u001b[0m\t\t\u001b[36m9.9420 s\u001b[0m"
       ]
      },
      {
       "output_type": "stream",
       "stream": "stdout",
       "text": [
        "\n",
        " 25\t  \u001b[32m0.96\u001b[0m/\u001b[35m0.0034\u001b[0m\u001b[32m\t\t0.95\u001b[0m/\u001b[35m0.0045\u001b[0m\t\t\u001b[36m8.1182 s\u001b[0m"
       ]
      },
      {
       "output_type": "stream",
       "stream": "stdout",
       "text": [
        "\n",
        " 26\t  \u001b[32m0.96\u001b[0m/\u001b[31m0.0032\u001b[0m\u001b[32m\t\t0.95\u001b[0m/\u001b[31m0.0044\u001b[0m\t\t\u001b[36m8.1754 s\u001b[0m"
       ]
      },
      {
       "output_type": "stream",
       "stream": "stdout",
       "text": [
        "\n",
        " 27\t  \u001b[32m0.96\u001b[0m/\u001b[35m0.0035\u001b[0m\u001b[32m\t\t0.94\u001b[0m/\u001b[35m0.0046\u001b[0m\t\t\u001b[36m8.0873 s\u001b[0m"
       ]
      },
      {
       "output_type": "stream",
       "stream": "stdout",
       "text": [
        "\n",
        " 28\t  \u001b[32m0.96\u001b[0m/\u001b[35m0.0033\u001b[0m\u001b[32m\t\t0.95\u001b[0m/\u001b[35m0.0045\u001b[0m\t\t\u001b[36m8.1084 s\u001b[0m"
       ]
      },
      {
       "output_type": "stream",
       "stream": "stdout",
       "text": [
        "\n",
        " 29\t  \u001b[32m0.96\u001b[0m/\u001b[35m0.0035\u001b[0m\u001b[32m\t\t0.95\u001b[0m/\u001b[35m0.0046\u001b[0m\t\t\u001b[36m8.0916 s\u001b[0m"
       ]
      },
      {
       "output_type": "stream",
       "stream": "stdout",
       "text": [
        "\n",
        " 30\t  \u001b[32m0.96\u001b[0m/\u001b[31m0.0032\u001b[0m\u001b[32m\t\t0.95\u001b[0m/\u001b[31m0.0044\u001b[0m\t\t\u001b[36m8.5821 s\u001b[0m"
       ]
      },
      {
       "output_type": "stream",
       "stream": "stdout",
       "text": [
        "\n",
        " 31\t  \u001b[32m0.96\u001b[0m/\u001b[35m0.0032\u001b[0m\u001b[32m\t\t0.95\u001b[0m/\u001b[35m0.0045\u001b[0m\t\t\u001b[36m8.0992 s\u001b[0m"
       ]
      },
      {
       "output_type": "stream",
       "stream": "stdout",
       "text": [
        "\n",
        " 32\t  \u001b[32m0.96\u001b[0m/\u001b[35m0.0032\u001b[0m\u001b[32m\t\t0.95\u001b[0m/\u001b[35m0.0045\u001b[0m\t\t\u001b[36m8.1017 s\u001b[0m"
       ]
      },
      {
       "output_type": "stream",
       "stream": "stdout",
       "text": [
        "\n",
        " 33\t  \u001b[32m0.96\u001b[0m/\u001b[31m0.0031\u001b[0m\u001b[32m\t\t0.95\u001b[0m/\u001b[35m0.0045\u001b[0m\t\t\u001b[36m8.3256 s\u001b[0m"
       ]
      },
      {
       "output_type": "stream",
       "stream": "stdout",
       "text": [
        "\n",
        " 34\t  \u001b[32m0.96\u001b[0m/\u001b[35m0.0032\u001b[0m\u001b[32m\t\t0.95\u001b[0m/\u001b[35m0.0044\u001b[0m\t\t\u001b[36m8.1577 s\u001b[0m"
       ]
      },
      {
       "output_type": "stream",
       "stream": "stdout",
       "text": [
        "\n",
        " 35\t  \u001b[32m0.96\u001b[0m/\u001b[35m0.0033\u001b[0m\u001b[32m\t\t0.94\u001b[0m/\u001b[35m0.0046\u001b[0m\t\t\u001b[36m8.1873 s\u001b[0m"
       ]
      },
      {
       "output_type": "stream",
       "stream": "stdout",
       "text": [
        "\n",
        " 36\t  \u001b[32m0.96\u001b[0m/\u001b[35m0.0033\u001b[0m\u001b[32m\t\t0.94\u001b[0m/\u001b[35m0.0048\u001b[0m\t\t\u001b[36m8.1064 s\u001b[0m"
       ]
      },
      {
       "output_type": "stream",
       "stream": "stdout",
       "text": [
        "\n",
        " 37\t  \u001b[32m0.96\u001b[0m/\u001b[35m0.0031\u001b[0m\u001b[32m\t\t0.94\u001b[0m/\u001b[35m0.0047\u001b[0m\t\t\u001b[36m8.1816 s\u001b[0m"
       ]
      },
      {
       "output_type": "stream",
       "stream": "stdout",
       "text": [
        "\n",
        " 38\t  \u001b[32m0.96\u001b[0m/\u001b[35m0.0032\u001b[0m\u001b[32m\t\t0.94\u001b[0m/\u001b[35m0.0048\u001b[0m\t\t\u001b[36m8.1393 s\u001b[0m"
       ]
      },
      {
       "output_type": "stream",
       "stream": "stdout",
       "text": [
        "\n",
        " 39\t  \u001b[32m0.96\u001b[0m/\u001b[31m0.0031\u001b[0m\u001b[32m\t\t0.94\u001b[0m/\u001b[35m0.0046\u001b[0m\t\t\u001b[36m9.4246 s\u001b[0m"
       ]
      },
      {
       "output_type": "stream",
       "stream": "stdout",
       "text": [
        "\n",
        " 40\t  \u001b[32m0.96\u001b[0m/\u001b[31m0.0029\u001b[0m\u001b[32m\t\t0.95\u001b[0m/\u001b[35m0.0044\u001b[0m\t\t\u001b[36m8.4244 s\u001b[0m"
       ]
      },
      {
       "output_type": "stream",
       "stream": "stdout",
       "text": [
        "\n",
        " 41\t  \u001b[32m0.96\u001b[0m/\u001b[35m0.0032\u001b[0m\u001b[32m\t\t0.94\u001b[0m/\u001b[35m0.0047\u001b[0m\t\t\u001b[36m8.0636 s\u001b[0m"
       ]
      },
      {
       "output_type": "stream",
       "stream": "stdout",
       "text": [
        "\n",
        " 42\t  \u001b[32m0.96\u001b[0m/\u001b[35m0.0032\u001b[0m\u001b[32m\t\t0.94\u001b[0m/\u001b[35m0.0047\u001b[0m\t\t\u001b[36m7.9080 s\u001b[0m"
       ]
      },
      {
       "output_type": "stream",
       "stream": "stdout",
       "text": [
        "\n",
        " 43\t  \u001b[32m0.97\u001b[0m/\u001b[35m0.0029\u001b[0m\u001b[32m\t\t0.95\u001b[0m/\u001b[35m0.0044\u001b[0m\t\t\u001b[36m7.9243 s\u001b[0m"
       ]
      },
      {
       "output_type": "stream",
       "stream": "stdout",
       "text": [
        "\n",
        " 44\t  \u001b[32m0.96\u001b[0m/\u001b[35m0.0030\u001b[0m\u001b[32m\t\t0.95\u001b[0m/\u001b[35m0.0046\u001b[0m\t\t\u001b[36m8.0897 s\u001b[0m"
       ]
      },
      {
       "output_type": "stream",
       "stream": "stdout",
       "text": [
        "\n",
        " 45\t  \u001b[32m0.97\u001b[0m/\u001b[31m0.0028\u001b[0m\u001b[32m\t\t0.95\u001b[0m/\u001b[35m0.0044\u001b[0m\t\t\u001b[36m8.1167 s\u001b[0m"
       ]
      },
      {
       "output_type": "stream",
       "stream": "stdout",
       "text": [
        "\n",
        " 46\t  \u001b[32m0.96\u001b[0m/\u001b[35m0.0029\u001b[0m\u001b[32m\t\t0.94\u001b[0m/\u001b[35m0.0047\u001b[0m\t\t\u001b[36m8.0135 s\u001b[0m"
       ]
      },
      {
       "output_type": "stream",
       "stream": "stdout",
       "text": [
        "\n",
        " 47\t  \u001b[32m0.97\u001b[0m/\u001b[31m0.0028\u001b[0m\u001b[32m\t\t0.95\u001b[0m/\u001b[35m0.0046\u001b[0m\t\t\u001b[36m8.1624 s\u001b[0m"
       ]
      },
      {
       "output_type": "stream",
       "stream": "stdout",
       "text": [
        "\n",
        " 48\t  \u001b[32m0.97\u001b[0m/\u001b[35m0.0029\u001b[0m\u001b[32m\t\t0.94\u001b[0m/\u001b[35m0.0046\u001b[0m\t\t\u001b[36m8.0587 s\u001b[0m"
       ]
      },
      {
       "output_type": "stream",
       "stream": "stdout",
       "text": [
        "\n",
        " 49\t  \u001b[32m0.97\u001b[0m/\u001b[31m0.0027\u001b[0m\u001b[32m\t\t0.95\u001b[0m/\u001b[35m0.0046\u001b[0m\t\t\u001b[36m8.3409 s\u001b[0m"
       ]
      },
      {
       "output_type": "stream",
       "stream": "stdout",
       "text": [
        "\n",
        " 50\t  \u001b[32m0.97\u001b[0m/\u001b[35m0.0028\u001b[0m\u001b[32m\t\t0.95\u001b[0m/\u001b[35m0.0046\u001b[0m\t\t\u001b[36m8.0776 s\u001b[0m"
       ]
      },
      {
       "output_type": "stream",
       "stream": "stdout",
       "text": [
        "\n",
        " 51\t  \u001b[32m0.97\u001b[0m/\u001b[35m0.0028\u001b[0m\u001b[32m\t\t0.95\u001b[0m/\u001b[35m0.0047\u001b[0m\t\t\u001b[36m8.0514 s\u001b[0m"
       ]
      },
      {
       "output_type": "stream",
       "stream": "stdout",
       "text": [
        "\n",
        " 52\t  \u001b[32m0.97\u001b[0m/\u001b[35m0.0029\u001b[0m\u001b[32m\t\t0.95\u001b[0m/\u001b[35m0.0047\u001b[0m\t\t\u001b[36m8.0903 s\u001b[0m"
       ]
      },
      {
       "output_type": "stream",
       "stream": "stdout",
       "text": [
        "\n",
        " 53\t  \u001b[32m0.97\u001b[0m/\u001b[35m0.0028\u001b[0m\u001b[32m\t\t0.95\u001b[0m/\u001b[35m0.0046\u001b[0m\t\t\u001b[36m8.0940 s\u001b[0m"
       ]
      },
      {
       "output_type": "stream",
       "stream": "stdout",
       "text": [
        "\n",
        " 54\t  \u001b[32m0.97\u001b[0m/\u001b[31m0.0027\u001b[0m\u001b[32m\t\t0.95\u001b[0m/\u001b[35m0.0046\u001b[0m\t\t\u001b[36m8.1060 s\u001b[0m"
       ]
      },
      {
       "output_type": "stream",
       "stream": "stdout",
       "text": [
        "\n",
        " 55\t  \u001b[32m0.97\u001b[0m/\u001b[31m0.0027\u001b[0m\u001b[32m\t\t0.95\u001b[0m/\u001b[35m0.0046\u001b[0m\t\t\u001b[36m8.1077 s\u001b[0m"
       ]
      },
      {
       "output_type": "stream",
       "stream": "stdout",
       "text": [
        "\n",
        " 56\t  \u001b[32m0.97\u001b[0m/\u001b[31m0.0027\u001b[0m\u001b[32m\t\t0.94\u001b[0m/\u001b[35m0.0047\u001b[0m\t\t\u001b[36m8.0761 s\u001b[0m"
       ]
      },
      {
       "output_type": "stream",
       "stream": "stdout",
       "text": [
        "\n",
        " 57\t  \u001b[32m0.97\u001b[0m/\u001b[35m0.0028\u001b[0m\u001b[32m\t\t0.95\u001b[0m/\u001b[35m0.0047\u001b[0m\t\t\u001b[36m8.4705 s\u001b[0m"
       ]
      },
      {
       "output_type": "stream",
       "stream": "stdout",
       "text": [
        "\n",
        " 58\t  \u001b[32m0.97\u001b[0m/\u001b[31m0.0026\u001b[0m\u001b[32m\t\t0.95\u001b[0m/\u001b[35m0.0046\u001b[0m\t\t\u001b[36m8.3697 s\u001b[0m"
       ]
      },
      {
       "output_type": "stream",
       "stream": "stdout",
       "text": [
        "\n",
        " 59\t  \u001b[32m0.97\u001b[0m/\u001b[35m0.0028\u001b[0m\u001b[32m\t\t0.95\u001b[0m/\u001b[35m0.0047\u001b[0m\t\t\u001b[36m8.0884 s\u001b[0m"
       ]
      },
      {
       "output_type": "stream",
       "stream": "stdout",
       "text": [
        "\n",
        " 60\t  \u001b[32m0.97\u001b[0m/\u001b[35m0.0027\u001b[0m\u001b[32m\t\t0.95\u001b[0m/\u001b[35m0.0047\u001b[0m\t\t\u001b[36m8.0500 s\u001b[0m"
       ]
      },
      {
       "output_type": "stream",
       "stream": "stdout",
       "text": [
        "\n",
        " 61\t  \u001b[32m0.97\u001b[0m/\u001b[35m0.0027\u001b[0m\u001b[32m\t\t0.95\u001b[0m/\u001b[35m0.0046\u001b[0m\t\t\u001b[36m8.0304 s\u001b[0m"
       ]
      },
      {
       "output_type": "stream",
       "stream": "stdout",
       "text": [
        "\n",
        " 62\t  \u001b[32m0.97\u001b[0m/\u001b[35m0.0028\u001b[0m\u001b[32m\t\t0.94\u001b[0m/\u001b[35m0.0047\u001b[0m\t\t\u001b[36m7.9275 s\u001b[0m"
       ]
      },
      {
       "output_type": "stream",
       "stream": "stdout",
       "text": [
        "\n",
        " 63\t  \u001b[32m0.97\u001b[0m/\u001b[35m0.0027\u001b[0m\u001b[32m\t\t0.95\u001b[0m/\u001b[35m0.0046\u001b[0m\t\t\u001b[36m8.0365 s\u001b[0m"
       ]
      },
      {
       "output_type": "stream",
       "stream": "stdout",
       "text": [
        "\n",
        " 64\t  \u001b[32m0.97\u001b[0m/\u001b[35m0.0027\u001b[0m\u001b[32m\t\t0.95\u001b[0m/\u001b[35m0.0047\u001b[0m\t\t\u001b[36m8.1168 s\u001b[0m"
       ]
      },
      {
       "output_type": "stream",
       "stream": "stdout",
       "text": [
        "\n",
        " 65\t  \u001b[32m0.97\u001b[0m/\u001b[35m0.0027\u001b[0m\u001b[32m\t\t0.95\u001b[0m/\u001b[35m0.0046\u001b[0m\t\t\u001b[36m8.1103 s\u001b[0m"
       ]
      },
      {
       "output_type": "stream",
       "stream": "stdout",
       "text": [
        "\n",
        " 66\t  \u001b[32m0.97\u001b[0m/\u001b[35m0.0026\u001b[0m\u001b[32m\t\t0.95\u001b[0m/\u001b[35m0.0046\u001b[0m\t\t\u001b[36m8.3280 s\u001b[0m"
       ]
      },
      {
       "output_type": "stream",
       "stream": "stdout",
       "text": [
        "\n",
        " 67\t  \u001b[32m0.97\u001b[0m/\u001b[35m0.0028\u001b[0m\u001b[32m\t\t0.94\u001b[0m/\u001b[35m0.0049\u001b[0m\t\t\u001b[36m8.0453 s\u001b[0m"
       ]
      },
      {
       "output_type": "stream",
       "stream": "stdout",
       "text": [
        "\n",
        " 68\t  \u001b[32m0.96\u001b[0m/\u001b[35m0.0032\u001b[0m\u001b[32m\t\t0.94\u001b[0m/\u001b[35m0.0049\u001b[0m\t\t\u001b[36m8.0380 s\u001b[0m"
       ]
      },
      {
       "output_type": "stream",
       "stream": "stdout",
       "text": [
        "\n",
        " 69\t  \u001b[32m0.97\u001b[0m/\u001b[35m0.0027\u001b[0m\u001b[32m\t\t0.94\u001b[0m/\u001b[35m0.0048\u001b[0m\t\t\u001b[36m8.0754 s\u001b[0m"
       ]
      },
      {
       "output_type": "stream",
       "stream": "stdout",
       "text": [
        "\n",
        " 70\t  \u001b[32m0.97\u001b[0m/\u001b[31m0.0024\u001b[0m\u001b[32m\t\t0.95\u001b[0m/\u001b[35m0.0046\u001b[0m\t\t\u001b[36m8.1338 s\u001b[0m"
       ]
      },
      {
       "output_type": "stream",
       "stream": "stdout",
       "text": [
        "\n",
        " 71\t  \u001b[32m0.97\u001b[0m/\u001b[35m0.0026\u001b[0m\u001b[32m\t\t0.95\u001b[0m/\u001b[35m0.0047\u001b[0m\t\t\u001b[36m8.1397 s\u001b[0m"
       ]
      },
      {
       "output_type": "stream",
       "stream": "stdout",
       "text": [
        "\n",
        " 72\t  \u001b[32m0.97\u001b[0m/\u001b[35m0.0028\u001b[0m\u001b[32m\t\t0.95\u001b[0m/\u001b[35m0.0048\u001b[0m\t\t\u001b[36m8.3530 s\u001b[0m"
       ]
      },
      {
       "output_type": "stream",
       "stream": "stdout",
       "text": [
        "\n",
        " 73\t  \u001b[32m0.97\u001b[0m/\u001b[35m0.0025\u001b[0m\u001b[32m\t\t0.95\u001b[0m/\u001b[35m0.0047\u001b[0m\t\t\u001b[36m8.1561 s\u001b[0m"
       ]
      },
      {
       "output_type": "stream",
       "stream": "stdout",
       "text": [
        "\n",
        " 74\t  \u001b[32m0.97\u001b[0m/\u001b[35m0.0025\u001b[0m\u001b[32m\t\t0.94\u001b[0m/\u001b[35m0.0047\u001b[0m\t\t\u001b[36m8.1698 s\u001b[0m"
       ]
      },
      {
       "output_type": "stream",
       "stream": "stdout",
       "text": [
        "\n",
        " 75\t  \u001b[32m0.97\u001b[0m/\u001b[35m0.0024\u001b[0m\u001b[32m\t\t0.95\u001b[0m/\u001b[35m0.0046\u001b[0m\t\t\u001b[36m8.0189 s\u001b[0m"
       ]
      },
      {
       "output_type": "stream",
       "stream": "stdout",
       "text": [
        "\n",
        " 76\t  \u001b[32m0.97\u001b[0m/\u001b[35m0.0026\u001b[0m\u001b[32m\t\t0.95\u001b[0m/\u001b[35m0.0047\u001b[0m\t\t\u001b[36m7.8524 s\u001b[0m"
       ]
      },
      {
       "output_type": "stream",
       "stream": "stdout",
       "text": [
        "\n",
        " 77\t  \u001b[32m0.97\u001b[0m/\u001b[35m0.0028\u001b[0m\u001b[32m\t\t0.94\u001b[0m/\u001b[35m0.0049\u001b[0m\t\t\u001b[36m7.8572 s\u001b[0m"
       ]
      },
      {
       "output_type": "stream",
       "stream": "stdout",
       "text": [
        "\n",
        " 78\t  \u001b[32m0.97\u001b[0m/\u001b[35m0.0026\u001b[0m\u001b[32m\t\t0.94\u001b[0m/\u001b[35m0.0049\u001b[0m\t\t\u001b[36m7.8417 s\u001b[0m"
       ]
      },
      {
       "output_type": "stream",
       "stream": "stdout",
       "text": [
        "\n",
        " 79\t  \u001b[32m0.97\u001b[0m/\u001b[31m0.0024\u001b[0m\u001b[32m\t\t0.95\u001b[0m/\u001b[35m0.0046\u001b[0m\t\t\u001b[36m7.8749 s\u001b[0m"
       ]
      },
      {
       "output_type": "stream",
       "stream": "stdout",
       "text": [
        "\n",
        " 80\t  \u001b[32m0.97\u001b[0m/\u001b[35m0.0024\u001b[0m\u001b[32m\t\t0.95\u001b[0m/\u001b[35m0.0047\u001b[0m\t\t\u001b[36m8.0345 s\u001b[0m"
       ]
      },
      {
       "output_type": "stream",
       "stream": "stdout",
       "text": [
        "\n",
        " 81\t  \u001b[32m0.97\u001b[0m/\u001b[35m0.0027\u001b[0m\u001b[32m\t\t0.94\u001b[0m/\u001b[35m0.0049\u001b[0m\t\t\u001b[36m8.5456 s\u001b[0m"
       ]
      },
      {
       "output_type": "stream",
       "stream": "stdout",
       "text": [
        "\n",
        " 82\t  \u001b[32m0.97\u001b[0m/\u001b[35m0.0024\u001b[0m\u001b[32m\t\t0.95\u001b[0m/\u001b[35m0.0047\u001b[0m\t\t\u001b[36m8.2544 s\u001b[0m"
       ]
      },
      {
       "output_type": "stream",
       "stream": "stdout",
       "text": [
        "\n",
        " 83\t  \u001b[32m0.97\u001b[0m/\u001b[35m0.0025\u001b[0m\u001b[32m\t\t0.94\u001b[0m/\u001b[35m0.0048\u001b[0m\t\t\u001b[36m8.3760 s\u001b[0m"
       ]
      },
      {
       "output_type": "stream",
       "stream": "stdout",
       "text": [
        "\n",
        " 84\t  \u001b[32m0.97\u001b[0m/\u001b[31m0.0024\u001b[0m\u001b[32m\t\t0.94\u001b[0m/\u001b[35m0.0046\u001b[0m\t\t\u001b[36m7.8117 s\u001b[0m"
       ]
      },
      {
       "output_type": "stream",
       "stream": "stdout",
       "text": [
        "\n",
        " 85\t  \u001b[32m0.97\u001b[0m/\u001b[35m0.0024\u001b[0m\u001b[32m\t\t0.95\u001b[0m/\u001b[35m0.0046\u001b[0m\t\t\u001b[36m7.7418 s\u001b[0m"
       ]
      },
      {
       "output_type": "stream",
       "stream": "stdout",
       "text": [
        "\n",
        " 86\t  \u001b[32m0.97\u001b[0m/\u001b[31m0.0023\u001b[0m\u001b[32m\t\t0.95\u001b[0m/\u001b[35m0.0047\u001b[0m\t\t\u001b[36m7.7506 s\u001b[0m"
       ]
      },
      {
       "output_type": "stream",
       "stream": "stdout",
       "text": [
        "\n",
        " 87\t  \u001b[32m0.97\u001b[0m/\u001b[31m0.0023\u001b[0m\u001b[32m\t\t0.95\u001b[0m/\u001b[35m0.0047\u001b[0m\t\t\u001b[36m7.7102 s\u001b[0m"
       ]
      },
      {
       "output_type": "stream",
       "stream": "stdout",
       "text": [
        "\n",
        " 88\t  \u001b[32m0.97\u001b[0m/\u001b[35m0.0025\u001b[0m\u001b[32m\t\t0.94\u001b[0m/\u001b[35m0.0048\u001b[0m\t\t\u001b[36m7.7743 s\u001b[0m"
       ]
      },
      {
       "output_type": "stream",
       "stream": "stdout",
       "text": [
        "\n",
        " 89\t  \u001b[32m0.97\u001b[0m/\u001b[35m0.0023\u001b[0m\u001b[32m\t\t0.95\u001b[0m/\u001b[35m0.0049\u001b[0m\t\t\u001b[36m7.7188 s\u001b[0m"
       ]
      },
      {
       "output_type": "stream",
       "stream": "stdout",
       "text": [
        "\n",
        " 90\t  \u001b[32m0.97\u001b[0m/\u001b[35m0.0024\u001b[0m\u001b[32m\t\t0.94\u001b[0m/\u001b[35m0.0048\u001b[0m\t\t\u001b[36m7.9201 s\u001b[0m"
       ]
      },
      {
       "output_type": "stream",
       "stream": "stdout",
       "text": [
        "\n",
        " 91\t  \u001b[32m0.97\u001b[0m/\u001b[31m0.0023\u001b[0m\u001b[32m\t\t0.95\u001b[0m/\u001b[35m0.0048\u001b[0m\t\t\u001b[36m7.7576 s\u001b[0m"
       ]
      },
      {
       "output_type": "stream",
       "stream": "stdout",
       "text": [
        "\n",
        " 92\t  \u001b[32m0.97\u001b[0m/\u001b[35m0.0024\u001b[0m\u001b[32m\t\t0.95\u001b[0m/\u001b[35m0.0047\u001b[0m\t\t\u001b[36m7.7994 s\u001b[0m"
       ]
      },
      {
       "output_type": "stream",
       "stream": "stdout",
       "text": [
        "\n",
        " 93\t  \u001b[32m0.97\u001b[0m/\u001b[35m0.0025\u001b[0m\u001b[32m\t\t0.94\u001b[0m/\u001b[35m0.0048\u001b[0m\t\t\u001b[36m7.7284 s\u001b[0m"
       ]
      },
      {
       "output_type": "stream",
       "stream": "stdout",
       "text": [
        "\n",
        " 94\t  \u001b[32m0.97\u001b[0m/\u001b[35m0.0028\u001b[0m\u001b[32m\t\t0.94\u001b[0m/\u001b[35m0.0049\u001b[0m\t\t\u001b[36m7.7470 s\u001b[0m"
       ]
      },
      {
       "output_type": "stream",
       "stream": "stdout",
       "text": [
        "\n",
        " 95\t  \u001b[32m0.97\u001b[0m/\u001b[31m0.0023\u001b[0m\u001b[32m\t\t0.94\u001b[0m/\u001b[35m0.0047\u001b[0m\t\t\u001b[36m7.6678 s\u001b[0m"
       ]
      },
      {
       "output_type": "stream",
       "stream": "stdout",
       "text": [
        "\n",
        " 96\t  \u001b[32m0.97\u001b[0m/\u001b[35m0.0023\u001b[0m\u001b[32m\t\t0.95\u001b[0m/\u001b[35m0.0047\u001b[0m\t\t\u001b[36m7.7891 s\u001b[0m"
       ]
      },
      {
       "output_type": "stream",
       "stream": "stdout",
       "text": [
        "\n",
        " 97\t  \u001b[32m0.97\u001b[0m/\u001b[31m0.0023\u001b[0m\u001b[32m\t\t0.94\u001b[0m/\u001b[35m0.0047\u001b[0m\t\t\u001b[36m7.7089 s\u001b[0m"
       ]
      },
      {
       "output_type": "stream",
       "stream": "stdout",
       "text": [
        "\n",
        " 98\t  \u001b[32m0.97\u001b[0m/\u001b[35m0.0027\u001b[0m\u001b[32m\t\t0.94\u001b[0m/\u001b[35m0.0049\u001b[0m\t\t\u001b[36m7.6551 s\u001b[0m"
       ]
      },
      {
       "output_type": "stream",
       "stream": "stdout",
       "text": [
        "\n",
        " 99\t  \u001b[32m0.97\u001b[0m/\u001b[35m0.0023\u001b[0m\u001b[32m\t\t0.95\u001b[0m/\u001b[35m0.0048\u001b[0m\t\t\u001b[36m7.7778 s\u001b[0m"
       ]
      },
      {
       "output_type": "stream",
       "stream": "stdout",
       "text": [
        "\n",
        " 100\t  \u001b[32m0.97\u001b[0m/\u001b[35m0.0024\u001b[0m\u001b[32m\t\t0.94\u001b[0m/\u001b[35m0.0048\u001b[0m\t\t\u001b[36m7.6460 s\u001b[0m"
       ]
      },
      {
       "output_type": "stream",
       "stream": "stdout",
       "text": [
        "\n",
        "\u001b[34m\n",
        "--------------------------------------------------------------------\u001b[0m\n",
        "\u001b[34m-- Learning finished in 810.2257s. Given number of epochs performed.\u001b[0m\n"
       ]
      }
     ],
     "prompt_number": 4
    },
    {
     "cell_type": "code",
     "collapsed": false,
     "input": [
      "print net.evaluate(x=dataset['x_test'], y=dataset['y_test'])"
     ],
     "language": "python",
     "metadata": {},
     "outputs": [
      {
       "ename": "KeyError",
       "evalue": "7",
       "output_type": "pyerr",
       "traceback": [
        "\u001b[0;31m---------------------------------------------------------------------------\u001b[0m\n\u001b[0;31mKeyError\u001b[0m                                  Traceback (most recent call last)",
        "\u001b[0;32m<ipython-input-5-736c4f8d535e>\u001b[0m in \u001b[0;36m<module>\u001b[0;34m()\u001b[0m\n\u001b[0;32m----> 1\u001b[0;31m \u001b[0;32mprint\u001b[0m \u001b[0mnet\u001b[0m\u001b[0;34m.\u001b[0m\u001b[0mevaluate\u001b[0m\u001b[0;34m(\u001b[0m\u001b[0mx\u001b[0m\u001b[0;34m=\u001b[0m\u001b[0mdataset\u001b[0m\u001b[0;34m[\u001b[0m\u001b[0;34m'x_test'\u001b[0m\u001b[0;34m]\u001b[0m\u001b[0;34m,\u001b[0m \u001b[0my\u001b[0m\u001b[0;34m=\u001b[0m\u001b[0mdataset\u001b[0m\u001b[0;34m[\u001b[0m\u001b[0;34m'y_test'\u001b[0m\u001b[0;34m]\u001b[0m\u001b[0;34m)\u001b[0m\u001b[0;34m\u001b[0m\u001b[0m\n\u001b[0m",
        "\u001b[0;32m/home/kitt/mt_ws/py/kitt_lib/kitt_net.pyc\u001b[0m in \u001b[0;36mevaluate\u001b[0;34m(self, x, y)\u001b[0m\n\u001b[1;32m     80\u001b[0m \u001b[0;34m\u001b[0m\u001b[0m\n\u001b[1;32m     81\u001b[0m     \u001b[0;32mdef\u001b[0m \u001b[0mevaluate\u001b[0m\u001b[0;34m(\u001b[0m\u001b[0mself\u001b[0m\u001b[0;34m,\u001b[0m \u001b[0mx\u001b[0m\u001b[0;34m,\u001b[0m \u001b[0my\u001b[0m\u001b[0;34m)\u001b[0m\u001b[0;34m:\u001b[0m\u001b[0;34m\u001b[0m\u001b[0m\n\u001b[0;32m---> 82\u001b[0;31m         \u001b[0;32mreturn\u001b[0m \u001b[0mself\u001b[0m\u001b[0;34m.\u001b[0m\u001b[0mevaluate_\u001b[0m\u001b[0;34m(\u001b[0m\u001b[0mdata\u001b[0m\u001b[0;34m=\u001b[0m\u001b[0mzip\u001b[0m\u001b[0;34m(\u001b[0m\u001b[0mx\u001b[0m\u001b[0;34m,\u001b[0m \u001b[0marray\u001b[0m\u001b[0;34m(\u001b[0m\u001b[0;34m[\u001b[0m\u001b[0mself\u001b[0m\u001b[0;34m.\u001b[0m\u001b[0mlabel_sign\u001b[0m\u001b[0;34m[\u001b[0m\u001b[0my_i\u001b[0m\u001b[0;34m]\u001b[0m \u001b[0;32mfor\u001b[0m \u001b[0my_i\u001b[0m \u001b[0;32min\u001b[0m \u001b[0my\u001b[0m\u001b[0;34m]\u001b[0m\u001b[0;34m)\u001b[0m\u001b[0;34m)\u001b[0m\u001b[0;34m)\u001b[0m\u001b[0;34m\u001b[0m\u001b[0m\n\u001b[0m\u001b[1;32m     83\u001b[0m \u001b[0;34m\u001b[0m\u001b[0m\n\u001b[1;32m     84\u001b[0m     \u001b[0;32mdef\u001b[0m \u001b[0mevaluate_\u001b[0m\u001b[0;34m(\u001b[0m\u001b[0mself\u001b[0m\u001b[0;34m,\u001b[0m \u001b[0mdata\u001b[0m\u001b[0;34m,\u001b[0m \u001b[0macc_buf\u001b[0m\u001b[0;34m=\u001b[0m\u001b[0mNone\u001b[0m\u001b[0;34m,\u001b[0m \u001b[0merr_buf\u001b[0m\u001b[0;34m=\u001b[0m\u001b[0mNone\u001b[0m\u001b[0;34m)\u001b[0m\u001b[0;34m:\u001b[0m\u001b[0;34m\u001b[0m\u001b[0m\n",
        "\u001b[0;31mKeyError\u001b[0m: 7"
       ]
      }
     ],
     "prompt_number": 5
    },
    {
     "cell_type": "code",
     "collapsed": false,
     "input": [
      "net.prune(req_acc=0.96, req_err=0.05, n_epoch=10, levels=(75, 50, 30, 20, 10, 1, 0))"
     ],
     "language": "python",
     "metadata": {},
     "outputs": [
      {
       "output_type": "stream",
       "stream": "stdout",
       "text": [
        "\u001b[34m\n",
        "--------------------------------------------------------------------\u001b[0m\n",
        "\u001b[34m-- Pruning has started...\u001b[0m\n",
        "\u001b[34m\t% net initial structure: \u001b[0m[784, 20, 10]\n",
        "\u001b[34m\t% net initial number of synapses (w, b): \u001b[0m(15880, 30)\n",
        "\u001b[34m\t% min required accuracy (s.c.): \u001b[0m0.96\n",
        "\u001b[34m\t% max required error (s.c.): \u001b[0m0.05\n",
        "\u001b[34m\t% maximum number of re-training epochs (gu.c.): \u001b[0m10\n",
        "\u001b[34m\t% number of stable iterations (gu.c.): \u001b[0m10\n",
        "\n",
        "\n",
        "step    trying to cut     structure           left synapses (w/b)    retrained      next level     step time      \n",
        "--------------------------------------------------------------------------------------------------------------\n",
        "\u001b[33m0       0                 [784, 20, 10]       (15880, 30)            None           75             \u001b[36mNone\u001b[0m  \u001b[0m\n",
        "\u001b[32m1       11910             [550, 19, 10]       (3960, 29)             yes            75             \u001b[36m68.5727 s\u001b[0m\u001b[0m"
       ]
      },
      {
       "output_type": "stream",
       "stream": "stdout",
       "text": [
        "\n",
        "\u001b[31m2       2970              [401, 19, 10]       (990, 29)              no             50             \u001b[36m102.7613 s\u001b[0m\u001b[0m"
       ]
      },
      {
       "output_type": "stream",
       "stream": "stdout",
       "text": [
        "\n",
        "\u001b[31m3       1980              [497, 19, 10]       (1980, 29)             no             30             \u001b[36m113.7087 s\u001b[0m\u001b[0m"
       ]
      },
      {
       "output_type": "stream",
       "stream": "stdout",
       "text": [
        "\n",
        "\u001b[32m4       1188              [527, 19, 10]       (2772, 29)             yes            30             \u001b[36m87.5589 s\u001b[0m\u001b[0m"
       ]
      },
      {
       "output_type": "stream",
       "stream": "stdout",
       "text": [
        "\n",
        "\u001b[31m5       832               [493, 19, 10]       (1940, 29)             no             20             \u001b[36m112.5448 s\u001b[0m\u001b[0m"
       ]
      },
      {
       "output_type": "stream",
       "stream": "stdout",
       "text": [
        "\n",
        "\u001b[31m6       555               [511, 19, 10]       (2217, 29)             no             10             \u001b[36m113.794 s\u001b[0m\u001b[0m"
       ]
      },
      {
       "output_type": "stream",
       "stream": "stdout",
       "text": [
        "\n",
        "\u001b[32m7       278               [527, 19, 10]       (2494, 29)             yes            10             \u001b[36m77.7958 s\u001b[0m\u001b[0m"
       ]
      },
      {
       "output_type": "stream",
       "stream": "stdout",
       "text": [
        "\n",
        "\u001b[32m8       250               [520, 19, 10]       (2244, 29)             yes            10             \u001b[36m81.3026 s\u001b[0m\u001b[0m"
       ]
      },
      {
       "output_type": "stream",
       "stream": "stdout",
       "text": [
        "\n",
        "\u001b[32m9       225               [512, 19, 10]       (2019, 29)             yes            10             \u001b[36m37.3992 s\u001b[0m\u001b[0m"
       ]
      },
      {
       "output_type": "stream",
       "stream": "stdout",
       "text": [
        "\n",
        "\u001b[31m10      202               [500, 19, 10]       (1817, 29)             no             1              \u001b[36m115.3163 s\u001b[0m\u001b[0m"
       ]
      },
      {
       "output_type": "stream",
       "stream": "stdout",
       "text": [
        "\n",
        "\u001b[32m11      21                [511, 19, 10]       (1998, 29)             yes            1              \u001b[36m37.403 s\u001b[0m\u001b[0m"
       ]
      },
      {
       "output_type": "stream",
       "stream": "stdout",
       "text": [
        "\n",
        "\u001b[32m12      20                [511, 19, 10]       (1978, 29)             yes            1              \u001b[36m37.0613 s\u001b[0m\u001b[0m"
       ]
      },
      {
       "output_type": "stream",
       "stream": "stdout",
       "text": [
        "\n",
        "\u001b[32m13      20                [511, 19, 10]       (1958, 29)             yes            1              \u001b[36m27.7935 s\u001b[0m\u001b[0m"
       ]
      },
      {
       "output_type": "stream",
       "stream": "stdout",
       "text": [
        "\n",
        "\u001b[32m14      20                [511, 19, 10]       (1938, 29)             yes            1              \u001b[36m56.1727 s\u001b[0m\u001b[0m"
       ]
      },
      {
       "output_type": "stream",
       "stream": "stdout",
       "text": [
        "\n",
        "\u001b[32m15      20                [511, 19, 10]       (1918, 29)             yes            1              \u001b[36m28.2111 s\u001b[0m\u001b[0m"
       ]
      },
      {
       "output_type": "stream",
       "stream": "stdout",
       "text": [
        "\n",
        "\u001b[32m16      20                [511, 19, 10]       (1898, 29)             yes            1              \u001b[36m37.4146 s\u001b[0m\u001b[0m"
       ]
      },
      {
       "output_type": "stream",
       "stream": "stdout",
       "text": [
        "\n",
        "\u001b[32m17      19                [511, 19, 10]       (1879, 29)             yes            1              \u001b[36m28.4937 s\u001b[0m\u001b[0m"
       ]
      },
      {
       "output_type": "stream",
       "stream": "stdout",
       "text": [
        "\n",
        "\u001b[32m18      19                [511, 19, 10]       (1860, 29)             yes            1              \u001b[36m56.5781 s\u001b[0m\u001b[0m"
       ]
      },
      {
       "output_type": "stream",
       "stream": "stdout",
       "text": [
        "\n",
        "\u001b[32m19      19                [511, 19, 10]       (1841, 29)             yes            1              \u001b[36m28.4003 s\u001b[0m\u001b[0m"
       ]
      },
      {
       "output_type": "stream",
       "stream": "stdout",
       "text": [
        "\n",
        "\u001b[32m20      19                [510, 19, 10]       (1822, 29)             yes            1              \u001b[36m37.636 s\u001b[0m\u001b[0m"
       ]
      },
      {
       "output_type": "stream",
       "stream": "stdout",
       "text": [
        "\n",
        "\u001b[32m21      19                [510, 19, 10]       (1803, 29)             yes            1              \u001b[36m27.8065 s\u001b[0m\u001b[0m"
       ]
      },
      {
       "output_type": "stream",
       "stream": "stdout",
       "text": [
        "\n",
        "\u001b[32m22      19                [510, 19, 10]       (1784, 29)             yes            1              \u001b[36m65.8293 s\u001b[0m\u001b[0m"
       ]
      },
      {
       "output_type": "stream",
       "stream": "stdout",
       "text": [
        "\n",
        "\u001b[32m23      18                [510, 19, 10]       (1766, 29)             yes            1              \u001b[36m47.2006 s\u001b[0m\u001b[0m"
       ]
      },
      {
       "output_type": "stream",
       "stream": "stdout",
       "text": [
        "\n",
        "\u001b[32m24      18                [509, 19, 10]       (1748, 29)             yes            1              \u001b[36m28.1182 s\u001b[0m\u001b[0m"
       ]
      },
      {
       "output_type": "stream",
       "stream": "stdout",
       "text": [
        "\n",
        "\u001b[32m25      18                [509, 19, 10]       (1730, 29)             yes            1              \u001b[36m37.4204 s\u001b[0m\u001b[0m"
       ]
      },
      {
       "output_type": "stream",
       "stream": "stdout",
       "text": [
        "\n",
        "\u001b[32m26      18                [507, 19, 10]       (1712, 29)             yes            1              \u001b[36m37.1644 s\u001b[0m\u001b[0m"
       ]
      },
      {
       "output_type": "stream",
       "stream": "stdout",
       "text": [
        "\n",
        "\u001b[32m27      18                [506, 19, 10]       (1694, 29)             yes            1              \u001b[36m27.6894 s\u001b[0m\u001b[0m"
       ]
      },
      {
       "output_type": "stream",
       "stream": "stdout",
       "text": [
        "\n",
        "\u001b[32m28      17                [506, 19, 10]       (1677, 29)             yes            1              \u001b[36m36.9851 s\u001b[0m\u001b[0m"
       ]
      },
      {
       "output_type": "stream",
       "stream": "stdout",
       "text": [
        "\n",
        "\u001b[32m29      17                [504, 19, 10]       (1660, 29)             yes            1              \u001b[36m37.032 s\u001b[0m\u001b[0m"
       ]
      },
      {
       "output_type": "stream",
       "stream": "stdout",
       "text": [
        "\n",
        "\u001b[32m30      17                [501, 19, 10]       (1643, 29)             yes            1              \u001b[36m27.5832 s\u001b[0m\u001b[0m"
       ]
      },
      {
       "output_type": "stream",
       "stream": "stdout",
       "text": [
        "\n",
        "\u001b[32m31      17                [500, 19, 10]       (1626, 29)             yes            1              \u001b[36m27.2686 s\u001b[0m\u001b[0m"
       ]
      },
      {
       "output_type": "stream",
       "stream": "stdout",
       "text": [
        "\n",
        "\u001b[32m32      17                [499, 19, 10]       (1609, 29)             yes            1              \u001b[36m57.1213 s\u001b[0m\u001b[0m"
       ]
      },
      {
       "output_type": "stream",
       "stream": "stdout",
       "text": [
        "\n",
        "\u001b[32m33      17                [499, 19, 10]       (1592, 29)             yes            1              \u001b[36m47.0534 s\u001b[0m\u001b[0m"
       ]
      },
      {
       "output_type": "stream",
       "stream": "stdout",
       "text": [
        "\n",
        "\u001b[32m34      16                [497, 19, 10]       (1576, 29)             yes            1              \u001b[36m45.8631 s\u001b[0m\u001b[0m"
       ]
      },
      {
       "output_type": "stream",
       "stream": "stdout",
       "text": [
        "\n",
        "\u001b[32m35      16                [497, 19, 10]       (1560, 29)             yes            1              \u001b[36m36.5404 s\u001b[0m\u001b[0m"
       ]
      },
      {
       "output_type": "stream",
       "stream": "stdout",
       "text": [
        "\n",
        "\u001b[31m36      16                [495, 19, 10]       (1544, 29)             no             0              \u001b[36m112.3119 s\u001b[0m\u001b[0m"
       ]
      },
      {
       "output_type": "stream",
       "stream": "stdout",
       "text": [
        "\n",
        "\u001b[32m37      1                 [497, 19, 10]       (1559, 29)             yes            0              \u001b[36m94.2726 s\u001b[0m\u001b[0m"
       ]
      },
      {
       "output_type": "stream",
       "stream": "stdout",
       "text": [
        "\n",
        "\u001b[32m38      1                 [497, 19, 10]       (1558, 29)             yes            0              \u001b[36m27.5564 s\u001b[0m\u001b[0m"
       ]
      },
      {
       "output_type": "stream",
       "stream": "stdout",
       "text": [
        "\n",
        "\u001b[32m39      1                 [497, 19, 10]       (1557, 29)             yes            0              \u001b[36m37.0528 s\u001b[0m\u001b[0m"
       ]
      },
      {
       "output_type": "stream",
       "stream": "stdout",
       "text": [
        "\n",
        "\u001b[32m40      1                 [497, 19, 10]       (1556, 29)             yes            0              \u001b[36m37.2516 s\u001b[0m\u001b[0m"
       ]
      },
      {
       "output_type": "stream",
       "stream": "stdout",
       "text": [
        "\n",
        "\u001b[32m41      1                 [497, 19, 10]       (1555, 29)             yes            0              \u001b[36m27.2603 s\u001b[0m\u001b[0m"
       ]
      },
      {
       "output_type": "stream",
       "stream": "stdout",
       "text": [
        "\n",
        "\u001b[32m42      1                 [497, 19, 10]       (1554, 29)             yes            0              \u001b[36m36.5901 s\u001b[0m\u001b[0m"
       ]
      },
      {
       "output_type": "stream",
       "stream": "stdout",
       "text": [
        "\n",
        "\u001b[32m43      1                 [497, 19, 10]       (1553, 29)             yes            0              \u001b[36m27.8558 s\u001b[0m\u001b[0m"
       ]
      },
      {
       "output_type": "stream",
       "stream": "stdout",
       "text": [
        "\n",
        "\u001b[32m44      1                 [497, 19, 10]       (1552, 29)             yes            0              \u001b[36m46.9751 s\u001b[0m\u001b[0m"
       ]
      },
      {
       "output_type": "stream",
       "stream": "stdout",
       "text": [
        "\n",
        "\u001b[32m45      1                 [497, 19, 10]       (1551, 29)             yes            0              \u001b[36m39.5849 s\u001b[0m\u001b[0m"
       ]
      },
      {
       "output_type": "stream",
       "stream": "stdout",
       "text": [
        "\n",
        "\u001b[32m46      1                 [497, 19, 10]       (1550, 29)             yes            0              \u001b[36m36.9262 s\u001b[0m\u001b[0m"
       ]
      },
      {
       "output_type": "stream",
       "stream": "stdout",
       "text": [
        "\n",
        "\u001b[32m47      1                 [497, 19, 10]       (1549, 29)             yes            0              \u001b[36m29.3579 s\u001b[0m\u001b[0m"
       ]
      },
      {
       "output_type": "stream",
       "stream": "stdout",
       "text": [
        "\n",
        "\u001b[32m48      1                 [497, 19, 10]       (1548, 29)             yes            0              \u001b[36m46.4458 s\u001b[0m\u001b[0m"
       ]
      },
      {
       "output_type": "stream",
       "stream": "stdout",
       "text": [
        "\n",
        "\u001b[32m49      1                 [497, 19, 10]       (1547, 29)             yes            0              \u001b[36m27.2843 s\u001b[0m\u001b[0m"
       ]
      },
      {
       "output_type": "stream",
       "stream": "stdout",
       "text": [
        "\n",
        "\u001b[32m50      1                 [497, 19, 10]       (1546, 29)             yes            0              \u001b[36m27.4783 s\u001b[0m\u001b[0m"
       ]
      },
      {
       "output_type": "stream",
       "stream": "stdout",
       "text": [
        "\n",
        "\u001b[32m51      1                 [497, 19, 10]       (1545, 29)             yes            0              \u001b[36m27.2364 s\u001b[0m\u001b[0m"
       ]
      },
      {
       "output_type": "stream",
       "stream": "stdout",
       "text": [
        "\n",
        "\u001b[32m52      1                 [497, 19, 10]       (1544, 29)             yes            0              \u001b[36m27.2755 s\u001b[0m\u001b[0m"
       ]
      },
      {
       "output_type": "stream",
       "stream": "stdout",
       "text": [
        "\n",
        "\u001b[32m53      1                 [497, 19, 10]       (1543, 29)             yes            0              \u001b[36m27.3904 s\u001b[0m\u001b[0m"
       ]
      },
      {
       "output_type": "stream",
       "stream": "stdout",
       "text": [
        "\n",
        "\u001b[32m54      1                 [497, 19, 10]       (1542, 29)             yes            0              \u001b[36m27.5788 s\u001b[0m\u001b[0m"
       ]
      },
      {
       "output_type": "stream",
       "stream": "stdout",
       "text": [
        "\n",
        "\u001b[32m55      1                 [497, 19, 10]       (1541, 29)             yes            0              \u001b[36m37.3103 s\u001b[0m\u001b[0m"
       ]
      },
      {
       "output_type": "stream",
       "stream": "stdout",
       "text": [
        "\n",
        "\u001b[32m56      1                 [497, 19, 10]       (1540, 29)             yes            0              \u001b[36m27.3154 s\u001b[0m\u001b[0m"
       ]
      },
      {
       "output_type": "stream",
       "stream": "stdout",
       "text": [
        "\n",
        "\u001b[32m57      1                 [496, 19, 10]       (1539, 29)             yes            0              \u001b[36m27.4289 s\u001b[0m\u001b[0m"
       ]
      },
      {
       "output_type": "stream",
       "stream": "stdout",
       "text": [
        "\n",
        "\u001b[32m58      1                 [496, 19, 10]       (1538, 29)             yes            0              \u001b[36m27.868 s\u001b[0m\u001b[0m"
       ]
      },
      {
       "output_type": "stream",
       "stream": "stdout",
       "text": [
        "\n",
        "\u001b[32m59      1                 [496, 19, 10]       (1537, 29)             yes            0              \u001b[36m36.6802 s\u001b[0m\u001b[0m"
       ]
      },
      {
       "output_type": "stream",
       "stream": "stdout",
       "text": [
        "\n",
        "\u001b[32m60      1                 [496, 19, 10]       (1536, 29)             yes            0              \u001b[36m28.1199 s\u001b[0m\u001b[0m"
       ]
      },
      {
       "output_type": "stream",
       "stream": "stdout",
       "text": [
        "\n",
        "\u001b[32m61      1                 [496, 19, 10]       (1535, 29)             yes            0              \u001b[36m27.3212 s\u001b[0m\u001b[0m"
       ]
      },
      {
       "output_type": "stream",
       "stream": "stdout",
       "text": [
        "\n",
        "\u001b[32m62      1                 [495, 19, 10]       (1534, 29)             yes            0              \u001b[36m37.1137 s\u001b[0m\u001b[0m"
       ]
      },
      {
       "output_type": "stream",
       "stream": "stdout",
       "text": [
        "\n",
        "\u001b[32m63      1                 [495, 19, 10]       (1533, 29)             yes            0              \u001b[36m28.1318 s\u001b[0m\u001b[0m"
       ]
      },
      {
       "output_type": "stream",
       "stream": "stdout",
       "text": [
        "\n",
        "\u001b[32m64      1                 [495, 19, 10]       (1532, 29)             yes            0              \u001b[36m27.6741 s\u001b[0m\u001b[0m"
       ]
      },
      {
       "output_type": "stream",
       "stream": "stdout",
       "text": [
        "\n",
        "\u001b[32m65      1                 [495, 19, 10]       (1531, 29)             yes            0              \u001b[36m28.1487 s\u001b[0m\u001b[0m"
       ]
      },
      {
       "output_type": "stream",
       "stream": "stdout",
       "text": [
        "\n",
        "\u001b[32m66      1                 [495, 19, 10]       (1530, 29)             yes            0              \u001b[36m27.5086 s\u001b[0m\u001b[0m"
       ]
      },
      {
       "output_type": "stream",
       "stream": "stdout",
       "text": [
        "\n",
        "\u001b[32m67      1                 [495, 19, 10]       (1529, 29)             yes            0              \u001b[36m27.1118 s\u001b[0m\u001b[0m"
       ]
      },
      {
       "output_type": "stream",
       "stream": "stdout",
       "text": [
        "\n",
        "\u001b[32m68      1                 [495, 19, 10]       (1528, 29)             yes            0              \u001b[36m27.0715 s\u001b[0m\u001b[0m"
       ]
      },
      {
       "output_type": "stream",
       "stream": "stdout",
       "text": [
        "\n",
        "\u001b[32m69      1                 [495, 19, 10]       (1527, 29)             yes            0              \u001b[36m26.9353 s\u001b[0m\u001b[0m"
       ]
      },
      {
       "output_type": "stream",
       "stream": "stdout",
       "text": [
        "\n",
        "\u001b[32m70      1                 [495, 19, 10]       (1526, 29)             yes            0              \u001b[36m27.4524 s\u001b[0m\u001b[0m"
       ]
      },
      {
       "output_type": "stream",
       "stream": "stdout",
       "text": [
        "\n",
        "\u001b[32m71      1                 [495, 19, 10]       (1525, 29)             yes            0              \u001b[36m27.6171 s\u001b[0m\u001b[0m"
       ]
      },
      {
       "output_type": "stream",
       "stream": "stdout",
       "text": [
        "\n",
        "\u001b[32m72      1                 [495, 19, 10]       (1524, 29)             yes            0              \u001b[36m27.3856 s\u001b[0m\u001b[0m"
       ]
      },
      {
       "output_type": "stream",
       "stream": "stdout",
       "text": [
        "\n",
        "\u001b[32m73      1                 [495, 19, 10]       (1523, 29)             yes            0              \u001b[36m27.1622 s\u001b[0m\u001b[0m"
       ]
      },
      {
       "output_type": "stream",
       "stream": "stdout",
       "text": [
        "\n",
        "\u001b[32m74      1                 [494, 19, 10]       (1522, 29)             yes            0              \u001b[36m28.1668 s\u001b[0m\u001b[0m"
       ]
      },
      {
       "output_type": "stream",
       "stream": "stdout",
       "text": [
        "\n",
        "\u001b[32m75      1                 [494, 19, 10]       (1521, 29)             yes            0              \u001b[36m28.5267 s\u001b[0m\u001b[0m"
       ]
      },
      {
       "output_type": "stream",
       "stream": "stdout",
       "text": [
        "\n",
        "\u001b[32m76      1                 [494, 19, 10]       (1520, 29)             yes            0              \u001b[36m38.3024 s\u001b[0m\u001b[0m"
       ]
      },
      {
       "output_type": "stream",
       "stream": "stdout",
       "text": [
        "\n",
        "\u001b[32m77      1                 [494, 19, 10]       (1519, 29)             yes            0              \u001b[36m28.4036 s\u001b[0m\u001b[0m"
       ]
      },
      {
       "output_type": "stream",
       "stream": "stdout",
       "text": [
        "\n",
        "\u001b[32m78      1                 [494, 19, 10]       (1518, 29)             yes            0              \u001b[36m28.016 s\u001b[0m\u001b[0m"
       ]
      },
      {
       "output_type": "stream",
       "stream": "stdout",
       "text": [
        "\n",
        "\u001b[32m79      1                 [494, 19, 10]       (1517, 29)             yes            0              \u001b[36m37.8038 s\u001b[0m\u001b[0m"
       ]
      },
      {
       "output_type": "stream",
       "stream": "stdout",
       "text": [
        "\n",
        "\u001b[32m80      1                 [494, 19, 10]       (1516, 29)             yes            0              \u001b[36m28.5137 s\u001b[0m\u001b[0m"
       ]
      },
      {
       "output_type": "stream",
       "stream": "stdout",
       "text": [
        "\n",
        "\u001b[32m81      1                 [494, 19, 10]       (1515, 29)             yes            0              \u001b[36m28.4956 s\u001b[0m\u001b[0m"
       ]
      },
      {
       "output_type": "stream",
       "stream": "stdout",
       "text": [
        "\n",
        "\u001b[32m82      1                 [494, 19, 10]       (1514, 29)             yes            0              \u001b[36m38.4225 s\u001b[0m\u001b[0m"
       ]
      },
      {
       "output_type": "stream",
       "stream": "stdout",
       "text": [
        "\n",
        "\u001b[32m83      1                 [494, 19, 10]       (1513, 29)             yes            0              \u001b[36m28.889 s\u001b[0m\u001b[0m"
       ]
      },
      {
       "output_type": "stream",
       "stream": "stdout",
       "text": [
        "\n",
        "\u001b[32m84      1                 [494, 19, 10]       (1512, 29)             yes            0              \u001b[36m28.5659 s\u001b[0m\u001b[0m"
       ]
      },
      {
       "output_type": "stream",
       "stream": "stdout",
       "text": [
        "\n",
        "\u001b[32m85      1                 [493, 19, 10]       (1511, 29)             yes            0              \u001b[36m28.7727 s\u001b[0m\u001b[0m"
       ]
      },
      {
       "output_type": "stream",
       "stream": "stdout",
       "text": [
        "\n",
        "\u001b[32m86      1                 [493, 19, 10]       (1510, 29)             yes            0              \u001b[36m41.6742 s\u001b[0m\u001b[0m"
       ]
      },
      {
       "output_type": "stream",
       "stream": "stdout",
       "text": [
        "\n",
        "\u001b[32m87      1                 [493, 19, 10]       (1509, 29)             yes            0              \u001b[36m38.2376 s\u001b[0m\u001b[0m"
       ]
      },
      {
       "output_type": "stream",
       "stream": "stdout",
       "text": [
        "\n",
        "\u001b[32m88      1                 [493, 19, 10]       (1508, 29)             yes            0              \u001b[36m28.1513 s\u001b[0m\u001b[0m"
       ]
      },
      {
       "output_type": "stream",
       "stream": "stdout",
       "text": [
        "\n",
        "\u001b[32m89      1                 [493, 19, 10]       (1507, 29)             yes            0              \u001b[36m28.5783 s\u001b[0m\u001b[0m"
       ]
      },
      {
       "output_type": "stream",
       "stream": "stdout",
       "text": [
        "\n",
        "\u001b[32m90      1                 [493, 19, 10]       (1506, 29)             yes            0              \u001b[36m28.2368 s\u001b[0m\u001b[0m"
       ]
      },
      {
       "output_type": "stream",
       "stream": "stdout",
       "text": [
        "\n",
        "\u001b[32m91      1                 [493, 19, 10]       (1505, 29)             yes            0              \u001b[36m28.3054 s\u001b[0m\u001b[0m"
       ]
      },
      {
       "output_type": "stream",
       "stream": "stdout",
       "text": [
        "\n",
        "\u001b[32m92      1                 [493, 19, 10]       (1504, 29)             yes            0              \u001b[36m38.2323 s\u001b[0m\u001b[0m"
       ]
      },
      {
       "output_type": "stream",
       "stream": "stdout",
       "text": [
        "\n",
        "\u001b[32m93      1                 [493, 19, 10]       (1503, 29)             yes            0              \u001b[36m28.9116 s\u001b[0m\u001b[0m"
       ]
      },
      {
       "output_type": "stream",
       "stream": "stdout",
       "text": [
        "\n",
        "\u001b[32m94      1                 [493, 19, 10]       (1502, 29)             yes            0              \u001b[36m34.7775 s\u001b[0m\u001b[0m"
       ]
      },
      {
       "output_type": "stream",
       "stream": "stdout",
       "text": [
        "\n",
        "\u001b[32m95      1                 [493, 19, 10]       (1501, 29)             yes            0              \u001b[36m28.2244 s\u001b[0m\u001b[0m"
       ]
      },
      {
       "output_type": "stream",
       "stream": "stdout",
       "text": [
        "\n",
        "\u001b[32m96      1                 [493, 19, 10]       (1500, 29)             yes            0              \u001b[36m37.4802 s\u001b[0m\u001b[0m"
       ]
      },
      {
       "output_type": "stream",
       "stream": "stdout",
       "text": [
        "\n",
        "\u001b[32m97      1                 [493, 19, 10]       (1499, 29)             yes            0              \u001b[36m31.6084 s\u001b[0m\u001b[0m"
       ]
      },
      {
       "output_type": "stream",
       "stream": "stdout",
       "text": [
        "\n",
        "\u001b[32m98      1                 [493, 19, 10]       (1498, 29)             yes            0              \u001b[36m30.2048 s\u001b[0m\u001b[0m"
       ]
      },
      {
       "output_type": "stream",
       "stream": "stdout",
       "text": [
        "\n",
        "\u001b[32m99      1                 [493, 19, 10]       (1497, 29)             yes            0              \u001b[36m26.9913 s\u001b[0m\u001b[0m"
       ]
      },
      {
       "output_type": "stream",
       "stream": "stdout",
       "text": [
        "\n",
        "\u001b[32m100     1                 [493, 19, 10]       (1496, 29)             yes            0              \u001b[36m42.0381 s\u001b[0m\u001b[0m"
       ]
      },
      {
       "output_type": "stream",
       "stream": "stdout",
       "text": [
        "\n",
        "\u001b[32m101     1                 [493, 19, 10]       (1495, 29)             yes            0              \u001b[36m42.1242 s\u001b[0m\u001b[0m"
       ]
      },
      {
       "output_type": "stream",
       "stream": "stdout",
       "text": [
        "\n",
        "\u001b[32m102     1                 [493, 19, 10]       (1494, 29)             yes            0              \u001b[36m28.3715 s\u001b[0m\u001b[0m"
       ]
      },
      {
       "output_type": "stream",
       "stream": "stdout",
       "text": [
        "\n",
        "\u001b[32m103     1                 [493, 19, 10]       (1493, 29)             yes            0              \u001b[36m28.4057 s\u001b[0m\u001b[0m"
       ]
      },
      {
       "output_type": "stream",
       "stream": "stdout",
       "text": [
        "\n",
        "\u001b[32m104     1                 [493, 19, 10]       (1492, 29)             yes            0              \u001b[36m30.3133 s\u001b[0m\u001b[0m"
       ]
      }
     ]
    },
    {
     "cell_type": "code",
     "collapsed": false,
     "input": [
      "net.dump('../examples/mnist/net_mnist_pruned.net')"
     ],
     "language": "python",
     "metadata": {},
     "outputs": [
      {
       "output_type": "stream",
       "stream": "stdout",
       "text": [
        "\u001b[34m\n",
        "--------------------------------------------------------------------\u001b[0m\n",
        "\u001b[34m-- Net dumped as ../examples/mnist/net_mnist.net\u001b[0m\n"
       ]
      }
     ],
     "prompt_number": 5
    },
    {
     "cell_type": "code",
     "collapsed": false,
     "input": [
      "net.load('../examples/mnist/net_mnist_pruned.net')"
     ],
     "language": "python",
     "metadata": {},
     "outputs": [],
     "prompt_number": 4
    },
    {
     "cell_type": "code",
     "collapsed": false,
     "input": [
      "net.v_data = net.prepare_data(x=dataset['x_val'], y=dataset['y_val'])\n",
      "net.t_data = net.prepare_data(x=dataset['x'], y=dataset['y'])\n",
      "test_data = net.prepare_data(x=dataset['x_test'], y=dataset['y_test'])"
     ],
     "language": "python",
     "metadata": {},
     "outputs": [],
     "prompt_number": 5
    },
    {
     "cell_type": "code",
     "collapsed": false,
     "input": [
      "net.retrain(learning_rate=0.3, n_epoch=10, req_acc=1.0, batch_size=10)\n",
      "#print net.evaluate_(data=test_data)"
     ],
     "language": "python",
     "metadata": {},
     "outputs": [
      {
       "output_type": "stream",
       "stream": "stdout",
       "text": [
        "\u001b[34m\n",
        "--------------------------------------------------------------------\u001b[0m\n",
        "\u001b[34m-- Learning has started...\u001b[0m\n",
        "\u001b[34m\t% problem dimension: \u001b[0m206\n",
        "\u001b[34m\t% number of training samples: \u001b[0m9920\n",
        "\u001b[34m\t% number of validation samples: \u001b[0m10000\n",
        "\u001b[34m\t% learning rate: \u001b[0m0.3\n",
        "\u001b[34m\t% mini-batch size: \u001b[0m10\n",
        "\u001b[34m\t% maximum number of epochs (t.c.): \u001b[0m10\n",
        "\u001b[34m\t% maximum number of stable epochs (t.c.): \u001b[0minf\n",
        "\u001b[34m\t% required accuracy (t.c.): \u001b[0m1.0\n",
        "\u001b[34m\t% required error (t.c.): \u001b[0m-inf\n",
        "\n",
        "\n",
        "epoch   on training data      on validation data       epoch time          \n",
        "-------------------------------------------------------------------\n",
        " 1\t  \u001b[32m0.99\u001b[0m/\u001b[31m0.0014\u001b[0m\u001b[32m\t\t0.46\u001b[0m/\u001b[31m0.0389\u001b[0m\t\t\u001b[36m0.8739 s\u001b[0m"
       ]
      },
      {
       "output_type": "stream",
       "stream": "stdout",
       "text": [
        "\n",
        " 2\t  \u001b[32m0.99\u001b[0m/\u001b[31m0.0013\u001b[0m\u001b[32m\t\t0.41\u001b[0m/\u001b[35m0.0469\u001b[0m\t\t\u001b[36m0.8598 s\u001b[0m"
       ]
      },
      {
       "output_type": "stream",
       "stream": "stdout",
       "text": [
        "\n",
        " 3\t  \u001b[32m0.99\u001b[0m/\u001b[31m0.0011\u001b[0m\u001b[32m\t\t0.40\u001b[0m/\u001b[35m0.0470\u001b[0m\t\t\u001b[36m0.8650 s\u001b[0m"
       ]
      },
      {
       "output_type": "stream",
       "stream": "stdout",
       "text": [
        "\n",
        " 4\t  \u001b[32m0.99\u001b[0m/\u001b[31m0.0010\u001b[0m\u001b[32m\t\t0.38\u001b[0m/\u001b[35m0.0503\u001b[0m\t\t\u001b[36m0.8534 s\u001b[0m"
       ]
      },
      {
       "output_type": "stream",
       "stream": "stdout",
       "text": [
        "\n",
        " 5\t  \u001b[32m0.99\u001b[0m/\u001b[31m0.0010\u001b[0m\u001b[32m\t\t0.37\u001b[0m/\u001b[35m0.0506\u001b[0m\t\t\u001b[36m0.8691 s\u001b[0m"
       ]
      },
      {
       "output_type": "stream",
       "stream": "stdout",
       "text": [
        "\n",
        " 6\t  \u001b[32m0.99\u001b[0m/\u001b[31m0.0010\u001b[0m\u001b[32m\t\t0.36\u001b[0m/\u001b[35m0.0512\u001b[0m\t\t\u001b[36m0.8337 s\u001b[0m"
       ]
      },
      {
       "output_type": "stream",
       "stream": "stdout",
       "text": [
        "\n",
        " 7\t  \u001b[32m0.99\u001b[0m/\u001b[31m0.0009\u001b[0m\u001b[32m\t\t0.35\u001b[0m/\u001b[35m0.0537\u001b[0m\t\t\u001b[36m0.8422 s\u001b[0m"
       ]
      },
      {
       "output_type": "stream",
       "stream": "stdout",
       "text": [
        "\n",
        " 8\t  \u001b[32m0.99\u001b[0m/\u001b[31m0.0008\u001b[0m\u001b[32m\t\t0.32\u001b[0m/\u001b[35m0.0564\u001b[0m\t\t\u001b[36m0.8415 s\u001b[0m"
       ]
      },
      {
       "output_type": "stream",
       "stream": "stdout",
       "text": [
        "\n",
        " 9\t  \u001b[32m0.99\u001b[0m/\u001b[31m0.0008\u001b[0m\u001b[32m\t\t0.32\u001b[0m/\u001b[35m0.0551\u001b[0m\t\t\u001b[36m0.8325 s\u001b[0m"
       ]
      },
      {
       "output_type": "stream",
       "stream": "stdout",
       "text": [
        "\n",
        " 10\t  \u001b[32m0.99\u001b[0m/\u001b[31m0.0008\u001b[0m\u001b[32m\t\t0.32\u001b[0m/\u001b[35m0.0559\u001b[0m\t\t\u001b[36m0.8385 s\u001b[0m"
       ]
      },
      {
       "output_type": "stream",
       "stream": "stdout",
       "text": [
        "\n",
        "\u001b[34m\n",
        "--------------------------------------------------------------------\u001b[0m\n",
        "\u001b[34m-- Learning finished in 8.5097s. Given number of epochs performed.\u001b[0m\n"
       ]
      }
     ],
     "prompt_number": 38
    },
    {
     "cell_type": "code",
     "collapsed": false,
     "input": [
      "predictions = [net.predict(x)[0][0] for x, y in test_data]\n",
      "print accuracy_score(y_true=dataset['y_test'], y_pred=predictions)\n",
      "print confusion_matrix(y_true=dataset['y_test'], y_pred=predictions, labels=net.labels)"
     ],
     "language": "python",
     "metadata": {},
     "outputs": [
      {
       "output_type": "stream",
       "stream": "stdout",
       "text": [
        "0.9029\n",
        "[[ 941    0    1    2    2    6    6    3   16    3]\n",
        " [   0 1099    8    3    1   12    3    1    8    0]\n",
        " [  17    5  892   14   11    6   18   12   39   18]\n",
        " [   9    2   27  840    1   77    5   17   26    6]\n",
        " [   8    3    2    3  885    2   13    9   11   46]\n",
        " [  12    1    1   21    5  803   26    6   12    5]\n",
        " [  18    3    9    1    7   13  889    5   13    0]\n",
        " [   5   10   31    7   11    2    1  929   10   22]\n",
        " [   7    6    6    8    7   16   21   10  889    4]\n",
        " [   6    4    3   10   42   30    2   26   24  862]]\n"
       ]
      }
     ],
     "prompt_number": 6
    },
    {
     "cell_type": "code",
     "collapsed": false,
     "input": [
      "predictions = [net.predict(x)[0][0] for x, y in test_data]\n",
      "print accuracy_score(y_true=dataset['y_test'], y_pred=predictions)\n",
      "print confusion_matrix(y_true=dataset['y_test'], y_pred=predictions, labels=net.labels)"
     ],
     "language": "python",
     "metadata": {},
     "outputs": [
      {
       "output_type": "stream",
       "stream": "stdout",
       "text": [
        "0.9016\n",
        "[[ 921    0    4    2    6    5   16    3   17    6]\n",
        " [   0 1100    6    2    5    9    6    1    6    0]\n",
        " [   9    5  893   17   16    4   29    7   35   17]\n",
        " [  10    1   24  855    4   60    7   15   25    9]\n",
        " [   0    2    1    2  917    1   20    1    3   35]\n",
        " [   9    1    2   24   16  775   35    7   15    8]\n",
        " [  10    2    4    1   12    7  915    3    4    0]\n",
        " [   3   11   36    8   17    1    2  903    7   40]\n",
        " [   3    6    7    8   16   13   39    7  863   12]\n",
        " [   4    3    3   11   72   11    3   12   16  874]]\n"
       ]
      }
     ],
     "prompt_number": 30
    },
    {
     "cell_type": "code",
     "collapsed": false,
     "input": [
      "net.init_tailoring()\n",
      "net.opt['tailoring'].add_neurons(class_labels=(4, 9), h=10)"
     ],
     "language": "python",
     "metadata": {},
     "outputs": [],
     "prompt_number": 25
    },
    {
     "cell_type": "code",
     "collapsed": false,
     "input": [
      "print net.w[1]"
     ],
     "language": "python",
     "metadata": {},
     "outputs": [
      {
       "output_type": "stream",
       "stream": "stdout",
       "text": [
        "[[  6.49186814e+00  -0.00000000e+00   8.17405861e+00  -0.00000000e+00\n",
        "   -0.00000000e+00  -0.00000000e+00  -0.00000000e+00   4.04808945e+00\n",
        "   -0.00000000e+00   4.10961092e+00  -0.00000000e+00  -0.00000000e+00\n",
        "   -0.00000000e+00  -5.00635205e+00  -0.00000000e+00  -0.00000000e+00\n",
        "   -0.00000000e+00   9.05618133e-01   1.73842457e-01   1.52366078e-01\n",
        "    9.28614857e-01   5.26586204e-01   1.19967089e-01   1.53159025e-01\n",
        "    6.42424822e-01   2.82369373e-01   5.20457534e-01]\n",
        " [  0.00000000e+00  -6.46716189e+00  -6.92997596e+00   0.00000000e+00\n",
        "    0.00000000e+00   4.88162279e+00   0.00000000e+00   0.00000000e+00\n",
        "   -8.30103253e+00   0.00000000e+00  -5.11184248e+00   1.00866621e+01\n",
        "    4.98613747e+00   0.00000000e+00  -6.81405352e+00   0.00000000e+00\n",
        "    0.00000000e+00   9.69069046e-01   8.16308237e-01   6.83352624e-01\n",
        "    2.09185382e-01   7.04527577e-01   3.02096697e-01   5.70506059e-01\n",
        "    9.16037973e-01   4.38758932e-01   8.91884389e-01]\n",
        " [ -0.00000000e+00  -0.00000000e+00  -5.70751510e+00   5.61794844e+00\n",
        "   -0.00000000e+00  -0.00000000e+00  -0.00000000e+00  -0.00000000e+00\n",
        "    6.31494793e+00  -0.00000000e+00  -0.00000000e+00  -0.00000000e+00\n",
        "   -0.00000000e+00  -0.00000000e+00  -1.73457378e+00  -0.00000000e+00\n",
        "   -7.09960892e+00   2.50675217e-01   4.76579019e-01   7.24673684e-01\n",
        "    3.26868023e-01   3.70275526e-01   3.87001233e-01   8.04379859e-02\n",
        "    4.31529203e-01   9.51274998e-01   7.86772569e-01]\n",
        " [  5.13353743e+00  -0.00000000e+00  -2.10169361e+00  -0.00000000e+00\n",
        "   -0.00000000e+00   5.36679962e+00  -2.09748450e+00  -6.17205749e+00\n",
        "    4.66241477e+00   2.25034123e+00  -0.00000000e+00  -2.85571357e+00\n",
        "   -0.00000000e+00  -0.00000000e+00  -0.00000000e+00  -0.00000000e+00\n",
        "    6.32052888e+00   2.32169604e-01   4.88850308e-01   1.53731310e-01\n",
        "    4.37076267e-01   6.29077755e-01   8.92056877e-01   4.09802725e-01\n",
        "    9.39669652e-01   5.03107621e-01   7.61449915e-01]\n",
        " [  0.00000000e+00  -4.39253585e+00  -5.13376348e+00  -5.07276110e+00\n",
        "    0.00000000e+00   0.00000000e+00   3.29041679e+00   0.00000000e+00\n",
        "    0.00000000e+00   7.32033570e+00   0.00000000e+00  -0.00000000e+00\n",
        "    0.00000000e+00   0.00000000e+00   6.09225672e+00  -6.97073053e+00\n",
        "    0.00000000e+00   4.36154136e-01   6.70557402e-01   2.21479673e-01\n",
        "    8.37636920e-01   4.01878985e-02   3.28610213e-01   1.23036690e-02\n",
        "    5.09148716e-01   6.41357423e-01   9.35836955e-01]\n",
        " [  4.08832894e+00  -0.00000000e+00  -0.00000000e+00  -0.00000000e+00\n",
        "    4.16645837e+00  -8.20023808e+00  -0.00000000e+00  -3.92046071e+00\n",
        "   -0.00000000e+00  -1.05004615e+01  -4.74535097e+00  -0.00000000e+00\n",
        "   -0.00000000e+00   7.59668198e+00  -8.54852800e-01  -0.00000000e+00\n",
        "   -0.00000000e+00   3.96874312e-01   5.87274537e-02   8.17989905e-02\n",
        "    4.14999455e-01   9.15819491e-01   3.15196978e-02   9.41870560e-01\n",
        "    2.76379195e-01   9.59785497e-01   2.92277261e-01]\n",
        " [ -0.00000000e+00  -0.00000000e+00  -4.79118813e+00   4.81988467e+00\n",
        "   -0.00000000e+00  -0.00000000e+00  -3.82174934e+00   8.48077732e+00\n",
        "   -5.89401046e+00  -0.00000000e+00  -4.73927583e+00  -0.00000000e+00\n",
        "   -0.00000000e+00  -0.00000000e+00   4.37306382e+00  -4.04353619e+00\n",
        "   -0.00000000e+00   5.42369083e-01   3.36597169e-01   6.71023031e-01\n",
        "    5.68469825e-01   6.70903946e-01   3.19180395e-01   4.11762034e-01\n",
        "    1.90348822e-03   9.07761473e-01   8.85429099e-02]\n",
        " [ -1.19869943e+01  -0.00000000e+00   7.06610471e+00  -0.00000000e+00\n",
        "   -0.00000000e+00  -0.00000000e+00   3.89369882e+00  -0.00000000e+00\n",
        "    2.93067094e+00  -0.00000000e+00  -0.00000000e+00   0.00000000e+00\n",
        "   -0.00000000e+00  -0.00000000e+00  -4.49873411e+00  -0.00000000e+00\n",
        "   -0.00000000e+00   4.91123641e-01   4.88517422e-01   2.23167874e-01\n",
        "    3.62977528e-01   2.50728230e-01   2.61844866e-02   7.33529462e-01\n",
        "    2.49316360e-01   5.36666192e-01   3.89696896e-01]\n",
        " [  4.11187335e+00   0.00000000e+00  -1.20414463e+01   0.00000000e+00\n",
        "    0.00000000e+00   0.00000000e+00   0.00000000e+00   6.60128181e+00\n",
        "   -4.04930621e+00   0.00000000e+00   4.59766182e+00  -5.72448057e+00\n",
        "   -2.77194747e+00   0.00000000e+00  -4.57131071e+00   0.00000000e+00\n",
        "    3.48606063e+00   6.21595245e-01   3.25421895e-01   4.82067329e-01\n",
        "    7.25212091e-01   7.92924405e-01   9.89363567e-01   6.65451160e-01\n",
        "    1.30236179e-01   1.62754116e-01   4.08597201e-01]\n",
        " [  0.00000000e+00   0.00000000e+00  -6.30720592e+00  -4.12535519e+00\n",
        "    0.00000000e+00   0.00000000e+00   0.00000000e+00   0.00000000e+00\n",
        "   -3.97622222e+00   0.00000000e+00   2.68467137e+00  -0.00000000e+00\n",
        "    0.00000000e+00   0.00000000e+00   5.46145764e+00   7.18338478e+00\n",
        "    0.00000000e+00   9.81968364e-01   9.10751016e-01   4.50031962e-01\n",
        "    5.01707105e-01   7.66472169e-01   5.67432127e-01   3.92508289e-01\n",
        "    6.03812130e-01   6.78969644e-01   9.18116067e-01]]\n"
       ]
      }
     ],
     "prompt_number": 26
    },
    {
     "cell_type": "code",
     "collapsed": false,
     "input": [
      "print net.w[0].shape, net.w[1].shape\n",
      "print net.w[1]"
     ],
     "language": "python",
     "metadata": {},
     "outputs": [
      {
       "output_type": "stream",
       "stream": "stdout",
       "text": [
        "(17, 206) (10, 17)\n",
        "[[  6.49186814  -0.           8.17405861  -0.          -0.          -0.\n",
        "   -0.           4.04808945  -0.           4.10961092  -0.          -0.\n",
        "   -0.          -5.00635205  -0.          -0.          -0.        ]\n",
        " [  0.          -6.46716189  -6.92997596   0.           0.           4.88162279\n",
        "    0.           0.          -8.30103253   0.          -5.11184248\n",
        "   10.08666209   4.98613747   0.          -6.81405352   0.           0.        ]\n",
        " [ -0.          -0.          -5.7075151    5.61794844  -0.          -0.\n",
        "   -0.          -0.           6.31494793  -0.          -0.          -0.\n",
        "   -0.          -0.          -1.73457378  -0.          -7.09960892]\n",
        " [  5.13353743  -0.          -2.10169361  -0.          -0.           5.36679962\n",
        "   -2.0974845   -6.17205749   4.66241477   2.25034123  -0.          -2.85571357\n",
        "   -0.          -0.          -0.          -0.           6.32052888]\n",
        " [  0.          -4.39253585  -5.13376348  -5.0727611    0.           0.\n",
        "    3.29041679   0.           0.           7.3203357    0.          -0.\n",
        "    0.           0.           6.09225672  -6.97073053   0.        ]\n",
        " [  4.08832894  -0.          -0.          -0.           4.16645837\n",
        "   -8.20023808  -0.          -3.92046071  -0.         -10.50046145\n",
        "   -4.74535097  -0.          -0.           7.59668198  -0.8548528   -0.\n",
        "   -0.        ]\n",
        " [ -0.          -0.          -4.79118813   4.81988467  -0.          -0.\n",
        "   -3.82174934   8.48077732  -5.89401046  -0.          -4.73927583  -0.\n",
        "   -0.          -0.           4.37306382  -4.04353619  -0.        ]\n",
        " [-11.98699428  -0.           7.06610471  -0.          -0.          -0.\n",
        "    3.89369882  -0.           2.93067094  -0.          -0.           0.\n",
        "   -0.          -0.          -4.49873411  -0.          -0.        ]\n",
        " [  4.11187335   0.         -12.04144633   0.           0.           0.\n",
        "    0.           6.60128181  -4.04930621   0.           4.59766182\n",
        "   -5.72448057  -2.77194747   0.          -4.57131071   0.           3.48606063]\n",
        " [  0.           0.          -6.30720592  -4.12535519   0.           0.\n",
        "    0.           0.          -3.97622222   0.           2.68467137  -0.\n",
        "    0.           0.           5.46145764   7.18338478   0.        ]]\n"
       ]
      }
     ],
     "prompt_number": 24
    }
   ],
   "metadata": {}
  }
 ]
}