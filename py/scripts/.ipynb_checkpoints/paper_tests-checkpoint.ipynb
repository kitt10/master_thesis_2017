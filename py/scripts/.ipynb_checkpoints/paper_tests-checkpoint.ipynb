{
 "cells": [
  {
   "cell_type": "code",
   "execution_count": 1,
   "metadata": {
    "collapsed": false,
    "deletable": true,
    "editable": true
   },
   "outputs": [],
   "source": [
    "from shelve import open as open_shelve\n",
    "from matplotlib import pyplot as plt\n",
    "%matplotlib qt\n",
    "from kitt_net import FeedForwardNet\n",
    "from sklearn.metrics import confusion_matrix, accuracy_score\n",
    "from numpy import newaxis, zeros"
   ]
  },
  {
   "cell_type": "code",
   "execution_count": 4,
   "metadata": {
    "collapsed": true,
    "deletable": true,
    "editable": true
   },
   "outputs": [],
   "source": [
    "dataset = open_shelve('../examples/mnist/dataset_mnist_2K.ds')"
   ]
  },
  {
   "cell_type": "code",
   "execution_count": 3,
   "metadata": {
    "collapsed": true,
    "deletable": true,
    "editable": true
   },
   "outputs": [],
   "source": [
    "how = {1: 'b.', -1: 'r.'}\n",
    "for x, y in zip(dataset['x'], dataset['y']):\n",
    "    plt.plot(x[0], x[1], how[y])\n",
    "plt.grid()\n",
    "plt.show()"
   ]
  },
  {
   "cell_type": "code",
   "execution_count": 11,
   "metadata": {
    "collapsed": false,
    "deletable": true,
    "editable": true
   },
   "outputs": [],
   "source": [
    "net = FeedForwardNet(hidden=[20], tf_name='Sigmoid')"
   ]
  },
  {
   "cell_type": "code",
   "execution_count": null,
   "metadata": {
    "collapsed": false,
    "deletable": true,
    "editable": true
   },
   "outputs": [
    {
     "name": "stdout",
     "output_type": "stream",
     "text": [
      "\u001b[34m\n",
      "--------------------------------------------------------------------\u001b[0m\n",
      "\u001b[34m-- Network initialized.\u001b[0m\n",
      "\u001b[34m\t% problem dimension: \u001b[0m784\n",
      "\u001b[34m\t% number of classes: \u001b[0m10\n",
      "\u001b[34m\t% class labels: \u001b[0m[0, 1, 2, 3, 4, 5, 6, 7, 8, 9]\n",
      "\u001b[34m\t% net structure: \u001b[0m[784, 20, 10]\n",
      "\u001b[34m\t% net transfer function: \u001b[0mSigmoid\n",
      "\u001b[34m\n",
      "--------------------------------------------------------------------\u001b[0m\n",
      "\u001b[34m-- Learning has started...\u001b[0m\n",
      "\u001b[34m\t% problem dimension: \u001b[0m784\n",
      "\u001b[34m\t% number of training samples: \u001b[0m20000\n",
      "\u001b[34m\t% number of validation samples: \u001b[0m10000\n",
      "\u001b[34m\t% learning rate: \u001b[0m0.3\n",
      "\u001b[34m\t% mini-batch size: \u001b[0m16\n",
      "\u001b[34m\t% maximum number of epochs (t.c.): \u001b[0m10\n",
      "\u001b[34m\t% maximum number of stable epochs (t.c.): \u001b[0minf\n",
      "\u001b[34m\t% required accuracy (t.c.): \u001b[0minf\n",
      "\u001b[34m\t% required error (t.c.): \u001b[0m-inf\n",
      "\n",
      "\n",
      "epoch   on training data      on validation data       epoch time          \n",
      "-------------------------------------------------------------------\n"
     ]
    }
   ],
   "source": [
    "n_epoch = 10\n",
    "learning_rate = 0.3\n",
    "net.fit(x=dataset['x'], y=dataset['y'], x_val=dataset['x_val'], y_val=dataset['y_val'],\n",
    "       learning_rate=learning_rate, n_epoch=n_epoch, batch_size=16)"
   ]
  },
  {
   "cell_type": "code",
   "execution_count": 5,
   "metadata": {
    "collapsed": false,
    "deletable": true,
    "editable": true
   },
   "outputs": [
    {
     "name": "stdout",
     "output_type": "stream",
     "text": [
      "[[  0.57064674  61.62288871]\n",
      " [-51.26244559  -0.        ]]\n",
      "---------------\n",
      "MAGNITUDE\n",
      "[[  0.57064674  61.62288871]\n",
      " [ 51.26244559   0.        ]]\n",
      "KITT\n",
      "[[  0.56044682  61.59216834]\n",
      " [ 49.97506773   1.55741384]]\n",
      "KARNIN\n",
      "[[ -5823.74815686  12434.54425503]\n",
      " [  4439.84284332      0.        ]]\n",
      "OBD\n",
      "[[ 5.9384484   9.61292656]\n",
      " [ 0.16123191  6.86683045]]\n"
     ]
    }
   ],
   "source": [
    "print net.w[0]\n",
    "print '---------------'\n",
    "print 'MAGNITUDE'\n",
    "print abs(net.w)[0]\n",
    "\n",
    "print 'KITT'\n",
    "print abs(net.w-net.w_init)[0]\n",
    "\n",
    "print 'KARNIN'\n",
    "changes_ = [zeros(shape=w_i.shape) for w_i in net.w]\n",
    "for ep_i in range(net.dw_i):\n",
    "    for l_i in range(len(changes_)):\n",
    "        den = (net.learning.kw['learning_rate']*(net.w[l_i]-net.w_init[l_i]))\n",
    "        changes_[l_i] += net.dw_container[l_i][ep_i]**2*(net.w[l_i]/den)\n",
    "print changes_[0]\n",
    "        \n",
    "print 'OBD'                    \n",
    "print net.saliency[0]            "
   ]
  },
  {
   "cell_type": "code",
   "execution_count": 10,
   "metadata": {
    "collapsed": false,
    "deletable": true,
    "editable": true,
    "scrolled": true
   },
   "outputs": [
    {
     "name": "stdout",
     "output_type": "stream",
     "text": [
      "\u001b[34m\n",
      "--------------------------------------------------------------------\u001b[0m\n",
      "\u001b[34m-- Pruning has started...\u001b[0m\n",
      "\u001b[34m\t% net initial structure: \u001b[0m[784, 20, 10]\n",
      "\u001b[34m\t% net initial number of synapses (w, b): \u001b[0m(15880, 30)\n",
      "\u001b[34m\t% min required accuracy (s.c.): \u001b[0m0.94\n",
      "\u001b[34m\t% max required error (s.c.): \u001b[0m0.0\n",
      "\u001b[34m\t% maximum number of re-training epochs (gu.c.): \u001b[0m5\n",
      "\u001b[34m\t% number of stable iterations (gu.c.): \u001b[0m10\n",
      "\n",
      "\n",
      "step    trying to cut     structure           left synapses (w/b)    retrained      next level     step time      \n",
      "--------------------------------------------------------------------------------------------------------------\n",
      "\u001b[33m0       0                 [784, 20, 10]       (15880, 30)            None           75             \u001b[36mNone\u001b[0m  \u001b[0m\n",
      "\u001b[32m1       11910             [494, 20, 10]       (3970, 30)             yes            75             \u001b[36m60.0963 s\u001b[0m\u001b[0m\n",
      "\u001b[31m2       2977              [345, 20, 10]       (993, 30)              no             50             \u001b[36m73.2131 s\u001b[0m\u001b[0m\n",
      "\u001b[32m3       1985              [442, 20, 10]       (1985, 30)             yes            50             \u001b[36m58.9268 s\u001b[0m\u001b[0m\n",
      "\u001b[31m4       993               [377, 20, 10]       (992, 30)              no             35             \u001b[36m46.2863 s\u001b[0m\u001b[0m\n",
      "\u001b[31m5       695               [416, 20, 10]       (1290, 30)             no             20             \u001b[36m47.1698 s\u001b[0m\u001b[0m\n",
      "\u001b[32m6       397               [436, 20, 10]       (1588, 30)             yes            20             \u001b[36m48.986 s\u001b[0m\u001b[0m\n",
      "\u001b[32m7       318               [418, 20, 10]       (1270, 30)             yes            20             \u001b[36m51.2447 s\u001b[0m\u001b[0m\n",
      "\u001b[32m8       254               [394, 20, 10]       (1016, 30)             yes            20             \u001b[36m48.5404 s\u001b[0m\u001b[0m\n",
      "\u001b[31m9       204               [365, 19, 10]       (805, 29)              no             10             \u001b[36m41.8612 s\u001b[0m\u001b[0m\n",
      "\u001b[31m10      102               [382, 20, 10]       (914, 30)              no             7              \u001b[36m46.5117 s\u001b[0m\u001b[0m\n",
      "\u001b[32m11      72                [384, 20, 10]       (944, 30)              yes            7              \u001b[36m49.8972 s\u001b[0m\u001b[0m\n",
      "\u001b[32m12      67                [376, 20, 10]       (877, 30)              yes            7              \u001b[36m41.7845 s\u001b[0m\u001b[0m\n",
      "\u001b[32m13      62                [364, 19, 10]       (808, 29)              yes            7              \u001b[36m41.8875 s\u001b[0m\u001b[0m\n",
      "\u001b[32m14      57                [356, 19, 10]       (751, 29)              yes            7              \u001b[36m43.4221 s\u001b[0m\u001b[0m\n",
      "\u001b[31m15      53                [344, 19, 10]       (698, 29)              no             5              \u001b[36m39.9355 s\u001b[0m\u001b[0m\n",
      "\u001b[31m16      38                [348, 19, 10]       (713, 29)              no             3              \u001b[36m38.9653 s\u001b[0m\u001b[0m\n",
      "\u001b[31m17      23                [352, 19, 10]       (728, 29)              no             1              \u001b[36m36.7517 s\u001b[0m\u001b[0m\n",
      "\u001b[32m18      8                 [354, 19, 10]       (743, 29)              yes            1              \u001b[36m42.794 s\u001b[0m\u001b[0m\n",
      "\u001b[31m19      8                 [353, 19, 10]       (735, 29)              no             0              \u001b[36m39.7629 s\u001b[0m\u001b[0m\n",
      "\u001b[31m20      1                 [354, 19, 10]       (742, 29)              no             0              \u001b[36m40.6965 s\u001b[0m\u001b[0m\n",
      "\u001b[34m\n",
      "--------------------------------------------------------------------\u001b[0m\n",
      "\u001b[34m-- Pruning finished in 938.733542919 s.\u001b[0m\n",
      "\u001b[34m\t% net final structure: \u001b[0m[354, 19, 10]\n",
      "\u001b[34m\t% net final number of synapses (w/b): \u001b[0m(743, 29)\n",
      "\u001b[34m\t% classification accuracy on training data: \u001b[0m0.94035\n",
      "\u001b[34m\t% classification error on training data: \u001b[0m0.00529995766879\n",
      "\u001b[34m\t% classification accuracy on validation data: \u001b[0m0.9218\n",
      "\u001b[34m\t% classification error on validation data: \u001b[0m0.00676641448938\n"
     ]
    }
   ],
   "source": [
    "net.prune(req_acc=0.94, n_epoch=5, measure='kitt', retrain=False)"
   ]
  },
  {
   "cell_type": "code",
   "execution_count": 6,
   "metadata": {
    "collapsed": false,
    "deletable": true,
    "editable": true
   },
   "outputs": [
    {
     "name": "stdout",
     "output_type": "stream",
     "text": [
      "Acc: 0.985\n",
      "[[ 0.97  0.03]\n",
      " [ 0.    1.  ]]\n",
      "0 -1.0 [(-1.0, 0.97), (1.0, 0.03)]\n",
      "1 1.0 [(1.0, 1.0), (-1.0, 0.0)]\n"
     ]
    }
   ],
   "source": [
    "labels = [label for label in net.labels if label in dataset['y_val']]\n",
    "y_pred = [net.predict(x)[0][0] for x, y in net.v_data]\n",
    "print 'Acc:', accuracy_score(y_true=dataset['y_val'], y_pred=y_pred)\n",
    "cm = confusion_matrix(y_true=dataset['y_val'], y_pred=y_pred)\n",
    "cm = cm.astype('float') / cm.sum(axis=1)[:, newaxis]\n",
    "plt.imshow(cm, aspect='auto', interpolation='none', vmin=0, vmax=1)\n",
    "plt.xticks(range(len(labels)), labels)\n",
    "plt.yticks(range(len(labels)), labels)\n",
    "plt.grid()\n",
    "plt.colorbar()\n",
    "plt.show()\n",
    "print cm\n",
    "for i in range(cm.shape[0]):\n",
    "    print i, net.labels[i], sorted([(net.labels[j], round(cm[i, j], 2)) for j in range(cm.shape[1])], key=lambda x:x[1], reverse=True)[:5]\n"
   ]
  }
 ],
 "metadata": {
  "kernelspec": {
   "display_name": "Python 2",
   "language": "python",
   "name": "python2"
  },
  "language_info": {
   "codemirror_mode": {
    "name": "ipython",
    "version": 2
   },
   "file_extension": ".py",
   "mimetype": "text/x-python",
   "name": "python",
   "nbconvert_exporter": "python",
   "pygments_lexer": "ipython2",
   "version": "2.7.12"
  }
 },
 "nbformat": 4,
 "nbformat_minor": 2
}
