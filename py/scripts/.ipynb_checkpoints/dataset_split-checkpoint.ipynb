{
 "cells": [
  {
   "cell_type": "code",
   "execution_count": 2,
   "metadata": {
    "collapsed": true,
    "deletable": true,
    "editable": true
   },
   "outputs": [],
   "source": [
    "from shelve import open as open_shelve\n",
    "from numpy import unique"
   ]
  },
  {
   "cell_type": "code",
   "execution_count": 3,
   "metadata": {
    "collapsed": true,
    "deletable": true,
    "editable": true
   },
   "outputs": [],
   "source": [
    "dataset = open_shelve('../examples/speech/dataset_speech_5000.ds')\n",
    "ph_keep = ('E', 'e')\n",
    "na = str(ph_keep)[1:-1].replace(' ', '').replace('\\'', '').replace(',', '+')\n",
    "dataset_new = open_shelve('../examples/speech/dataset_speech_5000_'+na+'.ds')"
   ]
  },
  {
   "cell_type": "code",
   "execution_count": 4,
   "metadata": {
    "collapsed": true,
    "deletable": true,
    "editable": true
   },
   "outputs": [],
   "source": [
    "for group in ('', '_test'):\n",
    "    tmp_x = list()\n",
    "    tmp_y = list()\n",
    "    for x, y in zip(dataset['x'+group], dataset['y'+group]):\n",
    "        #tmp_x.append(x)\n",
    "        if y in ph_keep:\n",
    "            tmp_y.append(y)\n",
    "            tmp_x.append(x)\n",
    "        '''\n",
    "        else:\n",
    "            tmp_y.append('%')\n",
    "        '''\n",
    "    dataset_new['x'+group] = tmp_x\n",
    "    dataset_new['y'+group] = tmp_y\n",
    "\n",
    "tmp_x = list()\n",
    "tmp_y = list()\n",
    "for x, y in zip(dataset['x_val'], dataset['y_val']):\n",
    "    if y in ph_keep:\n",
    "        tmp_y.append(y)\n",
    "        tmp_x.append(x)\n",
    "dataset_new['x_val'] = tmp_x\n",
    "dataset_new['y_val'] = tmp_y"
   ]
  },
  {
   "cell_type": "code",
   "execution_count": 5,
   "metadata": {
    "collapsed": false,
    "deletable": true,
    "editable": true
   },
   "outputs": [
    {
     "name": "stdout",
     "output_type": "stream",
     "text": [
      "\n",
      "samples:\n",
      "E: 4000\n",
      "e: 4000\n",
      "\n",
      "samples_val:\n",
      "E: 500\n",
      "e: 500\n",
      "\n",
      "samples_test:\n",
      "E: 500\n",
      "e: 500\n"
     ]
    }
   ],
   "source": [
    "classes = unique(dataset_new['y_test'])\n",
    "for group in ('', '_val', '_test'):\n",
    "    print '\\nsamples'+group+':'\n",
    "    for cl in classes:\n",
    "        print cl+':', len([y for y in dataset_new['y'+group] if y == cl])\n",
    "    "
   ]
  },
  {
   "cell_type": "code",
   "execution_count": 6,
   "metadata": {
    "collapsed": true,
    "deletable": true,
    "editable": true
   },
   "outputs": [],
   "source": [
    "dataset_new.close()\n",
    "dataset.close()"
   ]
  }
 ],
 "metadata": {
  "kernelspec": {
   "display_name": "Python 2",
   "language": "python",
   "name": "python2"
  },
  "language_info": {
   "codemirror_mode": {
    "name": "ipython",
    "version": 2
   },
   "file_extension": ".py",
   "mimetype": "text/x-python",
   "name": "python",
   "nbconvert_exporter": "python",
   "pygments_lexer": "ipython2",
   "version": "2.7.12"
  }
 },
 "nbformat": 4,
 "nbformat_minor": 0
}
