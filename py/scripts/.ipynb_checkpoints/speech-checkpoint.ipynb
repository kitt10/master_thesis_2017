{
 "cells": [
  {
   "cell_type": "code",
   "execution_count": 1,
   "metadata": {
    "collapsed": true,
    "deletable": true,
    "editable": true
   },
   "outputs": [],
   "source": [
    "from kitt_net import FeedForwardNet\n",
    "from shelve import open as open_shelve\n",
    "from sklearn.metrics import confusion_matrix, accuracy_score, mean_squared_error\n",
    "from matplotlib import pyplot as plt\n",
    "import numpy as np"
   ]
  },
  {
   "cell_type": "code",
   "execution_count": 1,
   "metadata": {
    "collapsed": false,
    "deletable": true,
    "editable": true
   },
   "outputs": [],
   "source": [
    "from cPickle import load as load_cpickle\n",
    "from matplotlib import pyplot as plt, rcParams as mpl_params\n",
    "%matplotlib qt\n",
    "mpl_params['axes.labelsize'] = 22\n",
    "mpl_params['xtick.labelsize'] = 20\n",
    "mpl_params['ytick.labelsize'] = 20\n",
    "import numpy as np\n",
    "\n",
    "with open('../examples/speech/fig_1_stats_full.stats', 'r') as f:\n",
    "    res = load_cpickle(f)\n",
    "\n",
    "data_to_plot = list()\n",
    "for bs in (0, 1, 2, 3, 4, 5):\n",
    "    data_to_plot.append(list())\n",
    "    for cs in (0, 1, 2, 3, 4, 5, 6, 7, 8, 9):\n",
    "        data_to_plot[-1].append(np.mean(res['err'][bs][cs]))\n",
    "        \n",
    "plt.imshow(data_to_plot, aspect='auto', interpolation='none')\n",
    "plt.yticks(range(6), range(6))\n",
    "plt.ylabel('border size')\n",
    "plt.xticks(range(10), range(10))\n",
    "plt.xlabel('context size')\n",
    "plt.grid()\n",
    "plt.colorbar()\n",
    "plt.tight_layout()\n",
    "plt.show()"
   ]
  },
  {
   "cell_type": "code",
   "execution_count": 2,
   "metadata": {
    "collapsed": true,
    "deletable": true,
    "editable": true
   },
   "outputs": [],
   "source": [
    "dataset = open_shelve('../examples/speech/dataset_speech_10K_bs2_cs5.ds', 'c')\n",
    "net = FeedForwardNet()\n",
    "net.load('../examples/speech/net_speech_10K_bs2_cs5.net')"
   ]
  },
  {
   "cell_type": "code",
   "execution_count": null,
   "metadata": {
    "collapsed": false,
    "deletable": true,
    "editable": true
   },
   "outputs": [
    {
     "name": "stdout",
     "output_type": "stream",
     "text": [
      "\u001b[34m\n",
      "--------------------------------------------------------------------\u001b[0m\n",
      "\u001b[34m-- Network initialized.\u001b[0m\n",
      "\u001b[34m\t% problem dimension: \u001b[0m440\n",
      "\u001b[34m\t% number of classes: \u001b[0m40\n",
      "\u001b[34m\t% class labels: \u001b[0m[u'A', u'C', u'D', u'E', u'F', u'I', u'J', u'N', u'Q', u'R', u'S', u'T', u'U', u'Y', u'Z', u'_sil_', u'a', u'b', u'c', u'd', u'e', u'f', u'g', u'h', u'i', u'j', u'k', u'l', u'm', u'n', u'o', u'p', u'r', u's', u't', u'u', u'v', u'x', u'y', u'z']\n",
      "\u001b[34m\t% net structure: \u001b[0m[440, 40]\n",
      "\u001b[34m\t% net transfer function: \u001b[0mSigmoid\n",
      "\u001b[34m\n",
      "--------------------------------------------------------------------\u001b[0m\n",
      "\u001b[34m-- Learning has started...\u001b[0m\n",
      "\u001b[34m\t% problem dimension: \u001b[0m440\n",
      "\u001b[34m\t% number of training samples: \u001b[0m278332\n",
      "\u001b[34m\t% number of validation samples: \u001b[0m34791\n",
      "\u001b[34m\t% learning rate: \u001b[0m0.7\n",
      "\u001b[34m\t% mini-batch size: \u001b[0m10\n",
      "\u001b[34m\t% maximum number of epochs (t.c.): \u001b[0m1\n",
      "\u001b[34m\t% maximum number of stable epochs (t.c.): \u001b[0minf\n",
      "\u001b[34m\t% required accuracy (t.c.): \u001b[0minf\n",
      "\u001b[34m\t% required error (t.c.): \u001b[0m-inf\n",
      "\n",
      "\n",
      "epoch   on training data      on validation data       epoch time          \n",
      "-------------------------------------------------------------------\n",
      " 1\t  \u001b[32m0.06\u001b[0m/\u001b[31m0.0129\u001b[0m\u001b[32m\t\t0.06\u001b[0m/\u001b[31m0.0129\u001b[0m\t\t\u001b[36m32.0530 s\u001b[0m\n",
      "\u001b[34m\n",
      "--------------------------------------------------------------------\u001b[0m\n",
      "\u001b[34m-- Learning finished in 32.053s. Given number of epochs performed.\u001b[0m\n",
      "\u001b[34m\n",
      "--------------------------------------------------------------------\u001b[0m\n",
      "\u001b[34m-- Learning has started...\u001b[0m\n",
      "\u001b[34m\t% problem dimension: \u001b[0m440\n",
      "\u001b[34m\t% number of training samples: \u001b[0m278332\n",
      "\u001b[34m\t% number of validation samples: \u001b[0m34791\n",
      "\u001b[34m\t% learning rate: \u001b[0m0.7\n",
      "\u001b[34m\t% mini-batch size: \u001b[0m10\n",
      "\u001b[34m\t% maximum number of epochs (t.c.): \u001b[0m500\n",
      "\u001b[34m\t% maximum number of stable epochs (t.c.): \u001b[0minf\n",
      "\u001b[34m\t% required accuracy (t.c.): \u001b[0minf\n",
      "\u001b[34m\t% required error (t.c.): \u001b[0m-inf\n",
      "\n",
      "\n",
      "epoch   on training data      on validation data       epoch time          \n",
      "-------------------------------------------------------------------\n"
     ]
    }
   ],
   "source": [
    "dataset = open_shelve('../examples/speech/dataset_speech_10K_bs2_cs5.ds', 'c')\n",
    "net = FeedForwardNet(tf_name='Sigmoid')\n",
    "net.fit(x=dataset['x'], y=dataset['y'], x_val=dataset['x_val'], y_val=dataset['y_val'],\n",
    "            learning_rate=0.7, n_epoch=1, batch_size=10)\n",
    "net.load('../examples/speech/net_speech_10K_bs2_cs5_alter.net')\n",
    "net.learning.kw['dump_name'] = '../examples/speech/net_speech_10K_bs2_cs5_alter.net'\n",
    "net.learn(n_epoch=500)"
   ]
  },
  {
   "cell_type": "code",
   "execution_count": 14,
   "metadata": {
    "collapsed": false,
    "deletable": true,
    "editable": true
   },
   "outputs": [
    {
     "name": "stdout",
     "output_type": "stream",
     "text": [
      "val acc 0.457589606507\n"
     ]
    },
    {
     "data": {
      "image/png": "[encoded data removed]",
      "text/plain": [
       "<matplotlib.figure.Figure at 0x7f697b1ce250>"
      ]
     },
     "metadata": {},
     "output_type": "display_data"
    }
   ],
   "source": [
    "y_pred = [net.predict(x)[0][0] for x in dataset['x_val']]\n",
    "acc = accuracy_score(y_true=dataset['y_val'], y_pred=y_pred)\n",
    "#mse = mean_squared_error(y_true=dataset['y_val'], y_pred=y_pred)\n",
    "print 'val acc', acc\n",
    "#print 'val err', err\n",
    "cm = confusion_matrix(y_true=dataset['y_val'], y_pred=y_pred)\n",
    "cm = cm.astype('float') / cm.sum(axis=1)[:, np.newaxis]\n",
    "plt.imshow(cm, aspect='auto', interpolation='none', vmin=0, vmax=1)\n",
    "plt.xticks(range(len(net.labels)), net.labels)\n",
    "plt.yticks(range(len(net.labels)), net.labels)\n",
    "plt.grid()\n",
    "plt.show()"
   ]
  },
  {
   "cell_type": "code",
   "execution_count": 24,
   "metadata": {
    "collapsed": false,
    "deletable": true,
    "editable": true
   },
   "outputs": [],
   "source": [
    "def norm(f_, x, n):\n",
    "    return [(f-n)/(x-n) for f in f_]\n",
    "\n",
    "from shelve import open as open_shelve\n",
    "import numpy as np\n",
    "from sys import maxint\n",
    "dataset = open_shelve('../examples/speech/dataset_speech_10K_bs3_cs3.ds', 'c')\n",
    "samples = dict()\n",
    "a_max = -maxint\n",
    "a_min = maxint\n",
    "for x, y in zip(dataset['x'], dataset['y']):\n",
    "    if y not in samples.keys():\n",
    "        samples[y] = [x]\n",
    "    else:\n",
    "        #continue\n",
    "        samples[y].append(x)\n",
    "    \n",
    "    if np.max(x) > a_max:\n",
    "        a_max = np.max(x)\n",
    "    \n",
    "    if np.min(x) < a_min:\n",
    "        a_min = np.min(x)\n",
    "\n",
    "means = list()\n",
    "for y in sorted(samples.keys()):\n",
    "    #means.append([m[0] for m in np.mean(norm(f_=samples[y], x=a_max, n=a_min), axis=0)][202:240])\n",
    "    means.append([m[0] for m in np.mean(norm(f_=samples[y], x=a_max, n=a_min), axis=0)])"
   ]
  },
  {
   "cell_type": "code",
   "execution_count": 26,
   "metadata": {
    "collapsed": true,
    "deletable": true,
    "editable": true
   },
   "outputs": [],
   "source": [
    "#print means[0]\n",
    "from matplotlib import pyplot as plt, rcParams as mpl_params\n",
    "%matplotlib qt\n",
    "mpl_params['axes.labelsize'] = 22\n",
    "mpl_params['xtick.labelsize'] = 20\n",
    "mpl_params['ytick.labelsize'] = 20\n",
    "import numpy as np\n",
    "plt.imshow(np.array(means).T, aspect='auto', interpolation='none', vmin=0, vmax=1)\n",
    "labels = sorted(samples.keys())\n",
    "#plt.xticks(range(len(means[0])), range(len(means[0])))\n",
    "plt.xticks(range(len(labels)), labels)\n",
    "plt.ylabel('mean features')\n",
    "plt.xlabel('phonemes')\n",
    "plt.grid()\n",
    "plt.colorbar()\n",
    "plt.tight_layout()\n",
    "#plt.savefig('../examples/speech/mean_features.png')\n",
    "plt.show()"
   ]
  }
 ],
 "metadata": {
  "kernelspec": {
   "display_name": "Python 2",
   "language": "python",
   "name": "python2"
  },
  "language_info": {
   "codemirror_mode": {
    "name": "ipython",
    "version": 2
   },
   "file_extension": ".py",
   "mimetype": "text/x-python",
   "name": "python",
   "nbconvert_exporter": "python",
   "pygments_lexer": "ipython2",
   "version": "2.7.12"
  }
 },
 "nbformat": 4,
 "nbformat_minor": 2
}
