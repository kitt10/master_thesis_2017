{
 "cells": [
  {
   "cell_type": "code",
   "execution_count": 60,
   "metadata": {
    "collapsed": false,
    "deletable": true,
    "editable": true
   },
   "outputs": [
    {
     "name": "stderr",
     "output_type": "stream",
     "text": [
      "/usr/lib/python2.7/dist-packages/matplotlib/__init__.py:874: UserWarning: text.fontsize is deprecated and replaced with font.size; please use the latter.\n",
      "  warnings.warn(self.msg_depr % (key, alt_key))\n"
     ]
    }
   ],
   "source": [
    "from matplotlib import pyplot as plt, rcParams as mpl_params, patches as mpl_patches, lines as mpl_lines\n",
    "%matplotlib qt\n",
    "mpl_params['axes.labelsize'] = 30\n",
    "mpl_params['xtick.labelsize'] = 20\n",
    "mpl_params['ytick.labelsize'] = 20\n",
    "mpl_params['legend.fontsize'] = 18\n",
    "mpl_params['legend.numpoints'] = 1\n",
    "from shelve import open as open_shelve"
   ]
  },
  {
   "cell_type": "code",
   "execution_count": 54,
   "metadata": {
    "collapsed": false
   },
   "outputs": [],
   "source": [
    "dataset = open_shelve('../examples/karnin/dataset_karnin.ds')"
   ]
  },
  {
   "cell_type": "code",
   "execution_count": 62,
   "metadata": {
    "collapsed": false
   },
   "outputs": [],
   "source": [
    "plt.plot([-2, 2], [0, 0], '--', color='gray')\n",
    "plt.plot([0, 0], [-2, 2], '--', color='gray')\n",
    "\n",
    "plt.plot([-1.2, 1.6], [dataset['b'], dataset['b']], '-', color='darkgreen')\n",
    "plt.plot([dataset['a'], dataset['a']], [-1.2, 1.6], '-', color='darkgreen')\n",
    "plt.text(dataset['a']+0.05, -1.15, 'a', fontsize=18, color='darkgreen')\n",
    "plt.text(-1.15, dataset['b']-0.15, 'b', fontsize=18, color='darkgreen')\n",
    "\n",
    "colors = {-1.0: 'b', 1.0: 'r'}\n",
    "for x, y in zip(dataset['x'], dataset['y']):\n",
    "    plt.plot(x[0][0], x[1][0], '+', color=colors[y])\n",
    "\n",
    "for x, y in zip(dataset['x_val'], dataset['y_val']):\n",
    "    plt.plot(x[0][0], x[1][0], 'x', color=colors[y])\n",
    "    \n",
    "for x, y in zip(dataset['x_test'], dataset['y_test']):\n",
    "    plt.plot(x[0][0], x[1][0], '*', color=colors[y])\n",
    "\n",
    "plt.xlabel('$x_1$')\n",
    "plt.xlim([-1.2, 1.6])\n",
    "plt.ylabel('$x_2$')\n",
    "plt.ylim([-1.2, 1.6])\n",
    "\n",
    "red_patch = mpl_patches.Patch(color='red', label='class 1')\n",
    "blue_patch = mpl_patches.Patch(color='blue', label='class 2')\n",
    "training_plus = mpl_lines.Line2D([], [], color='black', marker='+', markersize=15, label='training data', linewidth=0)\n",
    "validation_cross = mpl_lines.Line2D([], [], color='black', marker='x', markersize=15, label='validation data', linewidth=0)\n",
    "testing_star = mpl_lines.Line2D([], [], color='black', marker='*', markersize=15, label='testing data', linewidth=0)\n",
    "plt.legend(handles=[red_patch, blue_patch, training_plus, validation_cross, testing_star])\n",
    "\n",
    "plt.grid()\n",
    "plt.show()"
   ]
  }
 ],
 "metadata": {
  "kernelspec": {
   "display_name": "Python 2",
   "language": "python",
   "name": "python2"
  },
  "language_info": {
   "codemirror_mode": {
    "name": "ipython",
    "version": 2
   },
   "file_extension": ".py",
   "mimetype": "text/x-python",
   "name": "python",
   "nbconvert_exporter": "python",
   "pygments_lexer": "ipython2",
   "version": "2.7.12"
  }
 },
 "nbformat": 4,
 "nbformat_minor": 2
}
