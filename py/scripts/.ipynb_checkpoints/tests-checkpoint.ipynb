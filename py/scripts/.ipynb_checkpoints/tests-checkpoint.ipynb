{
 "cells": [
  {
   "cell_type": "code",
   "execution_count": 20,
   "metadata": {
    "collapsed": true,
    "deletable": true,
    "editable": true
   },
   "outputs": [],
   "source": [
    "from kitt_net import FeedForwardNet\n",
    "from time import time\n",
    "from shelve import open as open_shelve\n",
    "from matplotlib import pyplot as plt, patches as mpl_patches, rcParams as mpl_params\n",
    "%matplotlib qt\n",
    "mpl_params['axes.labelsize'] = 22\n",
    "mpl_params['xtick.labelsize'] = 22\n",
    "mpl_params['ytick.labelsize'] = 22\n",
    "mpl_params['legend.fontsize'] = 22"
   ]
  },
  {
   "cell_type": "code",
   "execution_count": 7,
   "metadata": {
    "collapsed": true
   },
   "outputs": [],
   "source": [
    "net = FeedForwardNet()\n",
    "net.load('../examples/mnist/net_mnist.net')\n",
    "net_pruned = FeedForwardNet()\n",
    "#net_pruned.load('../examples/mnist/net_mnist_hs[20]_ra096_no1_obs1_pruned.net')\n",
    "net_pruned.load('../examples/mnist/net_mnist_pruned.net')\n",
    "dataset = open_shelve('../examples/mnist/dataset_mnist.ds', 'c')"
   ]
  },
  {
   "cell_type": "code",
   "execution_count": 13,
   "metadata": {
    "collapsed": false
   },
   "outputs": [
    {
     "name": "stdout",
     "output_type": "stream",
     "text": [
      "[784, 20, 10]\n",
      "(20, 784) (10, 20)\n",
      "(0.0051162323026914961, 0.9403)\n",
      "net_full (testing set): 5.87297987938\n",
      "(0.0048254238097687118, 0.9433)\n",
      "net_pruned (validation set): 5.54623508453\n",
      "(0.002366268483116656, 0.97056)\n",
      "net_full (training set): 30.5307281017\n",
      "[479, 19, 10]\n",
      "(19, 479) (10, 19)\n",
      "(0.005753368381021356, 0.9352)\n",
      "net_pruned (testing set): 3.56028699875\n",
      "(0.0055146253040079408, 0.9371)\n",
      "net_pruned (validation set): 3.70508790016\n",
      "(0.0034607403517870599, 0.96024)\n",
      "net_pruned (training set): 17.77008605\n"
     ]
    }
   ],
   "source": [
    "print net.structure\n",
    "print net.w[0].shape, net.w[1].shape\n",
    "\n",
    "t0 = time()\n",
    "print net.evaluate(x=dataset['x_test'], y=dataset['y_test'], adjust_features=False)\n",
    "t_full_test = time()-t0\n",
    "print 'net_full (testing set):', t_full_test\n",
    "t0=time()\n",
    "print net.evaluate(x=dataset['x_val'], y=dataset['y_val'], adjust_features=False)\n",
    "t_full_val = time()-t0\n",
    "print 'net_pruned (validation set):', t_full_val\n",
    "t0 = time()\n",
    "print net.evaluate(x=dataset['x'], y=dataset['y'], adjust_features=False)\n",
    "t_full_train = time()-t0\n",
    "print 'net_full (training set):', t_full_train\n",
    "\n",
    "print net_pruned.structure\n",
    "print net_pruned.w[0].shape, net_pruned.w[1].shape\n",
    "\n",
    "x = net_pruned.adjust_features(x=dataset['x'])\n",
    "x_val = net_pruned.adjust_features(x=dataset['x_val'])\n",
    "x_test = net_pruned.adjust_features(x=dataset['x_test'])\n",
    "\n",
    "t0=time()\n",
    "print net_pruned.evaluate(x=x_test, y=dataset['y_test'], adjust_features=False)\n",
    "t_pruned_test = time()-t0\n",
    "print 'net_pruned (testing set):', t_pruned_test\n",
    "t0=time()\n",
    "print net_pruned.evaluate(x=x_val, y=dataset['y_val'], adjust_features=False)\n",
    "t_pruned_val = time()-t0\n",
    "print 'net_pruned (validation set):', t_pruned_val\n",
    "t0=time()\n",
    "print net_pruned.evaluate(x=x, y=dataset['y'], adjust_features=False)\n",
    "t_pruned_train = time()-t0\n",
    "print 'net_pruned (training set):', t_pruned_train"
   ]
  },
  {
   "cell_type": "code",
   "execution_count": 22,
   "metadata": {
    "collapsed": false
   },
   "outputs": [],
   "source": [
    "plt.bar(left=0.5, width=1, height=t_full_train, color='maroon')\n",
    "plt.bar(left=1.5 ,width=1, height=t_full_val, color='maroon')\n",
    "plt.bar(left=2.5 ,width=1, height=t_full_test, color='maroon')\n",
    "plt.bar(left=4.5 , width=1, height=t_pruned_train, color='darkblue')\n",
    "plt.bar(left=5.5 , width=1, height=t_pruned_val, color='darkblue')\n",
    "plt.bar(left=6.5, width=1, height=t_pruned_test, color='darkblue')\n",
    "\n",
    "full_patch = mpl_patches.Patch(color='maroon', label='full net')\n",
    "pruned_patch = mpl_patches.Patch(color='darkblue', label='pruned net')\n",
    "plt.legend([full_patch, pruned_patch], [p.get_label() for p in [full_patch, pruned_patch]], loc='upper right')\n",
    "\n",
    "plt.xticks((1, 2, 3, 5, 6, 7), ('train', 'val', 'test', 'train', 'val', 'test'))\n",
    "plt.xlabel('data group')\n",
    "plt.xlim([0, 8])\n",
    "plt.ylabel('evaluation time [s]')\n",
    "\n",
    "plt.grid()\n",
    "plt.tight_layout()\n",
    "plt.show()"
   ]
  }
 ],
 "metadata": {
  "kernelspec": {
   "display_name": "Python 2",
   "language": "python",
   "name": "python2"
  },
  "language_info": {
   "codemirror_mode": {
    "name": "ipython",
    "version": 2
   },
   "file_extension": ".py",
   "mimetype": "text/x-python",
   "name": "python",
   "nbconvert_exporter": "python",
   "pygments_lexer": "ipython2",
   "version": "2.7.12"
  }
 },
 "nbformat": 4,
 "nbformat_minor": 2
}
