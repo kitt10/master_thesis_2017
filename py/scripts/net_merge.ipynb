{
 "cells": [
  {
   "cell_type": "code",
   "execution_count": 1,
   "metadata": {
    "collapsed": true,
    "deletable": true,
    "editable": true
   },
   "outputs": [],
   "source": [
    "from kitt_net import FeedForwardNet\n",
    "from shelve import open as open_shelve\n",
    "from sklearn.metrics import confusion_matrix, accuracy_score\n",
    "from matplotlib import pyplot as plt\n",
    "%matplotlib qt\n",
    "from numpy import newaxis, delete, zeros, concatenate, unique"
   ]
  },
  {
   "cell_type": "code",
   "execution_count": 2,
   "metadata": {
    "collapsed": true,
    "deletable": true,
    "editable": true
   },
   "outputs": [],
   "source": [
    "#net = FeedForwardNet(hidden=[50], tf_name='Sigmoid')\n",
    "net_sz = FeedForwardNet(hidden=[7], tf_name='Sigmoid')"
   ]
  },
  {
   "cell_type": "code",
   "execution_count": 9,
   "metadata": {
    "collapsed": true,
    "deletable": true,
    "editable": true
   },
   "outputs": [],
   "source": [
    "#net.load('../examples/speech/net_speech_pruned.net')\n",
    "#net_sz.load('../examples/speech/net_speech_sz_pruned.net')"
   ]
  },
  {
   "cell_type": "code",
   "execution_count": 3,
   "metadata": {
    "collapsed": true,
    "deletable": true,
    "editable": true
   },
   "outputs": [],
   "source": [
    "#dataset = open_shelve('../examples/speech/dataset_speech_bs2_cs5_nf40_ds811_ns500_nr10000.ds', 'c')\n",
    "dataset_sz = open_shelve('../examples/speech/dataset_speech_bs2_cs5_nf40_ds811_ns1500_nr1000_s+z.ds', 'c')"
   ]
  },
  {
   "cell_type": "code",
   "execution_count": null,
   "metadata": {
    "collapsed": false
   },
   "outputs": [
    {
     "name": "stdout",
     "output_type": "stream",
     "text": [
      "\u001b[34m\n",
      "--------------------------------------------------------------------\u001b[0m\n",
      "\u001b[34m-- Network initialized.\u001b[0m\n",
      "\u001b[34m\t% problem dimension: \u001b[0m440\n",
      "\u001b[34m\t% number of classes: \u001b[0m3\n",
      "\u001b[34m\t% class labels: \u001b[0m[u'%', u's', u'z']\n",
      "\u001b[34m\t% net structure: \u001b[0m[440, 7, 3]\n",
      "\u001b[34m\t% net transfer function: \u001b[0mSigmoid\n",
      "\u001b[34m\n",
      "--------------------------------------------------------------------\u001b[0m\n",
      "\u001b[34m-- Learning has started...\u001b[0m\n",
      "\u001b[34m\t% problem dimension: \u001b[0m440\n",
      "\u001b[34m\t% number of training samples: \u001b[0m52400\n",
      "\u001b[34m\t% number of validation samples: \u001b[0m300\n",
      "\u001b[34m\t% learning rate: \u001b[0m0.03\n",
      "\u001b[34m\t% mini-batch size: \u001b[0m1\n",
      "\u001b[34m\t% maximum number of epochs (t.c.): \u001b[0m100\n",
      "\u001b[34m\t% maximum number of stable epochs (t.c.): \u001b[0minf\n",
      "\u001b[34m\t% required accuracy (t.c.): \u001b[0m1.0\n",
      "\u001b[34m\t% required error (t.c.): \u001b[0m-inf\n",
      "\n",
      "\n",
      "epoch   on training data      on validation data       epoch time          \n",
      "-------------------------------------------------------------------\n",
      " 1\t  \u001b[32m0.95\u001b[0m/\u001b[31m0.0129\u001b[0m\u001b[32m\t\t0.00\u001b[0m/\u001b[31m0.2523\u001b[0m\t\t\u001b[36m7.1627 s\u001b[0m\n",
      " 2\t  \u001b[32m0.95\u001b[0m/\u001b[31m0.0116\u001b[0m\u001b[32m\t\t0.00\u001b[0m/\u001b[31m0.2238\u001b[0m\t\t\u001b[36m7.0231 s\u001b[0m\n",
      " 3\t  \u001b[32m0.95\u001b[0m/\u001b[31m0.0111\u001b[0m\u001b[32m\t\t0.00\u001b[0m/\u001b[31m0.2165\u001b[0m\t\t\u001b[36m7.4412 s\u001b[0m\n",
      " 4\t  \u001b[32m0.96\u001b[0m/\u001b[31m0.0107\u001b[0m\u001b[32m\t\t0.15\u001b[0m/\u001b[31m0.2127\u001b[0m\t\t\u001b[36m6.9716 s\u001b[0m\n",
      " 5\t  \u001b[32m0.96\u001b[0m/\u001b[31m0.0102\u001b[0m\u001b[32m\t\t0.24\u001b[0m/\u001b[31m0.2013\u001b[0m\t\t\u001b[36m6.7978 s\u001b[0m\n",
      " 6\t  \u001b[32m0.96\u001b[0m/\u001b[31m0.0095\u001b[0m\u001b[32m\t\t0.33\u001b[0m/\u001b[31m0.1835\u001b[0m\t\t\u001b[36m6.9151 s\u001b[0m\n",
      " 7\t  \u001b[32m0.97\u001b[0m/\u001b[31m0.0091\u001b[0m\u001b[32m\t\t0.37\u001b[0m/\u001b[31m0.1692\u001b[0m\t\t\u001b[36m7.1288 s\u001b[0m\n",
      " 8\t  \u001b[32m0.97\u001b[0m/\u001b[31m0.0087\u001b[0m\u001b[32m\t\t0.40\u001b[0m/\u001b[31m0.1658\u001b[0m\t\t\u001b[36m6.6628 s\u001b[0m\n",
      " 9\t  \u001b[32m0.97\u001b[0m/\u001b[31m0.0085\u001b[0m\u001b[32m\t\t0.34\u001b[0m/\u001b[35m0.1701\u001b[0m\t\t\u001b[36m6.5569 s\u001b[0m\n",
      " 10\t  \u001b[32m0.97\u001b[0m/\u001b[31m0.0080\u001b[0m\u001b[32m\t\t0.44\u001b[0m/\u001b[31m0.1546\u001b[0m\t\t\u001b[36m7.0156 s\u001b[0m\n",
      " 11\t  \u001b[32m0.97\u001b[0m/\u001b[31m0.0078\u001b[0m\u001b[32m\t\t0.39\u001b[0m/\u001b[35m0.1643\u001b[0m\t\t\u001b[36m7.0593 s\u001b[0m\n",
      " 12\t  \u001b[32m0.97\u001b[0m/\u001b[31m0.0075\u001b[0m\u001b[32m\t\t0.46\u001b[0m/\u001b[31m0.1511\u001b[0m\t\t\u001b[36m6.9980 s\u001b[0m\n",
      " 13\t  \u001b[32m0.97\u001b[0m/\u001b[31m0.0075\u001b[0m\u001b[32m\t\t0.50\u001b[0m/\u001b[31m0.1411\u001b[0m\t\t\u001b[36m6.9675 s\u001b[0m\n",
      " 14\t  \u001b[32m0.97\u001b[0m/\u001b[31m0.0072\u001b[0m\u001b[32m\t\t0.47\u001b[0m/\u001b[35m0.1479\u001b[0m\t\t\u001b[36m6.8459 s\u001b[0m\n",
      " 15\t  \u001b[32m0.97\u001b[0m/\u001b[31m0.0072\u001b[0m\u001b[32m\t\t0.45\u001b[0m/\u001b[35m0.1525\u001b[0m\t\t\u001b[36m6.9669 s\u001b[0m\n",
      " 16\t  \u001b[32m0.97\u001b[0m/\u001b[31m0.0071\u001b[0m\u001b[32m\t\t0.48\u001b[0m/\u001b[35m0.1451\u001b[0m\t\t\u001b[36m7.0500 s\u001b[0m\n",
      " 17\t  \u001b[32m0.97\u001b[0m/\u001b[31m0.0069\u001b[0m\u001b[32m\t\t0.50\u001b[0m/\u001b[31m0.1408\u001b[0m\t\t\u001b[36m10.4826 s\u001b[0m\n",
      " 18\t  \u001b[32m0.97\u001b[0m/\u001b[31m0.0068\u001b[0m\u001b[32m\t\t0.49\u001b[0m/\u001b[31m0.1406\u001b[0m\t\t\u001b[36m7.6679 s\u001b[0m\n",
      " 19\t  \u001b[32m0.98\u001b[0m/\u001b[31m0.0067\u001b[0m\u001b[32m\t\t0.49\u001b[0m/\u001b[35m0.1429\u001b[0m\t\t\u001b[36m7.8680 s\u001b[0m\n",
      " 20\t  \u001b[32m0.98\u001b[0m/\u001b[31m0.0067\u001b[0m\u001b[32m\t\t0.50\u001b[0m/\u001b[31m0.1371\u001b[0m\t\t\u001b[36m7.5531 s\u001b[0m\n",
      " 21\t  \u001b[32m0.98\u001b[0m/\u001b[31m0.0066\u001b[0m\u001b[32m\t\t0.51\u001b[0m/\u001b[35m0.1396\u001b[0m\t\t\u001b[36m7.4571 s\u001b[0m\n",
      " 22\t  \u001b[32m0.98\u001b[0m/\u001b[31m0.0064\u001b[0m\u001b[32m\t\t0.49\u001b[0m/\u001b[35m0.1438\u001b[0m\t\t\u001b[36m7.0163 s\u001b[0m\n",
      " 23\t  \u001b[32m0.98\u001b[0m/\u001b[31m0.0064\u001b[0m\u001b[32m\t\t0.48\u001b[0m/\u001b[35m0.1435\u001b[0m\t\t\u001b[36m8.0045 s\u001b[0m\n",
      " 24\t  \u001b[32m0.98\u001b[0m/\u001b[31m0.0063\u001b[0m\u001b[32m\t\t0.49\u001b[0m/\u001b[35m0.1424\u001b[0m\t\t\u001b[36m7.0985 s\u001b[0m\n",
      " 25\t  \u001b[32m0.98\u001b[0m/\u001b[31m0.0063\u001b[0m\u001b[32m\t\t0.51\u001b[0m/\u001b[35m0.1398\u001b[0m\t\t\u001b[36m9.5350 s\u001b[0m\n",
      " 26\t  \u001b[32m0.98\u001b[0m/\u001b[31m0.0063\u001b[0m\u001b[32m\t\t0.48\u001b[0m/\u001b[35m0.1464\u001b[0m\t\t\u001b[36m7.6010 s\u001b[0m\n",
      " 27\t  \u001b[32m0.98\u001b[0m/\u001b[31m0.0062\u001b[0m\u001b[32m\t\t0.49\u001b[0m/\u001b[35m0.1453\u001b[0m\t\t\u001b[36m7.4942 s\u001b[0m\n",
      " 28\t  \u001b[32m0.98\u001b[0m/\u001b[31m0.0061\u001b[0m\u001b[32m\t\t0.47\u001b[0m/\u001b[35m0.1476\u001b[0m\t\t\u001b[36m9.0251 s\u001b[0m\n",
      " 29\t  \u001b[32m0.98\u001b[0m/\u001b[35m0.0063\u001b[0m\u001b[32m\t\t0.52\u001b[0m/\u001b[31m0.1368\u001b[0m\t\t\u001b[36m7.2291 s\u001b[0m\n",
      " 30\t  \u001b[32m0.98\u001b[0m/\u001b[31m0.0061\u001b[0m\u001b[32m\t\t0.47\u001b[0m/\u001b[35m0.1504\u001b[0m\t\t\u001b[36m7.9157 s\u001b[0m\n",
      " 31\t  \u001b[32m0.98\u001b[0m/\u001b[31m0.0061\u001b[0m\u001b[32m\t\t0.46\u001b[0m/\u001b[35m0.1500\u001b[0m\t\t\u001b[36m7.1556 s\u001b[0m\n",
      " 32\t  \u001b[32m0.98\u001b[0m/\u001b[35m0.0062\u001b[0m\u001b[32m\t\t0.44\u001b[0m/\u001b[35m0.1573\u001b[0m\t\t\u001b[36m7.1056 s\u001b[0m\n",
      " 33\t  \u001b[32m0.98\u001b[0m/\u001b[31m0.0059\u001b[0m\u001b[32m\t\t0.50\u001b[0m/\u001b[35m0.1451\u001b[0m\t\t\u001b[36m6.8744 s\u001b[0m\n",
      " 34\t  \u001b[32m0.98\u001b[0m/\u001b[35m0.0059\u001b[0m\u001b[32m\t\t0.51\u001b[0m/\u001b[35m0.1416\u001b[0m\t\t\u001b[36m6.7923 s\u001b[0m\n",
      " 35\t  \u001b[32m0.98\u001b[0m/\u001b[31m0.0058\u001b[0m\u001b[32m\t\t0.51\u001b[0m/\u001b[35m0.1422\u001b[0m\t\t\u001b[36m7.0845 s\u001b[0m\n",
      " 36\t  \u001b[32m0.98\u001b[0m/\u001b[35m0.0059\u001b[0m\u001b[32m\t\t0.50\u001b[0m/\u001b[35m0.1427\u001b[0m\t\t\u001b[36m6.9103 s\u001b[0m\n",
      " 37\t  \u001b[32m0.98\u001b[0m/\u001b[35m0.0059\u001b[0m\u001b[32m\t\t0.44\u001b[0m/\u001b[35m0.1585\u001b[0m\t\t\u001b[36m6.9590 s\u001b[0m\n",
      " 38\t  \u001b[32m0.98\u001b[0m/\u001b[35m0.0060\u001b[0m\u001b[32m\t\t0.52\u001b[0m/\u001b[31m0.1362\u001b[0m\t\t\u001b[36m6.0881 s\u001b[0m\n",
      " 39\t  \u001b[32m0.98\u001b[0m/\u001b[35m0.0060\u001b[0m\u001b[32m\t\t0.48\u001b[0m/\u001b[35m0.1483\u001b[0m\t\t\u001b[36m5.9943 s\u001b[0m\n",
      " 40\t  \u001b[32m0.98\u001b[0m/\u001b[35m0.0059\u001b[0m\u001b[32m\t\t0.45\u001b[0m/\u001b[35m0.1543\u001b[0m\t\t\u001b[36m6.1592 s\u001b[0m\n",
      " 41\t  \u001b[32m0.98\u001b[0m/\u001b[31m0.0056\u001b[0m\u001b[32m\t\t0.48\u001b[0m/\u001b[35m0.1461\u001b[0m\t\t\u001b[36m6.7139 s\u001b[0m\n",
      " 42\t  \u001b[32m0.98\u001b[0m/\u001b[35m0.0057\u001b[0m\u001b[32m\t\t0.47\u001b[0m/\u001b[35m0.1458\u001b[0m\t\t\u001b[36m6.9885 s\u001b[0m\n",
      " 43\t  \u001b[32m0.98\u001b[0m/\u001b[35m0.0058\u001b[0m\u001b[32m\t\t0.52\u001b[0m/\u001b[31m0.1361\u001b[0m\t\t\u001b[36m5.9514 s\u001b[0m\n",
      " 44\t  \u001b[32m0.98\u001b[0m/\u001b[35m0.0057\u001b[0m\u001b[32m\t\t0.47\u001b[0m/\u001b[35m0.1540\u001b[0m\t\t\u001b[36m6.0780 s\u001b[0m\n",
      " 45\t  \u001b[32m0.98\u001b[0m/\u001b[35m0.0057\u001b[0m\u001b[32m\t\t0.51\u001b[0m/\u001b[35m0.1435\u001b[0m\t\t\u001b[36m6.0061 s\u001b[0m\n",
      " 46\t  \u001b[32m0.98\u001b[0m/\u001b[31m0.0055\u001b[0m\u001b[32m\t\t0.47\u001b[0m/\u001b[35m0.1496\u001b[0m\t\t\u001b[36m8.9475 s\u001b[0m\n",
      " 47\t  \u001b[32m0.98\u001b[0m/\u001b[31m0.0055\u001b[0m\u001b[32m\t\t0.47\u001b[0m/\u001b[35m0.1499\u001b[0m\t\t\u001b[36m11.1753 s\u001b[0m\n",
      " 48\t  \u001b[32m0.98\u001b[0m/\u001b[31m0.0054\u001b[0m\u001b[32m\t\t0.49\u001b[0m/\u001b[35m0.1421\u001b[0m\t\t\u001b[36m7.9444 s\u001b[0m\n",
      " 49\t  \u001b[32m0.98\u001b[0m/\u001b[35m0.0054\u001b[0m\u001b[32m\t\t0.47\u001b[0m/\u001b[35m0.1494\u001b[0m\t\t\u001b[36m7.7454 s\u001b[0m\n",
      " 50\t  \u001b[32m0.98\u001b[0m/\u001b[35m0.0055\u001b[0m\u001b[32m\t\t0.50\u001b[0m/\u001b[35m0.1410\u001b[0m\t\t\u001b[36m8.5635 s\u001b[0m\n",
      " 51\t  \u001b[32m0.98\u001b[0m/\u001b[35m0.0056\u001b[0m\u001b[32m\t\t0.46\u001b[0m/\u001b[35m0.1562\u001b[0m\t\t\u001b[36m9.7438 s\u001b[0m\n",
      " 52\t  \u001b[32m0.98\u001b[0m/\u001b[31m0.0054\u001b[0m\u001b[32m\t\t0.48\u001b[0m/\u001b[35m0.1454\u001b[0m\t\t\u001b[36m6.8964 s\u001b[0m\n",
      " 53\t  \u001b[32m0.98\u001b[0m/\u001b[35m0.0054\u001b[0m\u001b[32m\t\t0.48\u001b[0m/\u001b[35m0.1488\u001b[0m\t\t\u001b[36m7.0926 s\u001b[0m\n",
      " 54\t  \u001b[32m0.98\u001b[0m/\u001b[31m0.0053\u001b[0m\u001b[32m\t\t0.48\u001b[0m/\u001b[35m0.1459\u001b[0m\t\t\u001b[36m6.9682 s\u001b[0m\n",
      " 55\t  \u001b[32m0.98\u001b[0m/\u001b[35m0.0053\u001b[0m\u001b[32m\t\t0.48\u001b[0m/\u001b[35m0.1464\u001b[0m\t\t\u001b[36m7.1042 s\u001b[0m\n",
      " 56\t  \u001b[32m0.98\u001b[0m/\u001b[35m0.0054\u001b[0m\u001b[32m\t\t0.52\u001b[0m/\u001b[35m0.1366\u001b[0m\t\t\u001b[36m7.0520 s\u001b[0m\n",
      " 57\t  \u001b[32m0.98\u001b[0m/\u001b[31m0.0053\u001b[0m\u001b[32m\t\t0.50\u001b[0m/\u001b[35m0.1397\u001b[0m\t\t\u001b[36m6.8138 s\u001b[0m\n",
      " 58\t  \u001b[32m0.98\u001b[0m/\u001b[31m0.0052\u001b[0m\u001b[32m\t\t0.47\u001b[0m/\u001b[35m0.1508\u001b[0m\t\t\u001b[36m7.2391 s\u001b[0m\n",
      " 59\t  \u001b[32m0.98\u001b[0m/\u001b[35m0.0052\u001b[0m\u001b[32m\t\t0.46\u001b[0m/\u001b[35m0.1499\u001b[0m\t\t\u001b[36m7.0785 s\u001b[0m\n",
      " 60\t  \u001b[32m0.98\u001b[0m/\u001b[35m0.0052\u001b[0m\u001b[32m\t\t0.48\u001b[0m/\u001b[35m0.1462\u001b[0m\t\t\u001b[36m7.5275 s\u001b[0m\n",
      " 61\t  \u001b[32m0.98\u001b[0m/\u001b[31m0.0051\u001b[0m\u001b[32m\t\t0.46\u001b[0m/\u001b[35m0.1488\u001b[0m\t\t\u001b[36m7.0295 s\u001b[0m\n",
      " 62\t  \u001b[32m0.98\u001b[0m/\u001b[35m0.0051\u001b[0m\u001b[32m\t\t0.46\u001b[0m/\u001b[35m0.1515\u001b[0m\t\t\u001b[36m7.9129 s\u001b[0m\n",
      " 63\t  \u001b[32m0.98\u001b[0m/\u001b[35m0.0053\u001b[0m\u001b[32m\t\t0.49\u001b[0m/\u001b[35m0.1476\u001b[0m\t\t\u001b[36m6.9262 s\u001b[0m\n",
      " 64\t  \u001b[32m0.98\u001b[0m/\u001b[35m0.0051\u001b[0m\u001b[32m\t\t0.50\u001b[0m/\u001b[35m0.1431\u001b[0m\t\t\u001b[36m6.5745 s\u001b[0m\n",
      " 65\t  \u001b[32m0.98\u001b[0m/\u001b[35m0.0053\u001b[0m\u001b[32m\t\t0.45\u001b[0m/\u001b[35m0.1578\u001b[0m\t\t\u001b[36m6.7816 s\u001b[0m\n",
      " 66\t  \u001b[32m0.98\u001b[0m/\u001b[31m0.0050\u001b[0m\u001b[32m\t\t0.46\u001b[0m/\u001b[35m0.1482\u001b[0m\t\t\u001b[36m6.7957 s\u001b[0m\n",
      " 67\t  \u001b[32m0.98\u001b[0m/\u001b[35m0.0051\u001b[0m\u001b[32m\t\t0.49\u001b[0m/\u001b[35m0.1456\u001b[0m\t\t\u001b[36m6.8407 s\u001b[0m\n",
      " 68\t  \u001b[32m0.98\u001b[0m/\u001b[31m0.0050\u001b[0m\u001b[32m\t\t0.47\u001b[0m/\u001b[35m0.1461\u001b[0m\t\t\u001b[36m6.9575 s\u001b[0m\n",
      " 69\t  \u001b[32m0.98\u001b[0m/\u001b[35m0.0051\u001b[0m\u001b[32m\t\t0.46\u001b[0m/\u001b[35m0.1528\u001b[0m\t\t\u001b[36m6.8546 s\u001b[0m\n",
      " 70\t  \u001b[32m0.98\u001b[0m/\u001b[35m0.0050\u001b[0m\u001b[32m\t\t0.47\u001b[0m/\u001b[35m0.1509\u001b[0m\t\t\u001b[36m6.9380 s\u001b[0m\n",
      " 71\t  \u001b[32m0.98\u001b[0m/\u001b[35m0.0051\u001b[0m\u001b[32m\t\t0.47\u001b[0m/\u001b[35m0.1504\u001b[0m\t\t\u001b[36m6.2617 s\u001b[0m\n",
      " 72\t  \u001b[32m0.98\u001b[0m/\u001b[31m0.0049\u001b[0m\u001b[32m\t\t0.49\u001b[0m/\u001b[35m0.1431\u001b[0m\t\t\u001b[36m6.9965 s\u001b[0m\n",
      " 73\t  \u001b[32m0.98\u001b[0m/\u001b[35m0.0049\u001b[0m\u001b[32m\t\t0.48\u001b[0m/\u001b[35m0.1474\u001b[0m\t\t\u001b[36m6.8549 s\u001b[0m\n",
      " 74\t  \u001b[32m0.98\u001b[0m/\u001b[35m0.0050\u001b[0m\u001b[32m\t\t0.49\u001b[0m/\u001b[35m0.1433\u001b[0m\t\t\u001b[36m7.0267 s\u001b[0m\n"
     ]
    }
   ],
   "source": [
    "#net.fit(x=dataset['x'], y=dataset['y'], x_val=dataset['x_val'], y_val=dataset['y_val'], learning_rate=0.07, n_epoch=100, req_acc=0.8, batch_size=10) # speech\n",
    "net_sz.fit(x=dataset_sz['x'], y=dataset_sz['y'], x_val=dataset_sz['x_val'], y_val=dataset_sz['y_val'], learning_rate=0.03, n_epoch=100, req_acc=1.0, batch_size=1) # speech"
   ]
  },
  {
   "cell_type": "code",
   "execution_count": 6,
   "metadata": {
    "collapsed": false,
    "deletable": true,
    "editable": true
   },
   "outputs": [
    {
     "name": "stdout",
     "output_type": "stream",
     "text": [
      "full: 15980 1950 1950\n",
      "sz: 116507 100 100\n"
     ]
    }
   ],
   "source": [
    "net.t_data = net.prepare_data(x=dataset['x'], y=dataset['y'])\n",
    "net.v_data = net.prepare_data(x=dataset['x_val'], y=dataset['y_val'])\n",
    "test_data = net.prepare_data(x=dataset['x_test'], y=dataset['y_test'])\n",
    "print 'full:', len(net.t_data), len(net.v_data), len(test_data)\n",
    "\n",
    "net_sz.t_data = net_sz.prepare_data(x=dataset_sz['x'], y=dataset_sz['y'])\n",
    "net_sz.v_data = net_sz.prepare_data(x=dataset_sz['x_val'], y=dataset_sz['y_val'])\n",
    "test_data_sz = net_sz.prepare_data(x=dataset_sz['x_test'], y=dataset_sz['y_test'])\n",
    "print 'sz:', len(net_sz.t_data), len(net_sz.v_data), len(test_data_sz)"
   ]
  },
  {
   "cell_type": "code",
   "execution_count": 7,
   "metadata": {
    "collapsed": false,
    "deletable": true,
    "editable": true
   },
   "outputs": [
    {
     "name": "stdout",
     "output_type": "stream",
     "text": [
      "(440, 1) (50, 440) (50, 1)\n",
      "Acc: 0.31641025641\n"
     ]
    },
    {
     "name": "stderr",
     "output_type": "stream",
     "text": [
      "/usr/local/lib/python2.7/dist-packages/ipykernel/__main__.py:6: RuntimeWarning: invalid value encountered in divide\n"
     ]
    }
   ],
   "source": [
    "print test_data[0][0].shape, net.w[0].shape, net.b[0].shape\n",
    "labels = [label for label in net.labels if label in dataset['y_test']]\n",
    "y_pred = [net.predict(x)[0][0] for x, y in test_data]\n",
    "print 'Acc:', accuracy_score(y_true=dataset['y_test'], y_pred=y_pred)\n",
    "cm = confusion_matrix(y_true=dataset['y_test'], y_pred=y_pred)\n",
    "cm = cm.astype('float') / cm.sum(axis=1)[:, newaxis]\n",
    "plt.imshow(cm, aspect='auto', interpolation='none', vmin=0, vmax=1)\n",
    "plt.xticks(range(len(labels)), labels)\n",
    "plt.yticks(range(len(labels)), labels)\n",
    "plt.grid()\n",
    "plt.colorbar()\n",
    "plt.show()"
   ]
  },
  {
   "cell_type": "code",
   "execution_count": 37,
   "metadata": {
    "collapsed": false,
    "deletable": true,
    "editable": true
   },
   "outputs": [
    {
     "name": "stdout",
     "output_type": "stream",
     "text": [
      "[188, 45, 40] [76, 7, 3]\n",
      "33 39 [u'A', u'C', u'D', u'E', u'F', u'I', u'J', u'N', u'Q', u'R', u'S', u'T', u'U', u'Y', u'Z', u'_sil_', u'a', u'b', u'c', u'd', u'e', u'f', u'g', u'h', u'i', u'j', u'k', u'l', u'm', u'n', u'o', u'p', u'r', u's', u't', u'u', u'v', u'x', u'y', u'z']\n"
     ]
    }
   ],
   "source": [
    "print net.structure, net_sz.structure\n",
    "print net.labels.index('s'), net.labels.index('z'), net.labels"
   ]
  },
  {
   "cell_type": "code",
   "execution_count": 5,
   "metadata": {
    "collapsed": false,
    "deletable": true,
    "editable": true
   },
   "outputs": [],
   "source": [
    "# Delete connections to s and z\n",
    "net.w_is[1][net.labels.index('s'),:] = 0\n",
    "net.w_is[1][net.labels.index('z'),:] = 0\n",
    "net.w[1][net.labels.index('s'),:] = 0\n",
    "net.w[1][net.labels.index('z'),:] = 0\n",
    "net.b_is[1][net.labels.index('s')] = 0\n",
    "net.b_is[1][net.labels.index('z')] = 0\n",
    "net.b[1][net.labels.index('s')] = 0\n",
    "net.b[1][net.labels.index('z')] = 0"
   ]
  },
  {
   "cell_type": "code",
   "execution_count": 6,
   "metadata": {
    "collapsed": false,
    "deletable": true,
    "editable": true
   },
   "outputs": [
    {
     "name": "stdout",
     "output_type": "stream",
     "text": [
      "(52, 226) 226 [188, 45, 40] [76, 7, 3]\n"
     ]
    }
   ],
   "source": [
    "# Merge nets\n",
    "tmp_1 = net.w[1].copy()\n",
    "z_1 = zeros(shape=(net.w[1].shape[0], net_sz.structure[1]))\n",
    "z_1[net.labels.index('s'),:] = net_sz.w[1][1]\n",
    "z_1[net.labels.index('z'),:] = net_sz.w[1][2]\n",
    "net.w[1] = concatenate((tmp_1, z_1), axis=1)\n",
    "net.b[1][net.labels.index('s')] = net_sz.b[1][1]\n",
    "net.b[1][net.labels.index('z')] = net_sz.b[1][2]\n",
    "\n",
    "used_features_new = [(i, ff) for i, ff in enumerate(sorted(unique([f[1] for f in net.used_features]+[f[1] for f in net_sz.used_features])))]\n",
    "features = [f[1] for f in used_features_new]\n",
    "w_0 = zeros(shape=(net.structure[1]+net_sz.structure[1], len(used_features_new)))\n",
    "b_0 = zeros(shape=(net.structure[1]+net_sz.structure[1], 1))\n",
    "for row in range(net.w[0].shape[0]):\n",
    "    for col in range(net.w[0].shape[1]):\n",
    "        w_0[row,features.index(net.used_features[col][1])] = net.w[0][row,col]\n",
    "    b_0[row] = net.b[0][row]\n",
    "        \n",
    "for row in range(net_sz.w[0].shape[0]):\n",
    "    for col in range(net_sz.w[0].shape[1]):\n",
    "        w_0[net.w[0].shape[0]+row,features.index(net_sz.used_features[col][1])] = net_sz.w[0][row,col]\n",
    "    b_0[net.w[0].shape[0]+row] = net_sz.b[0][row]\n",
    "    \n",
    "print w_0.shape, len(features), net.structure, net_sz.structure\n",
    "\n",
    "net.used_features = used_features_new\n",
    "net.w[0] = w_0\n",
    "net.b[0] = b_0\n"
   ]
  },
  {
   "cell_type": "code",
   "execution_count": 9,
   "metadata": {
    "collapsed": false,
    "deletable": true,
    "editable": true
   },
   "outputs": [
    {
     "name": "stdout",
     "output_type": "stream",
     "text": [
      "\u001b[34m\n",
      "--------------------------------------------------------------------\u001b[0m\n",
      "\u001b[34m-- Net dumped as ../examples/speech/net_speech_tailored.net\u001b[0m\n"
     ]
    }
   ],
   "source": [
    "net.dump('../examples/speech/net_speech_tailored.net')"
   ]
  }
 ],
 "metadata": {
  "kernelspec": {
   "display_name": "Python 2",
   "language": "python",
   "name": "python2"
  },
  "language_info": {
   "codemirror_mode": {
    "name": "ipython",
    "version": 2
   },
   "file_extension": ".py",
   "mimetype": "text/x-python",
   "name": "python",
   "nbconvert_exporter": "python",
   "pygments_lexer": "ipython2",
   "version": "2.7.12"
  }
 },
 "nbformat": 4,
 "nbformat_minor": 2
}
