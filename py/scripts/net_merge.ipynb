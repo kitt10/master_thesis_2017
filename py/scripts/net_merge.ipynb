{
 "cells": [
  {
   "cell_type": "code",
   "execution_count": 1,
   "metadata": {
    "collapsed": true
   },
   "outputs": [],
   "source": [
    "from kitt_net import FeedForwardNet\n",
    "from shelve import open as open_shelve\n",
    "from sklearn.metrics import confusion_matrix, accuracy_score\n",
    "from matplotlib import pyplot as plt\n",
    "%matplotlib qt\n",
    "from numpy import newaxis, delete, zeros, concatenate, unique"
   ]
  },
  {
   "cell_type": "code",
   "execution_count": 2,
   "metadata": {
    "collapsed": true
   },
   "outputs": [],
   "source": [
    "net = FeedForwardNet(hidden=[], tf_name='Sigmoid')\n",
    "net_sz = FeedForwardNet(hidden=[], tf_name='Sigmoid')"
   ]
  },
  {
   "cell_type": "code",
   "execution_count": 3,
   "metadata": {
    "collapsed": true
   },
   "outputs": [],
   "source": [
    "net.load('../examples/speech/net_speech_pruned.net')\n",
    "net_sz.load('../examples/speech/net_speech_sz_pruned.net')"
   ]
  },
  {
   "cell_type": "code",
   "execution_count": 4,
   "metadata": {
    "collapsed": true
   },
   "outputs": [],
   "source": [
    "dataset = open_shelve('../examples/speech/dataset_speech_bs2_cs5_ds811_nr500.ds', 'c')\n",
    "dataset_sz = open_shelve('../examples/speech/dataset_speech_sz.ds', 'c')"
   ]
  },
  {
   "cell_type": "code",
   "execution_count": 7,
   "metadata": {
    "collapsed": false
   },
   "outputs": [
    {
     "name": "stdout",
     "output_type": "stream",
     "text": [
      "full: 48157 6332 5786\n",
      "sz: 48157 185 5786\n"
     ]
    }
   ],
   "source": [
    "net.t_data = net.prepare_data(x=dataset['x'], y=dataset['y'])\n",
    "net.v_data = net.prepare_data(x=dataset['x_val'], y=dataset['y_val'])\n",
    "test_data = net.prepare_data(x=dataset['x_test'], y=dataset['y_test'])\n",
    "print 'full:', len(net.t_data), len(net.v_data), len(test_data)\n",
    "\n",
    "net_sz.t_data = net_sz.prepare_data(x=dataset_sz['x'], y=dataset_sz['y'])\n",
    "net_sz.v_data = net_sz.prepare_data(x=dataset_sz['x_val'], y=dataset_sz['y_val'])\n",
    "test_data_sz = net_sz.prepare_data(x=dataset_sz['x_test'], y=dataset_sz['y_test'])\n",
    "print 'sz:', len(net_sz.t_data), len(net_sz.v_data), len(test_data_sz)"
   ]
  },
  {
   "cell_type": "code",
   "execution_count": 8,
   "metadata": {
    "collapsed": false
   },
   "outputs": [
    {
     "name": "stdout",
     "output_type": "stream",
     "text": [
      "(226, 1) (52, 226) (52, 1)\n",
      "Acc: 0.622191496716\n"
     ]
    }
   ],
   "source": [
    "print test_data[0][0].shape, net.w[0].shape, net.b[0].shape\n",
    "labels = [label for label in net.labels if label in dataset['y_test']]\n",
    "y_pred = [net.predict(x)[0][0] for x, y in test_data]\n",
    "print 'Acc:', accuracy_score(y_true=dataset['y_test'], y_pred=y_pred)\n",
    "cm = confusion_matrix(y_true=dataset['y_test'], y_pred=y_pred)\n",
    "cm = cm.astype('float') / cm.sum(axis=1)[:, newaxis]\n",
    "plt.imshow(cm, aspect='auto', interpolation='none', vmin=0, vmax=1)\n",
    "plt.xticks(range(len(labels)), labels)\n",
    "plt.yticks(range(len(labels)), labels)\n",
    "plt.grid()\n",
    "plt.colorbar()\n",
    "plt.show()"
   ]
  },
  {
   "cell_type": "code",
   "execution_count": 37,
   "metadata": {
    "collapsed": false
   },
   "outputs": [
    {
     "name": "stdout",
     "output_type": "stream",
     "text": [
      "[188, 45, 40] [76, 7, 3]\n",
      "33 39 [u'A', u'C', u'D', u'E', u'F', u'I', u'J', u'N', u'Q', u'R', u'S', u'T', u'U', u'Y', u'Z', u'_sil_', u'a', u'b', u'c', u'd', u'e', u'f', u'g', u'h', u'i', u'j', u'k', u'l', u'm', u'n', u'o', u'p', u'r', u's', u't', u'u', u'v', u'x', u'y', u'z']\n"
     ]
    }
   ],
   "source": [
    "print net.structure, net_sz.structure\n",
    "print net.labels.index('s'), net.labels.index('z'), net.labels"
   ]
  },
  {
   "cell_type": "code",
   "execution_count": 5,
   "metadata": {
    "collapsed": false
   },
   "outputs": [],
   "source": [
    "# Delete connections to s and z\n",
    "net.w_is[1][net.labels.index('s'),:] = 0\n",
    "net.w_is[1][net.labels.index('z'),:] = 0\n",
    "net.w[1][net.labels.index('s'),:] = 0\n",
    "net.w[1][net.labels.index('z'),:] = 0\n",
    "net.b_is[1][net.labels.index('s')] = 0\n",
    "net.b_is[1][net.labels.index('z')] = 0\n",
    "net.b[1][net.labels.index('s')] = 0\n",
    "net.b[1][net.labels.index('z')] = 0"
   ]
  },
  {
   "cell_type": "code",
   "execution_count": 6,
   "metadata": {
    "collapsed": false
   },
   "outputs": [
    {
     "name": "stdout",
     "output_type": "stream",
     "text": [
      "(52, 226) 226 [188, 45, 40] [76, 7, 3]\n"
     ]
    }
   ],
   "source": [
    "# Merge nets\n",
    "tmp_1 = net.w[1].copy()\n",
    "z_1 = zeros(shape=(net.w[1].shape[0], net_sz.structure[1]))\n",
    "z_1[net.labels.index('s'),:] = net_sz.w[1][1]\n",
    "z_1[net.labels.index('z'),:] = net_sz.w[1][2]\n",
    "net.w[1] = concatenate((tmp_1, z_1), axis=1)\n",
    "net.b[1][net.labels.index('s')] = net_sz.b[1][1]\n",
    "net.b[1][net.labels.index('z')] = net_sz.b[1][2]\n",
    "\n",
    "used_features_new = [(i, ff) for i, ff in enumerate(sorted(unique([f[1] for f in net.used_features]+[f[1] for f in net_sz.used_features])))]\n",
    "features = [f[1] for f in used_features_new]\n",
    "w_0 = zeros(shape=(net.structure[1]+net_sz.structure[1], len(used_features_new)))\n",
    "b_0 = zeros(shape=(net.structure[1]+net_sz.structure[1], 1))\n",
    "for row in range(net.w[0].shape[0]):\n",
    "    for col in range(net.w[0].shape[1]):\n",
    "        w_0[row,features.index(net.used_features[col][1])] = net.w[0][row,col]\n",
    "    b_0[row] = net.b[0][row]\n",
    "        \n",
    "for row in range(net_sz.w[0].shape[0]):\n",
    "    for col in range(net_sz.w[0].shape[1]):\n",
    "        w_0[net.w[0].shape[0]+row,features.index(net_sz.used_features[col][1])] = net_sz.w[0][row,col]\n",
    "    b_0[net.w[0].shape[0]+row] = net_sz.b[0][row]\n",
    "    \n",
    "print w_0.shape, len(features), net.structure, net_sz.structure\n",
    "\n",
    "net.used_features = used_features_new\n",
    "net.w[0] = w_0\n",
    "net.b[0] = b_0\n"
   ]
  },
  {
   "cell_type": "code",
   "execution_count": 9,
   "metadata": {
    "collapsed": false
   },
   "outputs": [
    {
     "name": "stdout",
     "output_type": "stream",
     "text": [
      "\u001b[34m\n",
      "--------------------------------------------------------------------\u001b[0m\n",
      "\u001b[34m-- Net dumped as ../examples/speech/net_speech_tailored.net\u001b[0m\n"
     ]
    }
   ],
   "source": [
    "net.dump('../examples/speech/net_speech_tailored.net')"
   ]
  }
 ],
 "metadata": {
  "kernelspec": {
   "display_name": "Python 2",
   "language": "python",
   "name": "python2"
  },
  "language_info": {
   "codemirror_mode": {
    "name": "ipython",
    "version": 2
   },
   "file_extension": ".py",
   "mimetype": "text/x-python",
   "name": "python",
   "nbconvert_exporter": "python",
   "pygments_lexer": "ipython2",
   "version": "2.7.12"
  }
 },
 "nbformat": 4,
 "nbformat_minor": 2
}
