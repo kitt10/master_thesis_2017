{
 "cells": [
  {
   "cell_type": "code",
   "execution_count": 1,
   "metadata": {
    "collapsed": true,
    "deletable": true,
    "editable": true
   },
   "outputs": [],
   "source": [
    "from shelve import open as open_shelve\n",
    "from numpy import unique"
   ]
  },
  {
   "cell_type": "code",
   "execution_count": 2,
   "metadata": {
    "collapsed": true,
    "deletable": true,
    "editable": true
   },
   "outputs": [],
   "source": [
    "dataset = open_shelve('../examples/mnist/dataset_mnist.ds')\n",
    "ph_keep = (4, 9)\n",
    "na = str(ph_keep)[1:-1].replace(' ', '').replace('\\'', '').replace(',', '+')\n",
    "dataset_new = open_shelve('../examples/mnist/dataset_mnist_'+na+'.ds')"
   ]
  },
  {
   "cell_type": "code",
   "execution_count": 3,
   "metadata": {
    "collapsed": true,
    "deletable": true,
    "editable": true
   },
   "outputs": [],
   "source": [
    "for group in ('', '_test'):\n",
    "    tmp_x = list()\n",
    "    tmp_y = list()\n",
    "    for x, y in zip(dataset['x'+group], dataset['y'+group]):\n",
    "        #tmp_x.append(x)\n",
    "        if y in ph_keep:\n",
    "            tmp_y.append(y)\n",
    "            tmp_x.append(x)\n",
    "        '''\n",
    "        else:\n",
    "            tmp_y.append('%')\n",
    "        '''\n",
    "    dataset_new['x'+group] = tmp_x\n",
    "    dataset_new['y'+group] = tmp_y\n",
    "\n",
    "tmp_x = list()\n",
    "tmp_y = list()\n",
    "for x, y in zip(dataset['x_val'], dataset['y_val']):\n",
    "    if y in ph_keep:\n",
    "        tmp_y.append(y)\n",
    "        tmp_x.append(x)\n",
    "dataset_new['x_val'] = tmp_x\n",
    "dataset_new['y_val'] = tmp_y"
   ]
  },
  {
   "cell_type": "code",
   "execution_count": 5,
   "metadata": {
    "collapsed": false,
    "deletable": true,
    "editable": true
   },
   "outputs": [
    {
     "name": "stdout",
     "output_type": "stream",
     "text": [
      "\n",
      "samples:\n"
     ]
    },
    {
     "ename": "TypeError",
     "evalue": "ufunc 'add' did not contain a loop with signature matching types dtype('S21') dtype('S21') dtype('S21')",
     "output_type": "error",
     "traceback": [
      "\u001b[0;31m--------------------------------------------------------------------------\u001b[0m",
      "\u001b[0;31mTypeError\u001b[0m                                Traceback (most recent call last)",
      "\u001b[0;32m<ipython-input-5-8bb0a0f12067>\u001b[0m in \u001b[0;36m<module>\u001b[0;34m()\u001b[0m\n\u001b[1;32m      3\u001b[0m     \u001b[0;32mprint\u001b[0m \u001b[0;34m'\\nsamples'\u001b[0m\u001b[0;34m+\u001b[0m\u001b[0mgroup\u001b[0m\u001b[0;34m+\u001b[0m\u001b[0;34m':'\u001b[0m\u001b[0;34m\u001b[0m\u001b[0m\n\u001b[1;32m      4\u001b[0m     \u001b[0;32mfor\u001b[0m \u001b[0mcl\u001b[0m \u001b[0;32min\u001b[0m \u001b[0mclasses\u001b[0m\u001b[0;34m:\u001b[0m\u001b[0;34m\u001b[0m\u001b[0m\n\u001b[0;32m----> 5\u001b[0;31m         \u001b[0;32mprint\u001b[0m \u001b[0mcl\u001b[0m\u001b[0;34m+\u001b[0m\u001b[0;34m':'\u001b[0m\u001b[0;34m,\u001b[0m \u001b[0mlen\u001b[0m\u001b[0;34m(\u001b[0m\u001b[0;34m[\u001b[0m\u001b[0my\u001b[0m \u001b[0;32mfor\u001b[0m \u001b[0my\u001b[0m \u001b[0;32min\u001b[0m \u001b[0mdataset_new\u001b[0m\u001b[0;34m[\u001b[0m\u001b[0;34m'y'\u001b[0m\u001b[0;34m+\u001b[0m\u001b[0mgroup\u001b[0m\u001b[0;34m]\u001b[0m \u001b[0;32mif\u001b[0m \u001b[0my\u001b[0m \u001b[0;34m==\u001b[0m \u001b[0mcl\u001b[0m\u001b[0;34m]\u001b[0m\u001b[0;34m)\u001b[0m\u001b[0;34m\u001b[0m\u001b[0m\n\u001b[0m\u001b[1;32m      6\u001b[0m \u001b[0;34m\u001b[0m\u001b[0m\n",
      "\u001b[0;31mTypeError\u001b[0m: ufunc 'add' did not contain a loop with signature matching types dtype('S21') dtype('S21') dtype('S21')"
     ]
    }
   ],
   "source": [
    "classes = unique(dataset_new['y_test'])\n",
    "for group in ('', '_val', '_test'):\n",
    "    print '\\nsamples'+group+':'\n",
    "    for cl in classes:\n",
    "        print cl+':', len([y for y in dataset_new['y'+group] if y == cl])\n",
    "    "
   ]
  },
  {
   "cell_type": "code",
   "execution_count": 6,
   "metadata": {
    "collapsed": true,
    "deletable": true,
    "editable": true
   },
   "outputs": [],
   "source": [
    "dataset_new.close()\n",
    "dataset.close()"
   ]
  }
 ],
 "metadata": {
  "kernelspec": {
   "display_name": "Python 2",
   "language": "python",
   "name": "python2"
  },
  "language_info": {
   "codemirror_mode": {
    "name": "ipython",
    "version": 2
   },
   "file_extension": ".py",
   "mimetype": "text/x-python",
   "name": "python",
   "nbconvert_exporter": "python",
   "pygments_lexer": "ipython2",
   "version": "2.7.12"
  }
 },
 "nbformat": 4,
 "nbformat_minor": 0
}
