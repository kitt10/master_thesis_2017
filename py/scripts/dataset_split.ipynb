{
 "cells": [
  {
   "cell_type": "code",
   "execution_count": null,
   "metadata": {
    "collapsed": true,
    "deletable": true,
    "editable": true
   },
   "outputs": [],
   "source": [
    "from shelve import open as open_shelve\n",
    "from numpy import unique"
   ]
  },
  {
   "cell_type": "code",
   "execution_count": null,
   "metadata": {
    "collapsed": true,
    "deletable": true,
    "editable": true
   },
   "outputs": [],
   "source": [
    "dataset = open_shelve('../examples/speech/dataset_speech_500.ds')\n",
    "ph_keep = ('s', 'z')\n",
    "na = str(ph_keep)[1:-1].replace(' ', '').replace('\\'', '').replace(',', '+')\n",
    "dataset_new = open_shelve('../examples/speech/dataset_speech_'+na+'.ds')"
   ]
  },
  {
   "cell_type": "code",
   "execution_count": null,
   "metadata": {
    "collapsed": true,
    "deletable": true,
    "editable": true
   },
   "outputs": [],
   "source": [
    "for group in ('', '_test'):\n",
    "    tmp_x = list()\n",
    "    tmp_y = list()\n",
    "    for x, y in zip(dataset['x'+group], dataset['y'+group]):\n",
    "        tmp_x.append(x)\n",
    "        if y in ph_keep:\n",
    "            tmp_y.append(y)\n",
    "        else:\n",
    "            tmp_y.append('%')\n",
    "    dataset_new['x'+group] = tmp_x\n",
    "    dataset_new['y'+group] = tmp_y\n",
    "\n",
    "tmp_x = list()\n",
    "tmp_y = list()\n",
    "for x, y in zip(dataset['x_val'], dataset['y_val']):\n",
    "    if y in ph_keep:\n",
    "        tmp_y.append(y)\n",
    "        tmp_x.append(x)"
   ]
  },
  {
   "cell_type": "code",
   "execution_count": null,
   "metadata": {
    "collapsed": true
   },
   "outputs": [],
   "source": [
    "classes = unique(dataset_new['y_test'])\n",
    "for group in ('', '_val', '_test'):\n",
    "    print '\\nsamples'+group+':'\n",
    "    for cl in classes:\n",
    "        print cl+':', len([y for y in dataset_new['y'+group] if y == cl])\n",
    "    "
   ]
  },
  {
   "cell_type": "code",
   "execution_count": null,
   "metadata": {
    "collapsed": true,
    "deletable": true,
    "editable": true
   },
   "outputs": [],
   "source": [
    "dataset_new.close()\n",
    "dataset.close()"
   ]
  }
 ],
 "metadata": {
  "kernelspec": {
   "display_name": "Python 2",
   "language": "python",
   "name": "python2"
  },
  "language_info": {
   "codemirror_mode": {
    "name": "ipython",
    "version": 2
   },
   "file_extension": ".py",
   "mimetype": "text/x-python",
   "name": "python",
   "nbconvert_exporter": "python",
   "pygments_lexer": "ipython2",
   "version": "2.7.12"
  }
 },
 "nbformat": 4,
 "nbformat_minor": 0
}
