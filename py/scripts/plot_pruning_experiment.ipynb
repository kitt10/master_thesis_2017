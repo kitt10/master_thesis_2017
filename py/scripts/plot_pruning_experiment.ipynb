{
 "cells": [
  {
   "cell_type": "code",
   "execution_count": 65,
   "metadata": {
    "collapsed": true,
    "deletable": true,
    "editable": true
   },
   "outputs": [],
   "source": [
    "from matplotlib import pyplot as plt, rcParams as mpl_params\n",
    "%matplotlib qt\n",
    "mpl_params['axes.labelsize'] = 18\n",
    "mpl_params['xtick.labelsize'] = 15\n",
    "mpl_params['ytick.labelsize'] = 15\n",
    "mpl_params['legend.fontsize'] = 13\n",
    "from numpy import mean, var, std, arange\n",
    "from cPickle import dump as dump_cpickle, load as load_cpickle"
   ]
  },
  {
   "cell_type": "code",
   "execution_count": 24,
   "metadata": {
    "collapsed": false,
    "deletable": true,
    "editable": true
   },
   "outputs": [],
   "source": [
    "with open('../examples/mnist/experiment_mnist_5_retraining_random.stats', 'r') as f:\n",
    "    stats_pack = load_cpickle(f)\n",
    "data_random = stats_pack['data']\n",
    "with open('../examples/mnist/experiment_mnist_5_retraining_magnitude.stats', 'r') as f:\n",
    "    stats_pack = load_cpickle(f)\n",
    "data_magnitude = stats_pack['data']\n",
    "with open('../examples/mnist/experiment_mnist_5_retraining_karnin.stats', 'r') as f:\n",
    "    stats_pack = load_cpickle(f)\n",
    "data_karnin = stats_pack['data']\n",
    "with open('../examples/mnist/experiment_mnist_5_retraining_obd.stats', 'r') as f:\n",
    "    stats_pack = load_cpickle(f)\n",
    "data_obd = stats_pack['data']\n",
    "with open('../examples/mnist/experiment_mnist_5_retraining_kitt.stats', 'r') as f:\n",
    "    stats_pack = load_cpickle(f)\n",
    "data_kitt = stats_pack['data']"
   ]
  },
  {
   "cell_type": "code",
   "execution_count": 36,
   "metadata": {
    "collapsed": false,
    "deletable": true,
    "editable": true
   },
   "outputs": [
    {
     "name": "stdout",
     "output_type": "stream",
     "text": [
      "random 6083.8 783.8 19.9\n",
      "magnitude 1166.1 586.2 19.8\n",
      "karnin 879.3 288.7 19.0\n",
      "obd 853.9 281.7 17.9\n",
      "kitt 649.6 313.3 18.6\n"
     ]
    }
   ],
   "source": [
    "print 'random', mean([job['n_synapses'][-1][0] for job in data_random]), mean([job['structure'][-1][0] for job in data_random]), mean([job['structure'][-1][1] for job in data_random])\n",
    "print 'magnitude', mean([job['n_synapses'][-1][0] for job in data_magnitude]), mean([job['structure'][-1][0] for job in data_magnitude]), mean([job['structure'][-1][1] for job in data_magnitude])\n",
    "print 'karnin', mean([job['n_synapses'][-1][0] for job in data_karnin]), mean([job['structure'][-1][0] for job in data_karnin]), mean([job['structure'][-1][1] for job in data_karnin])\n",
    "print 'obd', mean([job['n_synapses'][-1][0] for job in data_obd]), mean([job['structure'][-1][0] for job in data_obd]), mean([job['structure'][-1][1] for job in data_obd])\n",
    "print 'kitt', mean([job['n_synapses'][-1][0] for job in data_kitt]), mean([job['structure'][-1][0] for job in data_kitt]), mean([job['structure'][-1][1] for job in data_kitt])"
   ]
  },
  {
   "cell_type": "code",
   "execution_count": 85,
   "metadata": {
    "collapsed": false,
    "deletable": true,
    "editable": true
   },
   "outputs": [],
   "source": [
    "_, ax1 = plt.subplots()\n",
    "ax2 = ax1.twinx()\n",
    "n_synapses_init = data_kitt[0]['n_synapses'][0][0]\n",
    "n_features_init = data_kitt[0]['structure'][0][0]\n",
    "\n",
    "for pos in arange(5)-0.4:\n",
    "    ax1.bar(pos, height=n_synapses_init, width=0.4, color='maroon', alpha=0.1)\n",
    "    \n",
    "for pos in arange(5):\n",
    "    ax2.bar(pos, height=n_features_init, width=0.4, color='darkblue', alpha=0.1)\n",
    "\n",
    "box_ax1 = ax1.boxplot([[job['n_synapses'][-1][0] for job in data] for data in (data_random, data_magnitude,\n",
    "                                                                     data_karnin, data_obd, data_kitt)], widths=[0.4]*5, positions=arange(5)-0.2, patch_artist=True)\n",
    "for box in box_ax1['boxes']:\n",
    "    box.set_facecolor('maroon')\n",
    "    box.set_color('maroon')\n",
    "    \n",
    "ax1.set_ylim([0, 16200])\n",
    "ax1.set_ylabel('number of synapses after pruning', color='maroon')\n",
    "for tl in ax1.get_yticklabels():\n",
    "    tl.set_color('maroon')\n",
    "    \n",
    "box_ax2 = ax2.boxplot([[job['structure'][-1][0] for job in data] for data in (data_random, data_magnitude,\n",
    "                                                                     data_karnin, data_obd, data_kitt)], widths=[0.4]*5, positions=arange(5)+0.2, patch_artist=True)\n",
    "\n",
    "for box in box_ax2['boxes']:\n",
    "    box.set_facecolor('darkblue')\n",
    "    box.set_color('darkblue')\n",
    "    \n",
    "ax2.set_ylim([0, 800])\n",
    "ax2.set_ylabel('number of used features', color='darkblue')\n",
    "for tl in ax2.get_yticklabels():\n",
    "    tl.set_color('darkblue')\n",
    "\n",
    "\n",
    "plt.xlim([-1, 5])\n",
    "plt.xticks(range(5), ('random', 'magnitude', 'karnin', 'obd', 'kitt'))\n",
    "ax1.set_xlabel('pruning methods')\n",
    "plt.grid()\n",
    "plt.show()"
   ]
  }
 ],
 "metadata": {
  "kernelspec": {
   "display_name": "Python 2",
   "language": "python",
   "name": "python2"
  },
  "language_info": {
   "codemirror_mode": {
    "name": "ipython",
    "version": 2
   },
   "file_extension": ".py",
   "mimetype": "text/x-python",
   "name": "python",
   "nbconvert_exporter": "python",
   "pygments_lexer": "ipython2",
   "version": "2.7.12"
  }
 },
 "nbformat": 4,
 "nbformat_minor": 2
}
